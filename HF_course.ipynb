{
  "nbformat": 4,
  "nbformat_minor": 0,
  "metadata": {
    "colab": {
      "provenance": [],
      "include_colab_link": true
    },
    "kernelspec": {
      "name": "python3",
      "display_name": "Python 3"
    },
    "language_info": {
      "name": "python"
    },
    "widgets": {
      "application/vnd.jupyter.widget-state+json": {
        "667d5bbe15d941689e3f526e8928b442": {
          "model_module": "@jupyter-widgets/controls",
          "model_name": "HBoxModel",
          "model_module_version": "1.5.0",
          "state": {
            "_view_name": "HBoxView",
            "_dom_classes": [],
            "_model_name": "HBoxModel",
            "_view_module": "@jupyter-widgets/controls",
            "_model_module_version": "1.5.0",
            "_view_count": null,
            "_view_module_version": "1.5.0",
            "box_style": "",
            "layout": "IPY_MODEL_608d93f904494d7da4d7ea5ab4ebc2d6",
            "_model_module": "@jupyter-widgets/controls",
            "children": [
              "IPY_MODEL_b64582251dd141fd8cd82ae32b818ca5",
              "IPY_MODEL_26048aaa50e846e7b1a866026864f258",
              "IPY_MODEL_bc7e83fc717646cfae88780914bcfea4"
            ]
          }
        },
        "608d93f904494d7da4d7ea5ab4ebc2d6": {
          "model_module": "@jupyter-widgets/base",
          "model_name": "LayoutModel",
          "model_module_version": "1.2.0",
          "state": {
            "_view_name": "LayoutView",
            "grid_template_rows": null,
            "right": null,
            "justify_content": null,
            "_view_module": "@jupyter-widgets/base",
            "overflow": null,
            "_model_module_version": "1.2.0",
            "_view_count": null,
            "flex_flow": null,
            "width": null,
            "min_width": null,
            "border": null,
            "align_items": null,
            "bottom": null,
            "_model_module": "@jupyter-widgets/base",
            "top": null,
            "grid_column": null,
            "overflow_y": null,
            "overflow_x": null,
            "grid_auto_flow": null,
            "grid_area": null,
            "grid_template_columns": null,
            "flex": null,
            "_model_name": "LayoutModel",
            "justify_items": null,
            "grid_row": null,
            "max_height": null,
            "align_content": null,
            "visibility": null,
            "align_self": null,
            "height": null,
            "min_height": null,
            "padding": null,
            "grid_auto_rows": null,
            "grid_gap": null,
            "max_width": null,
            "order": null,
            "_view_module_version": "1.2.0",
            "grid_template_areas": null,
            "object_position": null,
            "object_fit": null,
            "grid_auto_columns": null,
            "margin": null,
            "display": null,
            "left": null
          }
        },
        "b64582251dd141fd8cd82ae32b818ca5": {
          "model_module": "@jupyter-widgets/controls",
          "model_name": "HTMLModel",
          "model_module_version": "1.5.0",
          "state": {
            "_view_name": "HTMLView",
            "style": "IPY_MODEL_8d04fcc21a0b45cba3aed8725a3ccfcd",
            "_dom_classes": [],
            "description": "",
            "_model_name": "HTMLModel",
            "placeholder": "​",
            "_view_module": "@jupyter-widgets/controls",
            "_model_module_version": "1.5.0",
            "value": "Downloading: 100%",
            "_view_count": null,
            "_view_module_version": "1.5.0",
            "description_tooltip": null,
            "_model_module": "@jupyter-widgets/controls",
            "layout": "IPY_MODEL_606da876ec4d483b84a652979b60fa47"
          }
        },
        "26048aaa50e846e7b1a866026864f258": {
          "model_module": "@jupyter-widgets/controls",
          "model_name": "FloatProgressModel",
          "model_module_version": "1.5.0",
          "state": {
            "_view_name": "ProgressView",
            "style": "IPY_MODEL_5db439dc283e4645ac4dad63615c729e",
            "_dom_classes": [],
            "description": "",
            "_model_name": "FloatProgressModel",
            "bar_style": "success",
            "max": 107,
            "_view_module": "@jupyter-widgets/controls",
            "_model_module_version": "1.5.0",
            "value": 107,
            "_view_count": null,
            "_view_module_version": "1.5.0",
            "orientation": "horizontal",
            "min": 0,
            "description_tooltip": null,
            "_model_module": "@jupyter-widgets/controls",
            "layout": "IPY_MODEL_bfa0bd0344c14916a5280be591ba73d9"
          }
        },
        "bc7e83fc717646cfae88780914bcfea4": {
          "model_module": "@jupyter-widgets/controls",
          "model_name": "HTMLModel",
          "model_module_version": "1.5.0",
          "state": {
            "_view_name": "HTMLView",
            "style": "IPY_MODEL_665ea7f127504079a02627251c157f8e",
            "_dom_classes": [],
            "description": "",
            "_model_name": "HTMLModel",
            "placeholder": "​",
            "_view_module": "@jupyter-widgets/controls",
            "_model_module_version": "1.5.0",
            "value": " 107/107 [00:00&lt;00:00, 2.42kB/s]",
            "_view_count": null,
            "_view_module_version": "1.5.0",
            "description_tooltip": null,
            "_model_module": "@jupyter-widgets/controls",
            "layout": "IPY_MODEL_9eec5d325c384d28a43f04b0118fb1b8"
          }
        },
        "8d04fcc21a0b45cba3aed8725a3ccfcd": {
          "model_module": "@jupyter-widgets/controls",
          "model_name": "DescriptionStyleModel",
          "model_module_version": "1.5.0",
          "state": {
            "_view_name": "StyleView",
            "_model_name": "DescriptionStyleModel",
            "description_width": "",
            "_view_module": "@jupyter-widgets/base",
            "_model_module_version": "1.5.0",
            "_view_count": null,
            "_view_module_version": "1.2.0",
            "_model_module": "@jupyter-widgets/controls"
          }
        },
        "606da876ec4d483b84a652979b60fa47": {
          "model_module": "@jupyter-widgets/base",
          "model_name": "LayoutModel",
          "model_module_version": "1.2.0",
          "state": {
            "_view_name": "LayoutView",
            "grid_template_rows": null,
            "right": null,
            "justify_content": null,
            "_view_module": "@jupyter-widgets/base",
            "overflow": null,
            "_model_module_version": "1.2.0",
            "_view_count": null,
            "flex_flow": null,
            "width": null,
            "min_width": null,
            "border": null,
            "align_items": null,
            "bottom": null,
            "_model_module": "@jupyter-widgets/base",
            "top": null,
            "grid_column": null,
            "overflow_y": null,
            "overflow_x": null,
            "grid_auto_flow": null,
            "grid_area": null,
            "grid_template_columns": null,
            "flex": null,
            "_model_name": "LayoutModel",
            "justify_items": null,
            "grid_row": null,
            "max_height": null,
            "align_content": null,
            "visibility": null,
            "align_self": null,
            "height": null,
            "min_height": null,
            "padding": null,
            "grid_auto_rows": null,
            "grid_gap": null,
            "max_width": null,
            "order": null,
            "_view_module_version": "1.2.0",
            "grid_template_areas": null,
            "object_position": null,
            "object_fit": null,
            "grid_auto_columns": null,
            "margin": null,
            "display": null,
            "left": null
          }
        },
        "5db439dc283e4645ac4dad63615c729e": {
          "model_module": "@jupyter-widgets/controls",
          "model_name": "ProgressStyleModel",
          "model_module_version": "1.5.0",
          "state": {
            "_view_name": "StyleView",
            "_model_name": "ProgressStyleModel",
            "description_width": "",
            "_view_module": "@jupyter-widgets/base",
            "_model_module_version": "1.5.0",
            "_view_count": null,
            "_view_module_version": "1.2.0",
            "bar_color": null,
            "_model_module": "@jupyter-widgets/controls"
          }
        },
        "bfa0bd0344c14916a5280be591ba73d9": {
          "model_module": "@jupyter-widgets/base",
          "model_name": "LayoutModel",
          "model_module_version": "1.2.0",
          "state": {
            "_view_name": "LayoutView",
            "grid_template_rows": null,
            "right": null,
            "justify_content": null,
            "_view_module": "@jupyter-widgets/base",
            "overflow": null,
            "_model_module_version": "1.2.0",
            "_view_count": null,
            "flex_flow": null,
            "width": null,
            "min_width": null,
            "border": null,
            "align_items": null,
            "bottom": null,
            "_model_module": "@jupyter-widgets/base",
            "top": null,
            "grid_column": null,
            "overflow_y": null,
            "overflow_x": null,
            "grid_auto_flow": null,
            "grid_area": null,
            "grid_template_columns": null,
            "flex": null,
            "_model_name": "LayoutModel",
            "justify_items": null,
            "grid_row": null,
            "max_height": null,
            "align_content": null,
            "visibility": null,
            "align_self": null,
            "height": null,
            "min_height": null,
            "padding": null,
            "grid_auto_rows": null,
            "grid_gap": null,
            "max_width": null,
            "order": null,
            "_view_module_version": "1.2.0",
            "grid_template_areas": null,
            "object_position": null,
            "object_fit": null,
            "grid_auto_columns": null,
            "margin": null,
            "display": null,
            "left": null
          }
        },
        "665ea7f127504079a02627251c157f8e": {
          "model_module": "@jupyter-widgets/controls",
          "model_name": "DescriptionStyleModel",
          "model_module_version": "1.5.0",
          "state": {
            "_view_name": "StyleView",
            "_model_name": "DescriptionStyleModel",
            "description_width": "",
            "_view_module": "@jupyter-widgets/base",
            "_model_module_version": "1.5.0",
            "_view_count": null,
            "_view_module_version": "1.2.0",
            "_model_module": "@jupyter-widgets/controls"
          }
        },
        "9eec5d325c384d28a43f04b0118fb1b8": {
          "model_module": "@jupyter-widgets/base",
          "model_name": "LayoutModel",
          "model_module_version": "1.2.0",
          "state": {
            "_view_name": "LayoutView",
            "grid_template_rows": null,
            "right": null,
            "justify_content": null,
            "_view_module": "@jupyter-widgets/base",
            "overflow": null,
            "_model_module_version": "1.2.0",
            "_view_count": null,
            "flex_flow": null,
            "width": null,
            "min_width": null,
            "border": null,
            "align_items": null,
            "bottom": null,
            "_model_module": "@jupyter-widgets/base",
            "top": null,
            "grid_column": null,
            "overflow_y": null,
            "overflow_x": null,
            "grid_auto_flow": null,
            "grid_area": null,
            "grid_template_columns": null,
            "flex": null,
            "_model_name": "LayoutModel",
            "justify_items": null,
            "grid_row": null,
            "max_height": null,
            "align_content": null,
            "visibility": null,
            "align_self": null,
            "height": null,
            "min_height": null,
            "padding": null,
            "grid_auto_rows": null,
            "grid_gap": null,
            "max_width": null,
            "order": null,
            "_view_module_version": "1.2.0",
            "grid_template_areas": null,
            "object_position": null,
            "object_fit": null,
            "grid_auto_columns": null,
            "margin": null,
            "display": null,
            "left": null
          }
        },
        "227a0ed8f9354b64bb38c6b41fc8d7af": {
          "model_module": "@jupyter-widgets/controls",
          "model_name": "HBoxModel",
          "model_module_version": "1.5.0",
          "state": {
            "_view_name": "HBoxView",
            "_dom_classes": [],
            "_model_name": "HBoxModel",
            "_view_module": "@jupyter-widgets/controls",
            "_model_module_version": "1.5.0",
            "_view_count": null,
            "_view_module_version": "1.5.0",
            "box_style": "",
            "layout": "IPY_MODEL_7ecc5942de334d15b5d0b1c1842901c2",
            "_model_module": "@jupyter-widgets/controls",
            "children": [
              "IPY_MODEL_67caaa5d287f44c4b43234600a59deab",
              "IPY_MODEL_e2de66b4cf8d40b697e2a851e00d8c49",
              "IPY_MODEL_df682a64c30f462a999f60d060d99b74"
            ]
          }
        },
        "7ecc5942de334d15b5d0b1c1842901c2": {
          "model_module": "@jupyter-widgets/base",
          "model_name": "LayoutModel",
          "model_module_version": "1.2.0",
          "state": {
            "_view_name": "LayoutView",
            "grid_template_rows": null,
            "right": null,
            "justify_content": null,
            "_view_module": "@jupyter-widgets/base",
            "overflow": null,
            "_model_module_version": "1.2.0",
            "_view_count": null,
            "flex_flow": null,
            "width": null,
            "min_width": null,
            "border": null,
            "align_items": null,
            "bottom": null,
            "_model_module": "@jupyter-widgets/base",
            "top": null,
            "grid_column": null,
            "overflow_y": null,
            "overflow_x": null,
            "grid_auto_flow": null,
            "grid_area": null,
            "grid_template_columns": null,
            "flex": null,
            "_model_name": "LayoutModel",
            "justify_items": null,
            "grid_row": null,
            "max_height": null,
            "align_content": null,
            "visibility": null,
            "align_self": null,
            "height": null,
            "min_height": null,
            "padding": null,
            "grid_auto_rows": null,
            "grid_gap": null,
            "max_width": null,
            "order": null,
            "_view_module_version": "1.2.0",
            "grid_template_areas": null,
            "object_position": null,
            "object_fit": null,
            "grid_auto_columns": null,
            "margin": null,
            "display": null,
            "left": null
          }
        },
        "67caaa5d287f44c4b43234600a59deab": {
          "model_module": "@jupyter-widgets/controls",
          "model_name": "HTMLModel",
          "model_module_version": "1.5.0",
          "state": {
            "_view_name": "HTMLView",
            "style": "IPY_MODEL_b1662c1e74914885bf237c05e5e9630a",
            "_dom_classes": [],
            "description": "",
            "_model_name": "HTMLModel",
            "placeholder": "​",
            "_view_module": "@jupyter-widgets/controls",
            "_model_module_version": "1.5.0",
            "value": "Downloading: 100%",
            "_view_count": null,
            "_view_module_version": "1.5.0",
            "description_tooltip": null,
            "_model_module": "@jupyter-widgets/controls",
            "layout": "IPY_MODEL_9c33eb4f422f4999922d68b456c44ff6"
          }
        },
        "e2de66b4cf8d40b697e2a851e00d8c49": {
          "model_module": "@jupyter-widgets/controls",
          "model_name": "FloatProgressModel",
          "model_module_version": "1.5.0",
          "state": {
            "_view_name": "ProgressView",
            "style": "IPY_MODEL_dfb7ada09a7e47eaab04845a82568335",
            "_dom_classes": [],
            "description": "",
            "_model_name": "FloatProgressModel",
            "bar_style": "success",
            "max": 477,
            "_view_module": "@jupyter-widgets/controls",
            "_model_module_version": "1.5.0",
            "value": 477,
            "_view_count": null,
            "_view_module_version": "1.5.0",
            "orientation": "horizontal",
            "min": 0,
            "description_tooltip": null,
            "_model_module": "@jupyter-widgets/controls",
            "layout": "IPY_MODEL_0ae00c45e24c41089ce1b992dfb9402a"
          }
        },
        "df682a64c30f462a999f60d060d99b74": {
          "model_module": "@jupyter-widgets/controls",
          "model_name": "HTMLModel",
          "model_module_version": "1.5.0",
          "state": {
            "_view_name": "HTMLView",
            "style": "IPY_MODEL_f11987ee2b9f48988754e0af812a66dd",
            "_dom_classes": [],
            "description": "",
            "_model_name": "HTMLModel",
            "placeholder": "​",
            "_view_module": "@jupyter-widgets/controls",
            "_model_module_version": "1.5.0",
            "value": " 477/477 [00:00&lt;00:00, 12.0kB/s]",
            "_view_count": null,
            "_view_module_version": "1.5.0",
            "description_tooltip": null,
            "_model_module": "@jupyter-widgets/controls",
            "layout": "IPY_MODEL_c2d754219c534dd39551ee4d0efb4ae5"
          }
        },
        "b1662c1e74914885bf237c05e5e9630a": {
          "model_module": "@jupyter-widgets/controls",
          "model_name": "DescriptionStyleModel",
          "model_module_version": "1.5.0",
          "state": {
            "_view_name": "StyleView",
            "_model_name": "DescriptionStyleModel",
            "description_width": "",
            "_view_module": "@jupyter-widgets/base",
            "_model_module_version": "1.5.0",
            "_view_count": null,
            "_view_module_version": "1.2.0",
            "_model_module": "@jupyter-widgets/controls"
          }
        },
        "9c33eb4f422f4999922d68b456c44ff6": {
          "model_module": "@jupyter-widgets/base",
          "model_name": "LayoutModel",
          "model_module_version": "1.2.0",
          "state": {
            "_view_name": "LayoutView",
            "grid_template_rows": null,
            "right": null,
            "justify_content": null,
            "_view_module": "@jupyter-widgets/base",
            "overflow": null,
            "_model_module_version": "1.2.0",
            "_view_count": null,
            "flex_flow": null,
            "width": null,
            "min_width": null,
            "border": null,
            "align_items": null,
            "bottom": null,
            "_model_module": "@jupyter-widgets/base",
            "top": null,
            "grid_column": null,
            "overflow_y": null,
            "overflow_x": null,
            "grid_auto_flow": null,
            "grid_area": null,
            "grid_template_columns": null,
            "flex": null,
            "_model_name": "LayoutModel",
            "justify_items": null,
            "grid_row": null,
            "max_height": null,
            "align_content": null,
            "visibility": null,
            "align_self": null,
            "height": null,
            "min_height": null,
            "padding": null,
            "grid_auto_rows": null,
            "grid_gap": null,
            "max_width": null,
            "order": null,
            "_view_module_version": "1.2.0",
            "grid_template_areas": null,
            "object_position": null,
            "object_fit": null,
            "grid_auto_columns": null,
            "margin": null,
            "display": null,
            "left": null
          }
        },
        "dfb7ada09a7e47eaab04845a82568335": {
          "model_module": "@jupyter-widgets/controls",
          "model_name": "ProgressStyleModel",
          "model_module_version": "1.5.0",
          "state": {
            "_view_name": "StyleView",
            "_model_name": "ProgressStyleModel",
            "description_width": "",
            "_view_module": "@jupyter-widgets/base",
            "_model_module_version": "1.5.0",
            "_view_count": null,
            "_view_module_version": "1.2.0",
            "bar_color": null,
            "_model_module": "@jupyter-widgets/controls"
          }
        },
        "0ae00c45e24c41089ce1b992dfb9402a": {
          "model_module": "@jupyter-widgets/base",
          "model_name": "LayoutModel",
          "model_module_version": "1.2.0",
          "state": {
            "_view_name": "LayoutView",
            "grid_template_rows": null,
            "right": null,
            "justify_content": null,
            "_view_module": "@jupyter-widgets/base",
            "overflow": null,
            "_model_module_version": "1.2.0",
            "_view_count": null,
            "flex_flow": null,
            "width": null,
            "min_width": null,
            "border": null,
            "align_items": null,
            "bottom": null,
            "_model_module": "@jupyter-widgets/base",
            "top": null,
            "grid_column": null,
            "overflow_y": null,
            "overflow_x": null,
            "grid_auto_flow": null,
            "grid_area": null,
            "grid_template_columns": null,
            "flex": null,
            "_model_name": "LayoutModel",
            "justify_items": null,
            "grid_row": null,
            "max_height": null,
            "align_content": null,
            "visibility": null,
            "align_self": null,
            "height": null,
            "min_height": null,
            "padding": null,
            "grid_auto_rows": null,
            "grid_gap": null,
            "max_width": null,
            "order": null,
            "_view_module_version": "1.2.0",
            "grid_template_areas": null,
            "object_position": null,
            "object_fit": null,
            "grid_auto_columns": null,
            "margin": null,
            "display": null,
            "left": null
          }
        },
        "f11987ee2b9f48988754e0af812a66dd": {
          "model_module": "@jupyter-widgets/controls",
          "model_name": "DescriptionStyleModel",
          "model_module_version": "1.5.0",
          "state": {
            "_view_name": "StyleView",
            "_model_name": "DescriptionStyleModel",
            "description_width": "",
            "_view_module": "@jupyter-widgets/base",
            "_model_module_version": "1.5.0",
            "_view_count": null,
            "_view_module_version": "1.2.0",
            "_model_module": "@jupyter-widgets/controls"
          }
        },
        "c2d754219c534dd39551ee4d0efb4ae5": {
          "model_module": "@jupyter-widgets/base",
          "model_name": "LayoutModel",
          "model_module_version": "1.2.0",
          "state": {
            "_view_name": "LayoutView",
            "grid_template_rows": null,
            "right": null,
            "justify_content": null,
            "_view_module": "@jupyter-widgets/base",
            "overflow": null,
            "_model_module_version": "1.2.0",
            "_view_count": null,
            "flex_flow": null,
            "width": null,
            "min_width": null,
            "border": null,
            "align_items": null,
            "bottom": null,
            "_model_module": "@jupyter-widgets/base",
            "top": null,
            "grid_column": null,
            "overflow_y": null,
            "overflow_x": null,
            "grid_auto_flow": null,
            "grid_area": null,
            "grid_template_columns": null,
            "flex": null,
            "_model_name": "LayoutModel",
            "justify_items": null,
            "grid_row": null,
            "max_height": null,
            "align_content": null,
            "visibility": null,
            "align_self": null,
            "height": null,
            "min_height": null,
            "padding": null,
            "grid_auto_rows": null,
            "grid_gap": null,
            "max_width": null,
            "order": null,
            "_view_module_version": "1.2.0",
            "grid_template_areas": null,
            "object_position": null,
            "object_fit": null,
            "grid_auto_columns": null,
            "margin": null,
            "display": null,
            "left": null
          }
        },
        "ed76e6f413444fd889c8b5f715850317": {
          "model_module": "@jupyter-widgets/controls",
          "model_name": "HBoxModel",
          "model_module_version": "1.5.0",
          "state": {
            "_view_name": "HBoxView",
            "_dom_classes": [],
            "_model_name": "HBoxModel",
            "_view_module": "@jupyter-widgets/controls",
            "_model_module_version": "1.5.0",
            "_view_count": null,
            "_view_module_version": "1.5.0",
            "box_style": "",
            "layout": "IPY_MODEL_b8c4f7350ab443148ef4b60c8e897bc6",
            "_model_module": "@jupyter-widgets/controls",
            "children": [
              "IPY_MODEL_3113242de4314dda8a493c11a354ef35",
              "IPY_MODEL_a6bc8456e659421d9e94ebb6722a3ad5",
              "IPY_MODEL_040071ca32e047b893421936c5864e11"
            ]
          }
        },
        "b8c4f7350ab443148ef4b60c8e897bc6": {
          "model_module": "@jupyter-widgets/base",
          "model_name": "LayoutModel",
          "model_module_version": "1.2.0",
          "state": {
            "_view_name": "LayoutView",
            "grid_template_rows": null,
            "right": null,
            "justify_content": null,
            "_view_module": "@jupyter-widgets/base",
            "overflow": null,
            "_model_module_version": "1.2.0",
            "_view_count": null,
            "flex_flow": null,
            "width": null,
            "min_width": null,
            "border": null,
            "align_items": null,
            "bottom": null,
            "_model_module": "@jupyter-widgets/base",
            "top": null,
            "grid_column": null,
            "overflow_y": null,
            "overflow_x": null,
            "grid_auto_flow": null,
            "grid_area": null,
            "grid_template_columns": null,
            "flex": null,
            "_model_name": "LayoutModel",
            "justify_items": null,
            "grid_row": null,
            "max_height": null,
            "align_content": null,
            "visibility": null,
            "align_self": null,
            "height": null,
            "min_height": null,
            "padding": null,
            "grid_auto_rows": null,
            "grid_gap": null,
            "max_width": null,
            "order": null,
            "_view_module_version": "1.2.0",
            "grid_template_areas": null,
            "object_position": null,
            "object_fit": null,
            "grid_auto_columns": null,
            "margin": null,
            "display": null,
            "left": null
          }
        },
        "3113242de4314dda8a493c11a354ef35": {
          "model_module": "@jupyter-widgets/controls",
          "model_name": "HTMLModel",
          "model_module_version": "1.5.0",
          "state": {
            "_view_name": "HTMLView",
            "style": "IPY_MODEL_1308312c9bd44be2a9159ead2dfc5e54",
            "_dom_classes": [],
            "description": "",
            "_model_name": "HTMLModel",
            "placeholder": "​",
            "_view_module": "@jupyter-widgets/controls",
            "_model_module_version": "1.5.0",
            "value": "Downloading: 100%",
            "_view_count": null,
            "_view_module_version": "1.5.0",
            "description_tooltip": null,
            "_model_module": "@jupyter-widgets/controls",
            "layout": "IPY_MODEL_01a725b5adec452baa666d164c1c264c"
          }
        },
        "a6bc8456e659421d9e94ebb6722a3ad5": {
          "model_module": "@jupyter-widgets/controls",
          "model_name": "FloatProgressModel",
          "model_module_version": "1.5.0",
          "state": {
            "_view_name": "ProgressView",
            "style": "IPY_MODEL_2984dad631134c16812265060881ac5a",
            "_dom_classes": [],
            "description": "",
            "_model_name": "FloatProgressModel",
            "bar_style": "success",
            "max": 231508,
            "_view_module": "@jupyter-widgets/controls",
            "_model_module_version": "1.5.0",
            "value": 231508,
            "_view_count": null,
            "_view_module_version": "1.5.0",
            "orientation": "horizontal",
            "min": 0,
            "description_tooltip": null,
            "_model_module": "@jupyter-widgets/controls",
            "layout": "IPY_MODEL_ab90516923a742efbc5df2a8f8bcf533"
          }
        },
        "040071ca32e047b893421936c5864e11": {
          "model_module": "@jupyter-widgets/controls",
          "model_name": "HTMLModel",
          "model_module_version": "1.5.0",
          "state": {
            "_view_name": "HTMLView",
            "style": "IPY_MODEL_9552638e91004e65a1ec11172d37fbb6",
            "_dom_classes": [],
            "description": "",
            "_model_name": "HTMLModel",
            "placeholder": "​",
            "_view_module": "@jupyter-widgets/controls",
            "_model_module_version": "1.5.0",
            "value": " 226k/226k [00:00&lt;00:00, 394kB/s]",
            "_view_count": null,
            "_view_module_version": "1.5.0",
            "description_tooltip": null,
            "_model_module": "@jupyter-widgets/controls",
            "layout": "IPY_MODEL_08cc1fc9351541e5a7283fea36fc3302"
          }
        },
        "1308312c9bd44be2a9159ead2dfc5e54": {
          "model_module": "@jupyter-widgets/controls",
          "model_name": "DescriptionStyleModel",
          "model_module_version": "1.5.0",
          "state": {
            "_view_name": "StyleView",
            "_model_name": "DescriptionStyleModel",
            "description_width": "",
            "_view_module": "@jupyter-widgets/base",
            "_model_module_version": "1.5.0",
            "_view_count": null,
            "_view_module_version": "1.2.0",
            "_model_module": "@jupyter-widgets/controls"
          }
        },
        "01a725b5adec452baa666d164c1c264c": {
          "model_module": "@jupyter-widgets/base",
          "model_name": "LayoutModel",
          "model_module_version": "1.2.0",
          "state": {
            "_view_name": "LayoutView",
            "grid_template_rows": null,
            "right": null,
            "justify_content": null,
            "_view_module": "@jupyter-widgets/base",
            "overflow": null,
            "_model_module_version": "1.2.0",
            "_view_count": null,
            "flex_flow": null,
            "width": null,
            "min_width": null,
            "border": null,
            "align_items": null,
            "bottom": null,
            "_model_module": "@jupyter-widgets/base",
            "top": null,
            "grid_column": null,
            "overflow_y": null,
            "overflow_x": null,
            "grid_auto_flow": null,
            "grid_area": null,
            "grid_template_columns": null,
            "flex": null,
            "_model_name": "LayoutModel",
            "justify_items": null,
            "grid_row": null,
            "max_height": null,
            "align_content": null,
            "visibility": null,
            "align_self": null,
            "height": null,
            "min_height": null,
            "padding": null,
            "grid_auto_rows": null,
            "grid_gap": null,
            "max_width": null,
            "order": null,
            "_view_module_version": "1.2.0",
            "grid_template_areas": null,
            "object_position": null,
            "object_fit": null,
            "grid_auto_columns": null,
            "margin": null,
            "display": null,
            "left": null
          }
        },
        "2984dad631134c16812265060881ac5a": {
          "model_module": "@jupyter-widgets/controls",
          "model_name": "ProgressStyleModel",
          "model_module_version": "1.5.0",
          "state": {
            "_view_name": "StyleView",
            "_model_name": "ProgressStyleModel",
            "description_width": "",
            "_view_module": "@jupyter-widgets/base",
            "_model_module_version": "1.5.0",
            "_view_count": null,
            "_view_module_version": "1.2.0",
            "bar_color": null,
            "_model_module": "@jupyter-widgets/controls"
          }
        },
        "ab90516923a742efbc5df2a8f8bcf533": {
          "model_module": "@jupyter-widgets/base",
          "model_name": "LayoutModel",
          "model_module_version": "1.2.0",
          "state": {
            "_view_name": "LayoutView",
            "grid_template_rows": null,
            "right": null,
            "justify_content": null,
            "_view_module": "@jupyter-widgets/base",
            "overflow": null,
            "_model_module_version": "1.2.0",
            "_view_count": null,
            "flex_flow": null,
            "width": null,
            "min_width": null,
            "border": null,
            "align_items": null,
            "bottom": null,
            "_model_module": "@jupyter-widgets/base",
            "top": null,
            "grid_column": null,
            "overflow_y": null,
            "overflow_x": null,
            "grid_auto_flow": null,
            "grid_area": null,
            "grid_template_columns": null,
            "flex": null,
            "_model_name": "LayoutModel",
            "justify_items": null,
            "grid_row": null,
            "max_height": null,
            "align_content": null,
            "visibility": null,
            "align_self": null,
            "height": null,
            "min_height": null,
            "padding": null,
            "grid_auto_rows": null,
            "grid_gap": null,
            "max_width": null,
            "order": null,
            "_view_module_version": "1.2.0",
            "grid_template_areas": null,
            "object_position": null,
            "object_fit": null,
            "grid_auto_columns": null,
            "margin": null,
            "display": null,
            "left": null
          }
        },
        "9552638e91004e65a1ec11172d37fbb6": {
          "model_module": "@jupyter-widgets/controls",
          "model_name": "DescriptionStyleModel",
          "model_module_version": "1.5.0",
          "state": {
            "_view_name": "StyleView",
            "_model_name": "DescriptionStyleModel",
            "description_width": "",
            "_view_module": "@jupyter-widgets/base",
            "_model_module_version": "1.5.0",
            "_view_count": null,
            "_view_module_version": "1.2.0",
            "_model_module": "@jupyter-widgets/controls"
          }
        },
        "08cc1fc9351541e5a7283fea36fc3302": {
          "model_module": "@jupyter-widgets/base",
          "model_name": "LayoutModel",
          "model_module_version": "1.2.0",
          "state": {
            "_view_name": "LayoutView",
            "grid_template_rows": null,
            "right": null,
            "justify_content": null,
            "_view_module": "@jupyter-widgets/base",
            "overflow": null,
            "_model_module_version": "1.2.0",
            "_view_count": null,
            "flex_flow": null,
            "width": null,
            "min_width": null,
            "border": null,
            "align_items": null,
            "bottom": null,
            "_model_module": "@jupyter-widgets/base",
            "top": null,
            "grid_column": null,
            "overflow_y": null,
            "overflow_x": null,
            "grid_auto_flow": null,
            "grid_area": null,
            "grid_template_columns": null,
            "flex": null,
            "_model_name": "LayoutModel",
            "justify_items": null,
            "grid_row": null,
            "max_height": null,
            "align_content": null,
            "visibility": null,
            "align_self": null,
            "height": null,
            "min_height": null,
            "padding": null,
            "grid_auto_rows": null,
            "grid_gap": null,
            "max_width": null,
            "order": null,
            "_view_module_version": "1.2.0",
            "grid_template_areas": null,
            "object_position": null,
            "object_fit": null,
            "grid_auto_columns": null,
            "margin": null,
            "display": null,
            "left": null
          }
        },
        "ce276bdbbf444b0b9d76d50452e8d743": {
          "model_module": "@jupyter-widgets/controls",
          "model_name": "HBoxModel",
          "model_module_version": "1.5.0",
          "state": {
            "_view_name": "HBoxView",
            "_dom_classes": [],
            "_model_name": "HBoxModel",
            "_view_module": "@jupyter-widgets/controls",
            "_model_module_version": "1.5.0",
            "_view_count": null,
            "_view_module_version": "1.5.0",
            "box_style": "",
            "layout": "IPY_MODEL_b17a7752165f4015ab3a0154dafe80d4",
            "_model_module": "@jupyter-widgets/controls",
            "children": [
              "IPY_MODEL_cc7bf196391f47408432a8cbd5d20b5f",
              "IPY_MODEL_0310639665374c6688d8a6f6a65ace3b",
              "IPY_MODEL_f2df57ddb7bd49f7b67ad7a7ac674f17"
            ]
          }
        },
        "b17a7752165f4015ab3a0154dafe80d4": {
          "model_module": "@jupyter-widgets/base",
          "model_name": "LayoutModel",
          "model_module_version": "1.2.0",
          "state": {
            "_view_name": "LayoutView",
            "grid_template_rows": null,
            "right": null,
            "justify_content": null,
            "_view_module": "@jupyter-widgets/base",
            "overflow": null,
            "_model_module_version": "1.2.0",
            "_view_count": null,
            "flex_flow": null,
            "width": null,
            "min_width": null,
            "border": null,
            "align_items": null,
            "bottom": null,
            "_model_module": "@jupyter-widgets/base",
            "top": null,
            "grid_column": null,
            "overflow_y": null,
            "overflow_x": null,
            "grid_auto_flow": null,
            "grid_area": null,
            "grid_template_columns": null,
            "flex": null,
            "_model_name": "LayoutModel",
            "justify_items": null,
            "grid_row": null,
            "max_height": null,
            "align_content": null,
            "visibility": null,
            "align_self": null,
            "height": null,
            "min_height": null,
            "padding": null,
            "grid_auto_rows": null,
            "grid_gap": null,
            "max_width": null,
            "order": null,
            "_view_module_version": "1.2.0",
            "grid_template_areas": null,
            "object_position": null,
            "object_fit": null,
            "grid_auto_columns": null,
            "margin": null,
            "display": null,
            "left": null
          }
        },
        "cc7bf196391f47408432a8cbd5d20b5f": {
          "model_module": "@jupyter-widgets/controls",
          "model_name": "HTMLModel",
          "model_module_version": "1.5.0",
          "state": {
            "_view_name": "HTMLView",
            "style": "IPY_MODEL_18aa7aab6691467a8e39257beaa4609d",
            "_dom_classes": [],
            "description": "",
            "_model_name": "HTMLModel",
            "placeholder": "​",
            "_view_module": "@jupyter-widgets/controls",
            "_model_module_version": "1.5.0",
            "value": "Downloading: 100%",
            "_view_count": null,
            "_view_module_version": "1.5.0",
            "description_tooltip": null,
            "_model_module": "@jupyter-widgets/controls",
            "layout": "IPY_MODEL_bd7c2c76505c4192a1d4719ec8b779b5"
          }
        },
        "0310639665374c6688d8a6f6a65ace3b": {
          "model_module": "@jupyter-widgets/controls",
          "model_name": "FloatProgressModel",
          "model_module_version": "1.5.0",
          "state": {
            "_view_name": "ProgressView",
            "style": "IPY_MODEL_9d3ba329e988458c9a87aa10d930f511",
            "_dom_classes": [],
            "description": "",
            "_model_name": "FloatProgressModel",
            "bar_style": "success",
            "max": 112,
            "_view_module": "@jupyter-widgets/controls",
            "_model_module_version": "1.5.0",
            "value": 112,
            "_view_count": null,
            "_view_module_version": "1.5.0",
            "orientation": "horizontal",
            "min": 0,
            "description_tooltip": null,
            "_model_module": "@jupyter-widgets/controls",
            "layout": "IPY_MODEL_a2f0a7793f114edc97f56ef6bf1cbd65"
          }
        },
        "f2df57ddb7bd49f7b67ad7a7ac674f17": {
          "model_module": "@jupyter-widgets/controls",
          "model_name": "HTMLModel",
          "model_module_version": "1.5.0",
          "state": {
            "_view_name": "HTMLView",
            "style": "IPY_MODEL_55d461293e1c4a2692be593f27a2d1d9",
            "_dom_classes": [],
            "description": "",
            "_model_name": "HTMLModel",
            "placeholder": "​",
            "_view_module": "@jupyter-widgets/controls",
            "_model_module_version": "1.5.0",
            "value": " 112/112 [00:00&lt;00:00, 2.91kB/s]",
            "_view_count": null,
            "_view_module_version": "1.5.0",
            "description_tooltip": null,
            "_model_module": "@jupyter-widgets/controls",
            "layout": "IPY_MODEL_7f15dadd4c604cd0ad384bfe6b13e981"
          }
        },
        "18aa7aab6691467a8e39257beaa4609d": {
          "model_module": "@jupyter-widgets/controls",
          "model_name": "DescriptionStyleModel",
          "model_module_version": "1.5.0",
          "state": {
            "_view_name": "StyleView",
            "_model_name": "DescriptionStyleModel",
            "description_width": "",
            "_view_module": "@jupyter-widgets/base",
            "_model_module_version": "1.5.0",
            "_view_count": null,
            "_view_module_version": "1.2.0",
            "_model_module": "@jupyter-widgets/controls"
          }
        },
        "bd7c2c76505c4192a1d4719ec8b779b5": {
          "model_module": "@jupyter-widgets/base",
          "model_name": "LayoutModel",
          "model_module_version": "1.2.0",
          "state": {
            "_view_name": "LayoutView",
            "grid_template_rows": null,
            "right": null,
            "justify_content": null,
            "_view_module": "@jupyter-widgets/base",
            "overflow": null,
            "_model_module_version": "1.2.0",
            "_view_count": null,
            "flex_flow": null,
            "width": null,
            "min_width": null,
            "border": null,
            "align_items": null,
            "bottom": null,
            "_model_module": "@jupyter-widgets/base",
            "top": null,
            "grid_column": null,
            "overflow_y": null,
            "overflow_x": null,
            "grid_auto_flow": null,
            "grid_area": null,
            "grid_template_columns": null,
            "flex": null,
            "_model_name": "LayoutModel",
            "justify_items": null,
            "grid_row": null,
            "max_height": null,
            "align_content": null,
            "visibility": null,
            "align_self": null,
            "height": null,
            "min_height": null,
            "padding": null,
            "grid_auto_rows": null,
            "grid_gap": null,
            "max_width": null,
            "order": null,
            "_view_module_version": "1.2.0",
            "grid_template_areas": null,
            "object_position": null,
            "object_fit": null,
            "grid_auto_columns": null,
            "margin": null,
            "display": null,
            "left": null
          }
        },
        "9d3ba329e988458c9a87aa10d930f511": {
          "model_module": "@jupyter-widgets/controls",
          "model_name": "ProgressStyleModel",
          "model_module_version": "1.5.0",
          "state": {
            "_view_name": "StyleView",
            "_model_name": "ProgressStyleModel",
            "description_width": "",
            "_view_module": "@jupyter-widgets/base",
            "_model_module_version": "1.5.0",
            "_view_count": null,
            "_view_module_version": "1.2.0",
            "bar_color": null,
            "_model_module": "@jupyter-widgets/controls"
          }
        },
        "a2f0a7793f114edc97f56ef6bf1cbd65": {
          "model_module": "@jupyter-widgets/base",
          "model_name": "LayoutModel",
          "model_module_version": "1.2.0",
          "state": {
            "_view_name": "LayoutView",
            "grid_template_rows": null,
            "right": null,
            "justify_content": null,
            "_view_module": "@jupyter-widgets/base",
            "overflow": null,
            "_model_module_version": "1.2.0",
            "_view_count": null,
            "flex_flow": null,
            "width": null,
            "min_width": null,
            "border": null,
            "align_items": null,
            "bottom": null,
            "_model_module": "@jupyter-widgets/base",
            "top": null,
            "grid_column": null,
            "overflow_y": null,
            "overflow_x": null,
            "grid_auto_flow": null,
            "grid_area": null,
            "grid_template_columns": null,
            "flex": null,
            "_model_name": "LayoutModel",
            "justify_items": null,
            "grid_row": null,
            "max_height": null,
            "align_content": null,
            "visibility": null,
            "align_self": null,
            "height": null,
            "min_height": null,
            "padding": null,
            "grid_auto_rows": null,
            "grid_gap": null,
            "max_width": null,
            "order": null,
            "_view_module_version": "1.2.0",
            "grid_template_areas": null,
            "object_position": null,
            "object_fit": null,
            "grid_auto_columns": null,
            "margin": null,
            "display": null,
            "left": null
          }
        },
        "55d461293e1c4a2692be593f27a2d1d9": {
          "model_module": "@jupyter-widgets/controls",
          "model_name": "DescriptionStyleModel",
          "model_module_version": "1.5.0",
          "state": {
            "_view_name": "StyleView",
            "_model_name": "DescriptionStyleModel",
            "description_width": "",
            "_view_module": "@jupyter-widgets/base",
            "_model_module_version": "1.5.0",
            "_view_count": null,
            "_view_module_version": "1.2.0",
            "_model_module": "@jupyter-widgets/controls"
          }
        },
        "7f15dadd4c604cd0ad384bfe6b13e981": {
          "model_module": "@jupyter-widgets/base",
          "model_name": "LayoutModel",
          "model_module_version": "1.2.0",
          "state": {
            "_view_name": "LayoutView",
            "grid_template_rows": null,
            "right": null,
            "justify_content": null,
            "_view_module": "@jupyter-widgets/base",
            "overflow": null,
            "_model_module_version": "1.2.0",
            "_view_count": null,
            "flex_flow": null,
            "width": null,
            "min_width": null,
            "border": null,
            "align_items": null,
            "bottom": null,
            "_model_module": "@jupyter-widgets/base",
            "top": null,
            "grid_column": null,
            "overflow_y": null,
            "overflow_x": null,
            "grid_auto_flow": null,
            "grid_area": null,
            "grid_template_columns": null,
            "flex": null,
            "_model_name": "LayoutModel",
            "justify_items": null,
            "grid_row": null,
            "max_height": null,
            "align_content": null,
            "visibility": null,
            "align_self": null,
            "height": null,
            "min_height": null,
            "padding": null,
            "grid_auto_rows": null,
            "grid_gap": null,
            "max_width": null,
            "order": null,
            "_view_module_version": "1.2.0",
            "grid_template_areas": null,
            "object_position": null,
            "object_fit": null,
            "grid_auto_columns": null,
            "margin": null,
            "display": null,
            "left": null
          }
        },
        "e7a010bf14704150995c5c573d552de6": {
          "model_module": "@jupyter-widgets/controls",
          "model_name": "HBoxModel",
          "model_module_version": "1.5.0",
          "state": {
            "_view_name": "HBoxView",
            "_dom_classes": [],
            "_model_name": "HBoxModel",
            "_view_module": "@jupyter-widgets/controls",
            "_model_module_version": "1.5.0",
            "_view_count": null,
            "_view_module_version": "1.5.0",
            "box_style": "",
            "layout": "IPY_MODEL_48ab1a40724f4cfca126dd692c5c7ef0",
            "_model_module": "@jupyter-widgets/controls",
            "children": [
              "IPY_MODEL_8469b7ef53ec45a2b8238252373ce5fc",
              "IPY_MODEL_bd65d34e343c414ab052538cd20812f0",
              "IPY_MODEL_226b29dedcc24e6bbd81355612eb278c"
            ]
          }
        },
        "48ab1a40724f4cfca126dd692c5c7ef0": {
          "model_module": "@jupyter-widgets/base",
          "model_name": "LayoutModel",
          "model_module_version": "1.2.0",
          "state": {
            "_view_name": "LayoutView",
            "grid_template_rows": null,
            "right": null,
            "justify_content": null,
            "_view_module": "@jupyter-widgets/base",
            "overflow": null,
            "_model_module_version": "1.2.0",
            "_view_count": null,
            "flex_flow": null,
            "width": null,
            "min_width": null,
            "border": null,
            "align_items": null,
            "bottom": null,
            "_model_module": "@jupyter-widgets/base",
            "top": null,
            "grid_column": null,
            "overflow_y": null,
            "overflow_x": null,
            "grid_auto_flow": null,
            "grid_area": null,
            "grid_template_columns": null,
            "flex": null,
            "_model_name": "LayoutModel",
            "justify_items": null,
            "grid_row": null,
            "max_height": null,
            "align_content": null,
            "visibility": null,
            "align_self": null,
            "height": null,
            "min_height": null,
            "padding": null,
            "grid_auto_rows": null,
            "grid_gap": null,
            "max_width": null,
            "order": null,
            "_view_module_version": "1.2.0",
            "grid_template_areas": null,
            "object_position": null,
            "object_fit": null,
            "grid_auto_columns": null,
            "margin": null,
            "display": null,
            "left": null
          }
        },
        "8469b7ef53ec45a2b8238252373ce5fc": {
          "model_module": "@jupyter-widgets/controls",
          "model_name": "HTMLModel",
          "model_module_version": "1.5.0",
          "state": {
            "_view_name": "HTMLView",
            "style": "IPY_MODEL_94fad08e21da46d6929a725a9b89283c",
            "_dom_classes": [],
            "description": "",
            "_model_name": "HTMLModel",
            "placeholder": "​",
            "_view_module": "@jupyter-widgets/controls",
            "_model_module_version": "1.5.0",
            "value": "Downloading: 100%",
            "_view_count": null,
            "_view_module_version": "1.5.0",
            "description_tooltip": null,
            "_model_module": "@jupyter-widgets/controls",
            "layout": "IPY_MODEL_bd23898e3fd54771b2a6f5b77a3c064b"
          }
        },
        "bd65d34e343c414ab052538cd20812f0": {
          "model_module": "@jupyter-widgets/controls",
          "model_name": "FloatProgressModel",
          "model_module_version": "1.5.0",
          "state": {
            "_view_name": "ProgressView",
            "style": "IPY_MODEL_7d8e1feb053d4d309191f12d1e919617",
            "_dom_classes": [],
            "description": "",
            "_model_name": "FloatProgressModel",
            "bar_style": "success",
            "max": 133490920,
            "_view_module": "@jupyter-widgets/controls",
            "_model_module_version": "1.5.0",
            "value": 133490920,
            "_view_count": null,
            "_view_module_version": "1.5.0",
            "orientation": "horizontal",
            "min": 0,
            "description_tooltip": null,
            "_model_module": "@jupyter-widgets/controls",
            "layout": "IPY_MODEL_dea01f597a4f40958736d25b26f3f615"
          }
        },
        "226b29dedcc24e6bbd81355612eb278c": {
          "model_module": "@jupyter-widgets/controls",
          "model_name": "HTMLModel",
          "model_module_version": "1.5.0",
          "state": {
            "_view_name": "HTMLView",
            "style": "IPY_MODEL_fa46af1d7fc34e2196f7c361ea10e3ac",
            "_dom_classes": [],
            "description": "",
            "_model_name": "HTMLModel",
            "placeholder": "​",
            "_view_module": "@jupyter-widgets/controls",
            "_model_module_version": "1.5.0",
            "value": " 127M/127M [00:04&lt;00:00, 29.5MB/s]",
            "_view_count": null,
            "_view_module_version": "1.5.0",
            "description_tooltip": null,
            "_model_module": "@jupyter-widgets/controls",
            "layout": "IPY_MODEL_6dda04b913fe4ecd89e344f1f70307bf"
          }
        },
        "94fad08e21da46d6929a725a9b89283c": {
          "model_module": "@jupyter-widgets/controls",
          "model_name": "DescriptionStyleModel",
          "model_module_version": "1.5.0",
          "state": {
            "_view_name": "StyleView",
            "_model_name": "DescriptionStyleModel",
            "description_width": "",
            "_view_module": "@jupyter-widgets/base",
            "_model_module_version": "1.5.0",
            "_view_count": null,
            "_view_module_version": "1.2.0",
            "_model_module": "@jupyter-widgets/controls"
          }
        },
        "bd23898e3fd54771b2a6f5b77a3c064b": {
          "model_module": "@jupyter-widgets/base",
          "model_name": "LayoutModel",
          "model_module_version": "1.2.0",
          "state": {
            "_view_name": "LayoutView",
            "grid_template_rows": null,
            "right": null,
            "justify_content": null,
            "_view_module": "@jupyter-widgets/base",
            "overflow": null,
            "_model_module_version": "1.2.0",
            "_view_count": null,
            "flex_flow": null,
            "width": null,
            "min_width": null,
            "border": null,
            "align_items": null,
            "bottom": null,
            "_model_module": "@jupyter-widgets/base",
            "top": null,
            "grid_column": null,
            "overflow_y": null,
            "overflow_x": null,
            "grid_auto_flow": null,
            "grid_area": null,
            "grid_template_columns": null,
            "flex": null,
            "_model_name": "LayoutModel",
            "justify_items": null,
            "grid_row": null,
            "max_height": null,
            "align_content": null,
            "visibility": null,
            "align_self": null,
            "height": null,
            "min_height": null,
            "padding": null,
            "grid_auto_rows": null,
            "grid_gap": null,
            "max_width": null,
            "order": null,
            "_view_module_version": "1.2.0",
            "grid_template_areas": null,
            "object_position": null,
            "object_fit": null,
            "grid_auto_columns": null,
            "margin": null,
            "display": null,
            "left": null
          }
        },
        "7d8e1feb053d4d309191f12d1e919617": {
          "model_module": "@jupyter-widgets/controls",
          "model_name": "ProgressStyleModel",
          "model_module_version": "1.5.0",
          "state": {
            "_view_name": "StyleView",
            "_model_name": "ProgressStyleModel",
            "description_width": "",
            "_view_module": "@jupyter-widgets/base",
            "_model_module_version": "1.5.0",
            "_view_count": null,
            "_view_module_version": "1.2.0",
            "bar_color": null,
            "_model_module": "@jupyter-widgets/controls"
          }
        },
        "dea01f597a4f40958736d25b26f3f615": {
          "model_module": "@jupyter-widgets/base",
          "model_name": "LayoutModel",
          "model_module_version": "1.2.0",
          "state": {
            "_view_name": "LayoutView",
            "grid_template_rows": null,
            "right": null,
            "justify_content": null,
            "_view_module": "@jupyter-widgets/base",
            "overflow": null,
            "_model_module_version": "1.2.0",
            "_view_count": null,
            "flex_flow": null,
            "width": null,
            "min_width": null,
            "border": null,
            "align_items": null,
            "bottom": null,
            "_model_module": "@jupyter-widgets/base",
            "top": null,
            "grid_column": null,
            "overflow_y": null,
            "overflow_x": null,
            "grid_auto_flow": null,
            "grid_area": null,
            "grid_template_columns": null,
            "flex": null,
            "_model_name": "LayoutModel",
            "justify_items": null,
            "grid_row": null,
            "max_height": null,
            "align_content": null,
            "visibility": null,
            "align_self": null,
            "height": null,
            "min_height": null,
            "padding": null,
            "grid_auto_rows": null,
            "grid_gap": null,
            "max_width": null,
            "order": null,
            "_view_module_version": "1.2.0",
            "grid_template_areas": null,
            "object_position": null,
            "object_fit": null,
            "grid_auto_columns": null,
            "margin": null,
            "display": null,
            "left": null
          }
        },
        "fa46af1d7fc34e2196f7c361ea10e3ac": {
          "model_module": "@jupyter-widgets/controls",
          "model_name": "DescriptionStyleModel",
          "model_module_version": "1.5.0",
          "state": {
            "_view_name": "StyleView",
            "_model_name": "DescriptionStyleModel",
            "description_width": "",
            "_view_module": "@jupyter-widgets/base",
            "_model_module_version": "1.5.0",
            "_view_count": null,
            "_view_module_version": "1.2.0",
            "_model_module": "@jupyter-widgets/controls"
          }
        },
        "6dda04b913fe4ecd89e344f1f70307bf": {
          "model_module": "@jupyter-widgets/base",
          "model_name": "LayoutModel",
          "model_module_version": "1.2.0",
          "state": {
            "_view_name": "LayoutView",
            "grid_template_rows": null,
            "right": null,
            "justify_content": null,
            "_view_module": "@jupyter-widgets/base",
            "overflow": null,
            "_model_module_version": "1.2.0",
            "_view_count": null,
            "flex_flow": null,
            "width": null,
            "min_width": null,
            "border": null,
            "align_items": null,
            "bottom": null,
            "_model_module": "@jupyter-widgets/base",
            "top": null,
            "grid_column": null,
            "overflow_y": null,
            "overflow_x": null,
            "grid_auto_flow": null,
            "grid_area": null,
            "grid_template_columns": null,
            "flex": null,
            "_model_name": "LayoutModel",
            "justify_items": null,
            "grid_row": null,
            "max_height": null,
            "align_content": null,
            "visibility": null,
            "align_self": null,
            "height": null,
            "min_height": null,
            "padding": null,
            "grid_auto_rows": null,
            "grid_gap": null,
            "max_width": null,
            "order": null,
            "_view_module_version": "1.2.0",
            "grid_template_areas": null,
            "object_position": null,
            "object_fit": null,
            "grid_auto_columns": null,
            "margin": null,
            "display": null,
            "left": null
          }
        }
      }
    },
    "accelerator": "GPU"
  },
  "cells": [
    {
      "cell_type": "markdown",
      "metadata": {
        "id": "view-in-github",
        "colab_type": "text"
      },
      "source": [
        "<a href=\"https://colab.research.google.com/github/hllorens/ai-sandbox/blob/main/HF_course.ipynb\" target=\"_parent\"><img src=\"https://colab.research.google.com/assets/colab-badge.svg\" alt=\"Open In Colab\"/></a>"
      ]
    },
    {
      "cell_type": "markdown",
      "metadata": {
        "id": "EsRP4xqHO65V"
      },
      "source": [
        "# How to train a model with Pytorch the hard way\n",
        "```python\n",
        "from torch.contributors import mark_saroufim\n",
        "```\n",
        "\n",
        "```python\n",
        "> mark_saroufim.projects\n",
        "[torchserve, torchX, Pytorch Enterprise, ...]\n",
        "```\n",
        "\n",
        "```python\n",
        "# For more from mark\n",
        "> mark_saroufim.twitter_account()\n",
        "twitter.com/marksaroufim\n",
        "```\n"
      ]
    },
    {
      "cell_type": "code",
      "metadata": {
        "id": "uBwdH0iFO6FE"
      },
      "source": [
        "import torch"
      ],
      "execution_count": null,
      "outputs": []
    },
    {
      "cell_type": "markdown",
      "metadata": {
        "id": "EI0H-0vY5zjW"
      },
      "source": [
        "# What is Machine Learning\n",
        "\n",
        "Well what's supervised learning\n",
        "\n",
        "Data -> Model -> Prediction\n",
        "\n",
        "`f(x) -> y`\n",
        "\n",
        "compare `y and y'` and update `f`\n",
        "\n",
        "what is `x`? Something that can fit in an excel spreadsheet\n",
        "\n"
      ]
    },
    {
      "cell_type": "markdown",
      "metadata": {
        "id": "ShlhP67pPYQ1"
      },
      "source": [
        "## How to do Machine Learning\n",
        "\n",
        "\n",
        "1. Use an open dataset (imdb, imagenet etc..)\n",
        "2. Use an open model (copy model architecture from famous paper or Github)\n",
        "3. Use a pretrained model (use a model hub like HF hub, torch hub etc..)\n",
        "4. Use a model trainer (hf training loop, ptl loop, ignite, fast.ai keras etc..)\n",
        "5. **Train a model from scratch** (This talk!)"
      ]
    },
    {
      "cell_type": "markdown",
      "metadata": {
        "id": "iMzJmY-ZCSCR"
      },
      "source": [
        "Nowadays we have\n",
        "\n",
        "Training loops: `model.fit(data)`\n",
        "\n",
        "Auto ML: `fit(data)`\n",
        "\n",
        "Pretrained models: `finetune(data)`"
      ]
    },
    {
      "cell_type": "code",
      "metadata": {
        "colab": {
          "base_uri": "https://localhost:8080/"
        },
        "id": "xgdz_0eG-eQg",
        "outputId": "fcee2144-d758-4cc4-870a-03884341d1a2"
      },
      "source": [
        "! pip install transformers -q"
      ],
      "execution_count": null,
      "outputs": [
        {
          "output_type": "stream",
          "name": "stdout",
          "text": [
            "\u001b[K     |████████████████████████████████| 3.1 MB 4.2 MB/s \n",
            "\u001b[K     |████████████████████████████████| 895 kB 41.7 MB/s \n",
            "\u001b[K     |████████████████████████████████| 3.3 MB 43.2 MB/s \n",
            "\u001b[K     |████████████████████████████████| 59 kB 6.2 MB/s \n",
            "\u001b[K     |████████████████████████████████| 596 kB 47.9 MB/s \n",
            "\u001b[?25h"
          ]
        }
      ]
    },
    {
      "cell_type": "code",
      "metadata": {
        "id": "SXEdAsfAy9fB",
        "colab": {
          "base_uri": "https://localhost:8080/",
          "height": 177,
          "referenced_widgets": [
            "667d5bbe15d941689e3f526e8928b442",
            "608d93f904494d7da4d7ea5ab4ebc2d6",
            "b64582251dd141fd8cd82ae32b818ca5",
            "26048aaa50e846e7b1a866026864f258",
            "bc7e83fc717646cfae88780914bcfea4",
            "8d04fcc21a0b45cba3aed8725a3ccfcd",
            "606da876ec4d483b84a652979b60fa47",
            "5db439dc283e4645ac4dad63615c729e",
            "bfa0bd0344c14916a5280be591ba73d9",
            "665ea7f127504079a02627251c157f8e",
            "9eec5d325c384d28a43f04b0118fb1b8",
            "227a0ed8f9354b64bb38c6b41fc8d7af",
            "7ecc5942de334d15b5d0b1c1842901c2",
            "67caaa5d287f44c4b43234600a59deab",
            "e2de66b4cf8d40b697e2a851e00d8c49",
            "df682a64c30f462a999f60d060d99b74",
            "b1662c1e74914885bf237c05e5e9630a",
            "9c33eb4f422f4999922d68b456c44ff6",
            "dfb7ada09a7e47eaab04845a82568335",
            "0ae00c45e24c41089ce1b992dfb9402a",
            "f11987ee2b9f48988754e0af812a66dd",
            "c2d754219c534dd39551ee4d0efb4ae5",
            "ed76e6f413444fd889c8b5f715850317",
            "b8c4f7350ab443148ef4b60c8e897bc6",
            "3113242de4314dda8a493c11a354ef35",
            "a6bc8456e659421d9e94ebb6722a3ad5",
            "040071ca32e047b893421936c5864e11",
            "1308312c9bd44be2a9159ead2dfc5e54",
            "01a725b5adec452baa666d164c1c264c",
            "2984dad631134c16812265060881ac5a",
            "ab90516923a742efbc5df2a8f8bcf533",
            "9552638e91004e65a1ec11172d37fbb6",
            "08cc1fc9351541e5a7283fea36fc3302",
            "ce276bdbbf444b0b9d76d50452e8d743",
            "b17a7752165f4015ab3a0154dafe80d4",
            "cc7bf196391f47408432a8cbd5d20b5f",
            "0310639665374c6688d8a6f6a65ace3b",
            "f2df57ddb7bd49f7b67ad7a7ac674f17",
            "18aa7aab6691467a8e39257beaa4609d",
            "bd7c2c76505c4192a1d4719ec8b779b5",
            "9d3ba329e988458c9a87aa10d930f511",
            "a2f0a7793f114edc97f56ef6bf1cbd65",
            "55d461293e1c4a2692be593f27a2d1d9",
            "7f15dadd4c604cd0ad384bfe6b13e981",
            "e7a010bf14704150995c5c573d552de6",
            "48ab1a40724f4cfca126dd692c5c7ef0",
            "8469b7ef53ec45a2b8238252373ce5fc",
            "bd65d34e343c414ab052538cd20812f0",
            "226b29dedcc24e6bbd81355612eb278c",
            "94fad08e21da46d6929a725a9b89283c",
            "bd23898e3fd54771b2a6f5b77a3c064b",
            "7d8e1feb053d4d309191f12d1e919617",
            "dea01f597a4f40958736d25b26f3f615",
            "fa46af1d7fc34e2196f7c361ea10e3ac",
            "6dda04b913fe4ecd89e344f1f70307bf"
          ]
        },
        "outputId": "ee6bd037-d771-43bc-b96a-bb0c4aadad79"
      },
      "source": [
        "# HF model hub code\n",
        "from transformers import AutoTokenizer, AutoModelForQuestionAnswering\n",
        "\n",
        "# Model by the deepset.ai team\n",
        "tokenizer = AutoTokenizer.from_pretrained(\"deepset/minilm-uncased-squad2\")\n",
        "\n",
        "model = AutoModelForQuestionAnswering.from_pretrained(\"deepset/minilm-uncased-squad2\")"
      ],
      "execution_count": null,
      "outputs": [
        {
          "output_type": "display_data",
          "data": {
            "application/vnd.jupyter.widget-view+json": {
              "model_id": "667d5bbe15d941689e3f526e8928b442",
              "version_minor": 0,
              "version_major": 2
            },
            "text/plain": [
              "Downloading:   0%|          | 0.00/107 [00:00<?, ?B/s]"
            ]
          },
          "metadata": {}
        },
        {
          "output_type": "display_data",
          "data": {
            "application/vnd.jupyter.widget-view+json": {
              "model_id": "227a0ed8f9354b64bb38c6b41fc8d7af",
              "version_minor": 0,
              "version_major": 2
            },
            "text/plain": [
              "Downloading:   0%|          | 0.00/477 [00:00<?, ?B/s]"
            ]
          },
          "metadata": {}
        },
        {
          "output_type": "display_data",
          "data": {
            "application/vnd.jupyter.widget-view+json": {
              "model_id": "ed76e6f413444fd889c8b5f715850317",
              "version_minor": 0,
              "version_major": 2
            },
            "text/plain": [
              "Downloading:   0%|          | 0.00/226k [00:00<?, ?B/s]"
            ]
          },
          "metadata": {}
        },
        {
          "output_type": "display_data",
          "data": {
            "application/vnd.jupyter.widget-view+json": {
              "model_id": "ce276bdbbf444b0b9d76d50452e8d743",
              "version_minor": 0,
              "version_major": 2
            },
            "text/plain": [
              "Downloading:   0%|          | 0.00/112 [00:00<?, ?B/s]"
            ]
          },
          "metadata": {}
        },
        {
          "output_type": "display_data",
          "data": {
            "application/vnd.jupyter.widget-view+json": {
              "model_id": "e7a010bf14704150995c5c573d552de6",
              "version_minor": 0,
              "version_major": 2
            },
            "text/plain": [
              "Downloading:   0%|          | 0.00/127M [00:00<?, ?B/s]"
            ]
          },
          "metadata": {}
        }
      ]
    },
    {
      "cell_type": "code",
      "metadata": {
        "colab": {
          "base_uri": "https://localhost:8080/"
        },
        "id": "Mio13YdI-jIn",
        "outputId": "82f82f6b-a80b-435f-ff85-7efb122c8218"
      },
      "source": [
        "# Neural networks don't know what a string is\n",
        "tokenized_sentence = tokenizer.tokenize(\"Is Mark clear?\")\n",
        "print(tokenized_sentence)"
      ],
      "execution_count": null,
      "outputs": [
        {
          "output_type": "stream",
          "name": "stdout",
          "text": [
            "['is', 'mark', 'clear', '?']\n"
          ]
        }
      ]
    },
    {
      "cell_type": "code",
      "metadata": {
        "colab": {
          "base_uri": "https://localhost:8080/"
        },
        "id": "z49pjwir_SBj",
        "outputId": "df4e1cfa-b1d7-4893-ff3c-a768ca01bea7"
      },
      "source": [
        "# Neural networs don't know what strings are\n",
        "# For images you can use pixels\n",
        "# For text yo\n",
        "tokenized_sentence = tokenizer(\"What is my name?\", return_tensors='pt', truncation=True)\n",
        "model(**tokenized_sentence)"
      ],
      "execution_count": null,
      "outputs": [
        {
          "output_type": "stream",
          "name": "stderr",
          "text": [
            "Asking to truncate to max_length but no maximum length is provided and the model has no predefined maximum length. Default to no truncation.\n"
          ]
        },
        {
          "output_type": "execute_result",
          "data": {
            "text/plain": [
              "QuestionAnsweringModelOutput([('start_logits',\n",
              "                               tensor([[ 1.7510, -5.8749, -5.8916, -5.0617, -6.2590, -6.0950,  1.7509]],\n",
              "                                      grad_fn=<CloneBackward0>)),\n",
              "                              ('end_logits',\n",
              "                               tensor([[ 2.3407, -4.9248, -5.6527, -5.0064, -5.1805, -4.7368,  2.3406]],\n",
              "                                      grad_fn=<CloneBackward0>))])"
            ]
          },
          "metadata": {},
          "execution_count": 5
        }
      ]
    },
    {
      "cell_type": "code",
      "metadata": {
        "id": "c38TPsmu_yOd"
      },
      "source": [
        "output = model(**tokenized_sentence)"
      ],
      "execution_count": null,
      "outputs": []
    },
    {
      "cell_type": "code",
      "metadata": {
        "colab": {
          "base_uri": "https://localhost:8080/"
        },
        "id": "b2QHlJVhAGOQ",
        "outputId": "f42ec7e0-a22d-4ff5-f5df-5c263340733c"
      },
      "source": [
        "import numpy as np\n",
        "predictions = np.argmax(output.items, axis=-1)\n",
        "predictions"
      ],
      "execution_count": null,
      "outputs": [
        {
          "output_type": "execute_result",
          "data": {
            "text/plain": [
              "0"
            ]
          },
          "metadata": {},
          "execution_count": 7
        }
      ]
    },
    {
      "cell_type": "markdown",
      "metadata": {
        "id": "QHStU1FOBCDD"
      },
      "source": [
        ":("
      ]
    },
    {
      "cell_type": "markdown",
      "metadata": {
        "id": "W6HrDyyWiqzi"
      },
      "source": [
        "# Curve fitting\n",
        "https://scikit-learn.org/stable/modules/generated/sklearn.linear_model.LinearRegression.html\n"
      ]
    },
    {
      "cell_type": "code",
      "metadata": {
        "id": "6VONQLg7fw50"
      },
      "source": [
        "# Scikit learn\n",
        "import numpy as np\n",
        "from sklearn.linear_model import LinearRegression\n",
        "\n",
        "# Fit a line\n",
        "\n",
        "X = np.array([[1, 1], [1, 2], [2, 2], [2, 3]])\n",
        "y = np.dot(X, np.array([1, 2])) + 3\n",
        "reg = LinearRegression().fit(X, y)"
      ],
      "execution_count": null,
      "outputs": []
    },
    {
      "cell_type": "code",
      "metadata": {
        "colab": {
          "base_uri": "https://localhost:8080/"
        },
        "id": "oD-vAioIiVqz",
        "outputId": "469ebc94-605c-4af3-fc9d-886de908f43b"
      },
      "source": [
        "reg.score(X, y)\n"
      ],
      "execution_count": null,
      "outputs": [
        {
          "output_type": "execute_result",
          "data": {
            "text/plain": [
              "1.0"
            ]
          },
          "metadata": {},
          "execution_count": 8
        }
      ]
    },
    {
      "cell_type": "code",
      "metadata": {
        "colab": {
          "base_uri": "https://localhost:8080/"
        },
        "id": "8-idnSfTib-z",
        "outputId": "cabba1f9-4d7b-4972-dc7b-df4131ad835c"
      },
      "source": [
        "reg.coef_\n"
      ],
      "execution_count": null,
      "outputs": [
        {
          "output_type": "execute_result",
          "data": {
            "text/plain": [
              "array([1., 2.])"
            ]
          },
          "metadata": {},
          "execution_count": 9
        }
      ]
    },
    {
      "cell_type": "code",
      "metadata": {
        "colab": {
          "base_uri": "https://localhost:8080/"
        },
        "id": "SXUk1nowihv5",
        "outputId": "316fcd5d-84df-48f5-eb2f-9300fed5ffbd"
      },
      "source": [
        "reg.intercept_"
      ],
      "execution_count": null,
      "outputs": [
        {
          "output_type": "execute_result",
          "data": {
            "text/plain": [
              "3.0000000000000018"
            ]
          },
          "metadata": {},
          "execution_count": 10
        }
      ]
    },
    {
      "cell_type": "code",
      "metadata": {
        "colab": {
          "base_uri": "https://localhost:8080/"
        },
        "id": "0GhB7kfKineR",
        "outputId": "64db58e1-b7a1-4caf-dbf7-2e9dab433be9"
      },
      "source": [
        "\n",
        "reg.predict(np.array([[3, 5]]))"
      ],
      "execution_count": null,
      "outputs": [
        {
          "output_type": "execute_result",
          "data": {
            "text/plain": [
              "array([16.])"
            ]
          },
          "metadata": {},
          "execution_count": 11
        }
      ]
    },
    {
      "cell_type": "markdown",
      "metadata": {
        "id": "eJ4oF0LXviCF"
      },
      "source": [
        "# Training loops\n",
        "\n",
        "Note: Same idea for the HuggingFace trainer or Ignite or fast.ai or Keras any other popular trainer you like\n",
        "\n",
        "https://pytorch-lightning.readthedocs.io/en/latest/common/trainer.html\n",
        "\n",
        "\n",
        "> Set a model and training data data\n",
        "\n",
        "```python\n",
        "model = MyLightningModule()\n",
        "\n",
        "trainer = Trainer()\n",
        "\n",
        "# model can be pretrained as well in which case .fit() is really .finetune()\n",
        "trainer.fit(model, train_dataloader, val_dataloader)\n",
        "```\n",
        "\n",
        "> Data loader https://github.com/pytorch/data\n",
        "\n",
        "`train_dataset` could be csv, s3 bucket, binary data, images etc..\n",
        "\n",
        "```python\n",
        "def train_dataloader(self):\n",
        "    return torch.utils.data.DataLoader(self.train_dataset)\n",
        "```\n",
        "\n",
        "Can be made iteratable so you can do\n",
        "\n",
        "```\n",
        "for batch in train_data_loader():\n",
        "  model(batch)\n",
        "```\n",
        "\n",
        "> `fit()` code looks like\n",
        "\n",
        "```python\n",
        "# put model in train mode\n",
        "model.train()\n",
        "torch.set_grad_enabled(True)\n",
        "\n",
        "losses = []\n",
        "for batch in train_dataloader:\n",
        "    # calls hooks like this one\n",
        "    on_train_batch_start()\n",
        "\n",
        "    # train step\n",
        "    loss = training_step(batch)\n",
        "\n",
        "    # clear gradients\n",
        "    optimizer.zero_grad()\n",
        "\n",
        "    # backward\n",
        "    loss.backward()\n",
        "\n",
        "    # update parameters\n",
        "    optimizer.step()\n",
        "\n",
        "    losses.append(loss)\n",
        "```"
      ]
    },
    {
      "cell_type": "markdown",
      "metadata": {
        "id": "paWc2dPUHexF"
      },
      "source": [
        "# Training loop in English\n",
        "\n",
        "1. Find out how wrong your model is (loss)\n",
        "2. Find out by how wrong each layer is (loss.backward)\n",
        "3. Update your model (optimizer.step)"
      ]
    },
    {
      "cell_type": "markdown",
      "metadata": {
        "id": "q6jeuZMU7j5i"
      },
      "source": [
        "# Why Train a model from scratch?\n",
        "1. Can debug issues more easily\n",
        "2. Can do ML research\n",
        "3. You don't have a choice\n",
        "4. It's fun!"
      ]
    },
    {
      "cell_type": "markdown",
      "metadata": {
        "id": "to--VhC3CwDS"
      },
      "source": [
        "![occult](https://upload.wikimedia.org/wikipedia/commons/1/1b/A_Magician_by_Edward_Kelly.jpg)\n",
        "\n",
        "Engraving of occultists John Dee and Edward Kelley \"in the act of invoking the spirit of a deceased person\"; from Astrology (1806) by Ebenezer Sibly. CC\n"
      ]
    },
    {
      "cell_type": "markdown",
      "metadata": {
        "id": "c3dOKhnzIAib"
      },
      "source": []
    },
    {
      "cell_type": "markdown",
      "metadata": {
        "id": "8pSbXoJe8yOX"
      },
      "source": [
        "# What is Pytorch?\n",
        "\n",
        "PyTorch is a Python package that provides two high-level features:\n",
        "\n",
        "1. Tensor computation (like NumPy) with strong GPU acceleration\n",
        "2. Deep neural networks built on a tape-based autograd system"
      ]
    },
    {
      "cell_type": "code",
      "metadata": {
        "id": "qmDjS1-WPNS8"
      },
      "source": [
        "class TinyModel(torch.nn.Module):\n",
        "\n",
        "    def __init__(self):\n",
        "        super(TinyModel, self).__init__()\n",
        "\n",
        "        self.linear1 = torch.nn.Linear(100, 1000)\n",
        "        self.activation = torch.nn.ReLU()\n",
        "        self.linear2 = torch.nn.Linear(1000, 10)\n",
        "        self.softmax = torch.nn.Softmax()\n",
        "\n",
        "    def forward(self, x):\n",
        "        # linear\n",
        "        x = self.linear1(x)\n",
        "        # non linear\n",
        "        x = self.activation(x)\n",
        "        #linear\n",
        "        x = self.linear2(x)\n",
        "        # non linear\n",
        "        x = self.softmax(x)\n",
        "        return x"
      ],
      "execution_count": null,
      "outputs": []
    },
    {
      "cell_type": "code",
      "metadata": {
        "id": "lLu_Sev0hwZ5",
        "colab": {
          "base_uri": "https://localhost:8080/"
        },
        "outputId": "cc656652-38d4-4c53-cb4e-3a39642a801a"
      },
      "source": [
        "model = TinyModel()\n",
        "print(model)"
      ],
      "execution_count": null,
      "outputs": [
        {
          "output_type": "stream",
          "name": "stdout",
          "text": [
            "TinyModel(\n",
            "  (linear1): Linear(in_features=100, out_features=1000, bias=True)\n",
            "  (activation): ReLU()\n",
            "  (linear2): Linear(in_features=1000, out_features=10, bias=True)\n",
            "  (softmax): Softmax(dim=None)\n",
            ")\n"
          ]
        }
      ]
    },
    {
      "cell_type": "markdown",
      "metadata": {
        "id": "nUndiT4GuBW1"
      },
      "source": [
        "# Why Linear Layers\n",
        "* Attention includes 3 Linear layers\n",
        "* RNN is implemented using many linear layers\n",
        "* CNN can be implemented using Linear layers\n",
        "\n",
        "Different layer types have different inductive biases (fancy term for are good at certain kinds of tasks) but foundationally in terms of ops there's a few that come up over and over again"
      ]
    },
    {
      "cell_type": "code",
      "metadata": {
        "id": "sdqIlabzhxjh",
        "colab": {
          "base_uri": "https://localhost:8080/"
        },
        "outputId": "c6f9a06b-1466-424d-b57f-0dcf5ba73ffc"
      },
      "source": [
        "print(model)"
      ],
      "execution_count": null,
      "outputs": [
        {
          "output_type": "stream",
          "name": "stdout",
          "text": [
            "TinyModel(\n",
            "  (linear1): Linear(in_features=100, out_features=1000, bias=True)\n",
            "  (activation): ReLU()\n",
            "  (linear2): Linear(in_features=1000, out_features=10, bias=True)\n",
            "  (softmax): Softmax(dim=None)\n",
            ")\n"
          ]
        }
      ]
    },
    {
      "cell_type": "markdown",
      "metadata": {
        "id": "p6o6QoS--JbJ"
      },
      "source": [
        "It's all just matrix multiplication"
      ]
    },
    {
      "cell_type": "markdown",
      "metadata": {
        "id": "A7Y2d5oDh6BZ"
      },
      "source": [
        "1. in_features = 100\n",
        "2. hidden_features = 1000\n",
        "3. Nonlinearity (ReLu and Softmax activation functions)\n",
        "4. num_classes = 10\n",
        "5. Pick the most likely class softmax"
      ]
    },
    {
      "cell_type": "code",
      "metadata": {
        "colab": {
          "base_uri": "https://localhost:8080/"
        },
        "id": "ic8dahrCBw7g",
        "outputId": "289720ef-c3cb-4c00-dd23-49e66e9836fb"
      },
      "source": [
        "# ReLU gets rid of negative values\n",
        "m = torch.nn.ReLU()\n",
        "input = torch.randn(4)\n",
        "print(f\"input is {input}\")\n",
        "output = m(input)\n",
        "print(f\"output is {output}\")"
      ],
      "execution_count": null,
      "outputs": [
        {
          "output_type": "stream",
          "name": "stdout",
          "text": [
            "input is tensor([ 1.0583, -0.7064, -0.9405, -0.1706])\n",
            "output is tensor([1.0583, 0.0000, 0.0000, 0.0000])\n"
          ]
        }
      ]
    },
    {
      "cell_type": "code",
      "metadata": {
        "colab": {
          "base_uri": "https://localhost:8080/"
        },
        "id": "LCcAfxZGCmB7",
        "outputId": "170c8ad8-a4a7-41e3-a5ee-fe42819efb04"
      },
      "source": [
        "# Softmax to pick a class\n",
        "m = torch.nn.Softmax(dim=-1)\n",
        "input = torch.randn(4)\n",
        "print(f\"input is {input}\")\n",
        "output = m(input)\n",
        "print(f\"output is {output}\")\n",
        "sum = output.sum(dim=-1)\n",
        "print(f\"sum is {sum}\")"
      ],
      "execution_count": null,
      "outputs": [
        {
          "output_type": "stream",
          "name": "stdout",
          "text": [
            "input is tensor([-0.2975, -0.3973, -2.3170, -0.8353])\n",
            "output is tensor([0.3814, 0.3452, 0.0506, 0.2228])\n",
            "sum is 0.9999998807907104\n"
          ]
        }
      ]
    },
    {
      "cell_type": "markdown",
      "metadata": {
        "id": "OIi01L7O9yKQ"
      },
      "source": [
        "Other important layer types\n",
        "* `torch.nn.Conv2D` (get information from a region in a tensor)\n",
        "* `torch.nn.LSTM` (if you want your model to remember things)"
      ]
    },
    {
      "cell_type": "code",
      "metadata": {
        "id": "zLKJ-8h0jzZ0",
        "colab": {
          "base_uri": "https://localhost:8080/"
        },
        "outputId": "88129127-a9d1-485b-ba68-1255f911e05e"
      },
      "source": [
        "! pip install rich -q"
      ],
      "execution_count": null,
      "outputs": [
        {
          "output_type": "stream",
          "name": "stdout",
          "text": [
            "\u001b[K     |████████████████████████████████| 213 kB 4.0 MB/s \n",
            "\u001b[K     |████████████████████████████████| 51 kB 6.9 MB/s \n",
            "\u001b[?25h"
          ]
        }
      ]
    },
    {
      "cell_type": "code",
      "metadata": {
        "id": "5Tl3K59-hyLU"
      },
      "source": [
        "from rich import inspect"
      ],
      "execution_count": null,
      "outputs": []
    },
    {
      "cell_type": "code",
      "metadata": {
        "id": "sIkp3IkcjkK0",
        "colab": {
          "base_uri": "https://localhost:8080/",
          "height": 149
        },
        "outputId": "15b12ec0-ddcf-4fa6-fb59-cd1367adf488"
      },
      "source": [
        "inspect(torch.nn.ReLU)"
      ],
      "execution_count": null,
      "outputs": [
        {
          "output_type": "display_data",
          "data": {
            "text/html": [
              "<pre style=\"white-space:pre;overflow-x:auto;line-height:normal;font-family:Menlo,'DejaVu Sans Mono',consolas,'Courier New',monospace\"><span style=\"color: #000080; text-decoration-color: #000080\">╭─────── </span><span style=\"color: #000080; text-decoration-color: #000080; font-weight: bold\">&lt;</span><span style=\"color: #ff00ff; text-decoration-color: #ff00ff; font-weight: bold\">class</span><span style=\"color: #000000; text-decoration-color: #000000\"> </span><span style=\"color: #008000; text-decoration-color: #008000\">'torch.nn.modules.activation.ReLU'</span><span style=\"color: #000080; text-decoration-color: #000080; font-weight: bold\">&gt;</span><span style=\"color: #000080; text-decoration-color: #000080\"> ───────╮</span>\n",
              "<span style=\"color: #000080; text-decoration-color: #000080\">│</span> <span style=\"color: #00ffff; text-decoration-color: #00ffff; font-style: italic\">def </span><span style=\"color: #800000; text-decoration-color: #800000; font-weight: bold\">ReLU</span><span style=\"font-weight: bold\">(</span>inplace: bool = <span style=\"color: #ff0000; text-decoration-color: #ff0000; font-style: italic\">False</span><span style=\"font-weight: bold\">)</span>:                         <span style=\"color: #000080; text-decoration-color: #000080\">│</span>\n",
              "<span style=\"color: #000080; text-decoration-color: #000080\">│</span>                                                          <span style=\"color: #000080; text-decoration-color: #000080\">│</span>\n",
              "<span style=\"color: #000080; text-decoration-color: #000080\">│</span> <span style=\"color: #008080; text-decoration-color: #008080\">Applies the rectified linear unit function element-wise:</span> <span style=\"color: #000080; text-decoration-color: #000080\">│</span>\n",
              "<span style=\"color: #000080; text-decoration-color: #000080\">│</span>                                                          <span style=\"color: #000080; text-decoration-color: #000080\">│</span>\n",
              "<span style=\"color: #000080; text-decoration-color: #000080\">│</span>  <span style=\"color: #808000; text-decoration-color: #808000; font-style: italic\">dump_patches</span> = <span style=\"color: #ff0000; text-decoration-color: #ff0000; font-style: italic\">False</span>                                    <span style=\"color: #000080; text-decoration-color: #000080\">│</span>\n",
              "<span style=\"color: #000080; text-decoration-color: #000080\">│</span> <span style=\"color: #808000; text-decoration-color: #808000; font-style: italic\">T_destination</span> = ~T_destination                           <span style=\"color: #000080; text-decoration-color: #000080\">│</span>\n",
              "<span style=\"color: #000080; text-decoration-color: #000080\">╰──────────────────────────────────────────────────────────╯</span>\n",
              "</pre>\n"
            ],
            "text/plain": [
              "\u001b[34m╭─\u001b[0m\u001b[34m────── \u001b[0m\u001b[1;34m<\u001b[0m\u001b[1;95mclass\u001b[0m\u001b[39m \u001b[0m\u001b[32m'torch.nn.modules.activation.ReLU'\u001b[0m\u001b[1;34m>\u001b[0m\u001b[34m ──────\u001b[0m\u001b[34m─╮\u001b[0m\n",
              "\u001b[34m│\u001b[0m \u001b[3;96mdef \u001b[0m\u001b[1;31mReLU\u001b[0m\u001b[1m(\u001b[0minplace: bool = \u001b[3;91mFalse\u001b[0m\u001b[1m)\u001b[0m:                         \u001b[34m│\u001b[0m\n",
              "\u001b[34m│\u001b[0m                                                          \u001b[34m│\u001b[0m\n",
              "\u001b[34m│\u001b[0m \u001b[36mApplies the rectified linear unit function element-wise:\u001b[0m \u001b[34m│\u001b[0m\n",
              "\u001b[34m│\u001b[0m                                                          \u001b[34m│\u001b[0m\n",
              "\u001b[34m│\u001b[0m  \u001b[3;33mdump_patches\u001b[0m = \u001b[3;91mFalse\u001b[0m                                    \u001b[34m│\u001b[0m\n",
              "\u001b[34m│\u001b[0m \u001b[3;33mT_destination\u001b[0m = ~T_destination                           \u001b[34m│\u001b[0m\n",
              "\u001b[34m╰──────────────────────────────────────────────────────────╯\u001b[0m\n"
            ]
          },
          "metadata": {}
        }
      ]
    },
    {
      "cell_type": "code",
      "metadata": {
        "id": "MreUn9IEkKbu",
        "colab": {
          "base_uri": "https://localhost:8080/",
          "height": 165
        },
        "outputId": "12054286-1473-405f-f48b-ac424771b856"
      },
      "source": [
        "inspect(torch.nn.Linear)"
      ],
      "execution_count": null,
      "outputs": [
        {
          "output_type": "display_data",
          "data": {
            "text/html": [
              "<pre style=\"white-space:pre;overflow-x:auto;line-height:normal;font-family:Menlo,'DejaVu Sans Mono',consolas,'Courier New',monospace\"><span style=\"color: #000080; text-decoration-color: #000080\">╭──────────────────────── </span><span style=\"color: #000080; text-decoration-color: #000080; font-weight: bold\">&lt;</span><span style=\"color: #ff00ff; text-decoration-color: #ff00ff; font-weight: bold\">class</span><span style=\"color: #000000; text-decoration-color: #000000\"> </span><span style=\"color: #008000; text-decoration-color: #008000\">'torch.nn.modules.linear.Linear'</span><span style=\"color: #000080; text-decoration-color: #000080; font-weight: bold\">&gt;</span><span style=\"color: #000080; text-decoration-color: #000080\"> ─────────────────────────╮</span>\n",
              "<span style=\"color: #000080; text-decoration-color: #000080\">│</span> <span style=\"color: #00ffff; text-decoration-color: #00ffff; font-style: italic\">def </span><span style=\"color: #800000; text-decoration-color: #800000; font-weight: bold\">Linear</span><span style=\"font-weight: bold\">(</span>in_features: int, out_features: int, bias: bool = <span style=\"color: #00ff00; text-decoration-color: #00ff00; font-style: italic\">True</span>, <span style=\"color: #808000; text-decoration-color: #808000\">device</span>=<span style=\"color: #800080; text-decoration-color: #800080; font-style: italic\">None</span>,           <span style=\"color: #000080; text-decoration-color: #000080\">│</span>\n",
              "<span style=\"color: #000080; text-decoration-color: #000080\">│</span> <span style=\"color: #808000; text-decoration-color: #808000\">dtype</span>=<span style=\"color: #800080; text-decoration-color: #800080; font-style: italic\">None</span><span style=\"font-weight: bold\">)</span> -&gt; <span style=\"color: #800080; text-decoration-color: #800080; font-style: italic\">None</span>:                                                                      <span style=\"color: #000080; text-decoration-color: #000080\">│</span>\n",
              "<span style=\"color: #000080; text-decoration-color: #000080\">│</span>                                                                                           <span style=\"color: #000080; text-decoration-color: #000080\">│</span>\n",
              "<span style=\"color: #000080; text-decoration-color: #000080\">│</span> <span style=\"color: #008080; text-decoration-color: #008080\">Applies a linear transformation to the incoming data: :math:`y = xA^T + b`</span>                <span style=\"color: #000080; text-decoration-color: #000080\">│</span>\n",
              "<span style=\"color: #000080; text-decoration-color: #000080\">│</span>                                                                                           <span style=\"color: #000080; text-decoration-color: #000080\">│</span>\n",
              "<span style=\"color: #000080; text-decoration-color: #000080\">│</span>  <span style=\"color: #808000; text-decoration-color: #808000; font-style: italic\">dump_patches</span> = <span style=\"color: #ff0000; text-decoration-color: #ff0000; font-style: italic\">False</span>                                                                     <span style=\"color: #000080; text-decoration-color: #000080\">│</span>\n",
              "<span style=\"color: #000080; text-decoration-color: #000080\">│</span> <span style=\"color: #808000; text-decoration-color: #808000; font-style: italic\">T_destination</span> = ~T_destination                                                            <span style=\"color: #000080; text-decoration-color: #000080\">│</span>\n",
              "<span style=\"color: #000080; text-decoration-color: #000080\">╰───────────────────────────────────────────────────────────────────────────────────────────╯</span>\n",
              "</pre>\n"
            ],
            "text/plain": [
              "\u001b[34m╭─\u001b[0m\u001b[34m─────────────────────── \u001b[0m\u001b[1;34m<\u001b[0m\u001b[1;95mclass\u001b[0m\u001b[39m \u001b[0m\u001b[32m'torch.nn.modules.linear.Linear'\u001b[0m\u001b[1;34m>\u001b[0m\u001b[34m ────────────────────────\u001b[0m\u001b[34m─╮\u001b[0m\n",
              "\u001b[34m│\u001b[0m \u001b[3;96mdef \u001b[0m\u001b[1;31mLinear\u001b[0m\u001b[1m(\u001b[0min_features: int, out_features: int, bias: bool = \u001b[3;92mTrue\u001b[0m, \u001b[33mdevice\u001b[0m=\u001b[3;35mNone\u001b[0m,           \u001b[34m│\u001b[0m\n",
              "\u001b[34m│\u001b[0m \u001b[33mdtype\u001b[0m=\u001b[3;35mNone\u001b[0m\u001b[1m)\u001b[0m -> \u001b[3;35mNone\u001b[0m:                                                                      \u001b[34m│\u001b[0m\n",
              "\u001b[34m│\u001b[0m                                                                                           \u001b[34m│\u001b[0m\n",
              "\u001b[34m│\u001b[0m \u001b[36mApplies a linear transformation to the incoming data: :math:`y = xA^T + b`\u001b[0m                \u001b[34m│\u001b[0m\n",
              "\u001b[34m│\u001b[0m                                                                                           \u001b[34m│\u001b[0m\n",
              "\u001b[34m│\u001b[0m  \u001b[3;33mdump_patches\u001b[0m = \u001b[3;91mFalse\u001b[0m                                                                     \u001b[34m│\u001b[0m\n",
              "\u001b[34m│\u001b[0m \u001b[3;33mT_destination\u001b[0m = ~T_destination                                                            \u001b[34m│\u001b[0m\n",
              "\u001b[34m╰───────────────────────────────────────────────────────────────────────────────────────────╯\u001b[0m\n"
            ]
          },
          "metadata": {}
        }
      ]
    },
    {
      "cell_type": "code",
      "metadata": {
        "id": "b-oiQTTxkXzf",
        "colab": {
          "base_uri": "https://localhost:8080/",
          "height": 182
        },
        "outputId": "948baa7b-cb56-4e24-fed9-5d9c734a7162"
      },
      "source": [
        "inspect(torch.nn.Softmax)"
      ],
      "execution_count": null,
      "outputs": [
        {
          "output_type": "display_data",
          "data": {
            "text/html": [
              "<pre style=\"white-space:pre;overflow-x:auto;line-height:normal;font-family:Menlo,'DejaVu Sans Mono',consolas,'Courier New',monospace\"><span style=\"color: #000080; text-decoration-color: #000080\">╭──────────── </span><span style=\"color: #000080; text-decoration-color: #000080; font-weight: bold\">&lt;</span><span style=\"color: #ff00ff; text-decoration-color: #ff00ff; font-weight: bold\">class</span><span style=\"color: #000000; text-decoration-color: #000000\"> </span><span style=\"color: #008000; text-decoration-color: #008000\">'torch.nn.modules.activation.Softmax'</span><span style=\"color: #000080; text-decoration-color: #000080; font-weight: bold\">&gt;</span><span style=\"color: #000080; text-decoration-color: #000080\"> ─────────────╮</span>\n",
              "<span style=\"color: #000080; text-decoration-color: #000080\">│</span> <span style=\"color: #00ffff; text-decoration-color: #00ffff; font-style: italic\">def </span><span style=\"color: #800000; text-decoration-color: #800000; font-weight: bold\">Softmax</span><span style=\"font-weight: bold\">(</span>dim: Union<span style=\"font-weight: bold\">[</span>int, NoneType<span style=\"font-weight: bold\">]</span> = <span style=\"color: #800080; text-decoration-color: #800080; font-style: italic\">None</span><span style=\"font-weight: bold\">)</span> -&gt; <span style=\"color: #800080; text-decoration-color: #800080; font-style: italic\">None</span>:                 <span style=\"color: #000080; text-decoration-color: #000080\">│</span>\n",
              "<span style=\"color: #000080; text-decoration-color: #000080\">│</span>                                                                        <span style=\"color: #000080; text-decoration-color: #000080\">│</span>\n",
              "<span style=\"color: #000080; text-decoration-color: #000080\">│</span> <span style=\"color: #008080; text-decoration-color: #008080\">Applies the Softmax function to an n-dimensional input Tensor</span>          <span style=\"color: #000080; text-decoration-color: #000080\">│</span>\n",
              "<span style=\"color: #000080; text-decoration-color: #000080\">│</span> <span style=\"color: #008080; text-decoration-color: #008080\">rescaling them so that the elements of the n-dimensional output Tensor</span> <span style=\"color: #000080; text-decoration-color: #000080\">│</span>\n",
              "<span style=\"color: #000080; text-decoration-color: #000080\">│</span> <span style=\"color: #008080; text-decoration-color: #008080\">lie in the range </span><span style=\"color: #008080; text-decoration-color: #008080; font-weight: bold\">[</span><span style=\"color: #008080; text-decoration-color: #008080; font-weight: bold\">0</span><span style=\"color: #008080; text-decoration-color: #008080\">,</span><span style=\"color: #008080; text-decoration-color: #008080; font-weight: bold\">1</span><span style=\"color: #008080; text-decoration-color: #008080; font-weight: bold\">]</span><span style=\"color: #008080; text-decoration-color: #008080\"> and sum to </span><span style=\"color: #008080; text-decoration-color: #008080; font-weight: bold\">1</span><span style=\"color: #008080; text-decoration-color: #008080\">.</span>                                   <span style=\"color: #000080; text-decoration-color: #000080\">│</span>\n",
              "<span style=\"color: #000080; text-decoration-color: #000080\">│</span>                                                                        <span style=\"color: #000080; text-decoration-color: #000080\">│</span>\n",
              "<span style=\"color: #000080; text-decoration-color: #000080\">│</span>  <span style=\"color: #808000; text-decoration-color: #808000; font-style: italic\">dump_patches</span> = <span style=\"color: #ff0000; text-decoration-color: #ff0000; font-style: italic\">False</span>                                                  <span style=\"color: #000080; text-decoration-color: #000080\">│</span>\n",
              "<span style=\"color: #000080; text-decoration-color: #000080\">│</span> <span style=\"color: #808000; text-decoration-color: #808000; font-style: italic\">T_destination</span> = ~T_destination                                         <span style=\"color: #000080; text-decoration-color: #000080\">│</span>\n",
              "<span style=\"color: #000080; text-decoration-color: #000080\">╰────────────────────────────────────────────────────────────────────────╯</span>\n",
              "</pre>\n"
            ],
            "text/plain": [
              "\u001b[34m╭─\u001b[0m\u001b[34m─────────── \u001b[0m\u001b[1;34m<\u001b[0m\u001b[1;95mclass\u001b[0m\u001b[39m \u001b[0m\u001b[32m'torch.nn.modules.activation.Softmax'\u001b[0m\u001b[1;34m>\u001b[0m\u001b[34m ────────────\u001b[0m\u001b[34m─╮\u001b[0m\n",
              "\u001b[34m│\u001b[0m \u001b[3;96mdef \u001b[0m\u001b[1;31mSoftmax\u001b[0m\u001b[1m(\u001b[0mdim: Union\u001b[1m[\u001b[0mint, NoneType\u001b[1m]\u001b[0m = \u001b[3;35mNone\u001b[0m\u001b[1m)\u001b[0m -> \u001b[3;35mNone\u001b[0m:                 \u001b[34m│\u001b[0m\n",
              "\u001b[34m│\u001b[0m                                                                        \u001b[34m│\u001b[0m\n",
              "\u001b[34m│\u001b[0m \u001b[36mApplies the Softmax function to an n-dimensional input Tensor\u001b[0m          \u001b[34m│\u001b[0m\n",
              "\u001b[34m│\u001b[0m \u001b[36mrescaling them so that the elements of the n-dimensional output Tensor\u001b[0m \u001b[34m│\u001b[0m\n",
              "\u001b[34m│\u001b[0m \u001b[36mlie in the range \u001b[0m\u001b[1;36m[\u001b[0m\u001b[1;36m0\u001b[0m\u001b[36m,\u001b[0m\u001b[1;36m1\u001b[0m\u001b[1;36m]\u001b[0m\u001b[36m and sum to \u001b[0m\u001b[1;36m1\u001b[0m\u001b[36m.\u001b[0m                                   \u001b[34m│\u001b[0m\n",
              "\u001b[34m│\u001b[0m                                                                        \u001b[34m│\u001b[0m\n",
              "\u001b[34m│\u001b[0m  \u001b[3;33mdump_patches\u001b[0m = \u001b[3;91mFalse\u001b[0m                                                  \u001b[34m│\u001b[0m\n",
              "\u001b[34m│\u001b[0m \u001b[3;33mT_destination\u001b[0m = ~T_destination                                         \u001b[34m│\u001b[0m\n",
              "\u001b[34m╰────────────────────────────────────────────────────────────────────────╯\u001b[0m\n"
            ]
          },
          "metadata": {}
        }
      ]
    },
    {
      "cell_type": "code",
      "metadata": {
        "id": "4LQl40etiJyp",
        "colab": {
          "base_uri": "https://localhost:8080/"
        },
        "outputId": "7bf6df7e-e397-4254-ef16-7e8fe3c30953"
      },
      "source": [
        "for param in model.parameters():\n",
        "  print(param)"
      ],
      "execution_count": null,
      "outputs": [
        {
          "output_type": "stream",
          "name": "stdout",
          "text": [
            "Parameter containing:\n",
            "tensor([[-0.0815,  0.0615,  0.0646,  ...,  0.0222,  0.0194,  0.0032],\n",
            "        [ 0.0126,  0.0323, -0.0114,  ...,  0.0016,  0.0956, -0.0300],\n",
            "        [-0.0907,  0.0732, -0.0074,  ..., -0.0555,  0.0403, -0.0816],\n",
            "        ...,\n",
            "        [ 0.0669, -0.0596,  0.0222,  ..., -0.0236,  0.0687,  0.0611],\n",
            "        [-0.0533, -0.0475, -0.0621,  ...,  0.0366, -0.0086,  0.0843],\n",
            "        [-0.0226,  0.0020,  0.0798,  ..., -0.0105, -0.0931,  0.0431]],\n",
            "       requires_grad=True)\n",
            "Parameter containing:\n",
            "tensor([-8.0451e-02,  2.6209e-02, -3.9328e-02, -6.7743e-02,  1.6366e-02,\n",
            "        -9.0035e-02,  1.7493e-02,  6.1228e-02,  9.4750e-02, -3.8858e-02,\n",
            "         5.7701e-02, -4.0638e-02, -1.1974e-02,  2.3735e-02, -8.3661e-02,\n",
            "         3.9129e-02,  3.0327e-03, -4.7050e-02,  9.7114e-02, -2.1298e-03,\n",
            "        -3.1234e-02,  9.5966e-03, -4.8852e-02, -7.6519e-03, -2.2535e-02,\n",
            "         1.7180e-02,  5.4345e-02, -1.4042e-03,  7.9103e-02, -1.6878e-02,\n",
            "        -5.7365e-03, -9.6197e-02,  6.7781e-02, -7.3764e-02, -9.6236e-03,\n",
            "         3.5732e-02, -2.5420e-02,  4.2903e-02, -8.4395e-02,  8.7974e-02,\n",
            "         7.5431e-02,  2.2988e-02, -7.1161e-02, -4.8681e-02, -6.8183e-02,\n",
            "         1.6521e-02, -7.3575e-02,  5.3043e-03,  7.2626e-02,  4.2370e-02,\n",
            "         8.0797e-02, -3.9259e-02,  1.8049e-02, -6.3819e-02, -4.9936e-02,\n",
            "        -7.0403e-02, -6.2839e-02,  2.2921e-02,  1.0692e-03, -8.8535e-03,\n",
            "         9.4051e-02,  4.2617e-02, -3.6593e-02,  9.7972e-03, -6.3308e-03,\n",
            "         1.8686e-03, -3.4663e-02,  6.6850e-02,  7.6355e-02, -8.8384e-02,\n",
            "         7.6680e-02, -3.3733e-02,  6.5121e-02,  4.1697e-03, -2.8516e-02,\n",
            "        -4.6372e-02,  3.2665e-02,  5.9334e-02,  9.8825e-02, -8.6412e-02,\n",
            "         7.9452e-02, -2.2063e-02, -2.8985e-02, -8.5399e-03, -9.5845e-02,\n",
            "         7.1082e-02,  3.7732e-02,  2.7575e-02, -1.9025e-02,  5.5013e-02,\n",
            "         1.4467e-02, -8.2282e-02, -7.4105e-02, -3.2421e-02, -6.5708e-02,\n",
            "         3.8017e-02, -4.0045e-02, -2.1780e-02, -3.9709e-03,  8.9485e-02,\n",
            "         5.7496e-02, -1.0238e-02, -8.8894e-02,  3.9959e-02,  3.7141e-02,\n",
            "        -1.6583e-02,  7.0951e-03,  4.3971e-02,  5.4492e-03, -8.7342e-02,\n",
            "        -2.3679e-02,  5.0953e-02,  4.6550e-02, -2.5101e-02,  8.2214e-02,\n",
            "         5.2156e-02,  1.3816e-02,  2.2745e-02,  4.1023e-02, -5.8340e-02,\n",
            "        -6.1803e-02, -6.4722e-02, -2.1309e-02,  6.3623e-02, -9.6665e-02,\n",
            "         3.2689e-02, -9.4720e-02,  2.5035e-02, -4.1476e-02,  2.6342e-02,\n",
            "        -8.2468e-02, -7.0185e-02,  1.2026e-02, -8.8032e-02, -1.2137e-02,\n",
            "         7.0744e-02, -1.8413e-02, -8.4240e-02, -6.1557e-02,  7.2182e-02,\n",
            "        -2.6781e-03,  6.8053e-02,  5.9263e-02,  7.7849e-02, -9.3488e-02,\n",
            "        -2.0836e-02, -4.2219e-02, -9.0507e-03, -9.3378e-03, -3.9720e-02,\n",
            "        -4.0716e-02,  4.1821e-02,  4.8962e-02, -1.8954e-02, -5.2993e-02,\n",
            "        -8.2734e-02,  5.4621e-02, -3.8327e-02,  5.9446e-02,  9.2708e-02,\n",
            "        -3.2492e-03, -2.2192e-02, -4.4946e-02,  8.4956e-02, -6.1237e-02,\n",
            "        -1.7007e-03, -3.9553e-03,  6.8855e-02, -2.3129e-02, -8.0807e-02,\n",
            "        -2.6025e-02, -9.2609e-02,  9.2946e-02, -9.5327e-02, -4.1128e-02,\n",
            "        -9.7441e-02,  4.1230e-03, -2.2488e-02, -5.0918e-03,  7.7118e-02,\n",
            "        -4.4259e-02, -8.9875e-02, -7.9358e-02,  5.6879e-02,  2.9367e-02,\n",
            "        -8.8334e-02,  5.7607e-02,  2.3273e-02,  9.3691e-02,  4.5915e-02,\n",
            "        -3.8645e-02, -8.8651e-02, -6.6516e-02,  6.7626e-02,  8.4897e-02,\n",
            "         4.3591e-02, -6.8638e-02, -3.6902e-02,  3.3882e-02,  2.1178e-02,\n",
            "        -4.6869e-02,  2.9368e-02,  3.7665e-02, -3.0349e-02,  6.6059e-02,\n",
            "        -1.6063e-02,  5.2360e-02,  6.2389e-03, -3.1764e-02,  7.5095e-02,\n",
            "         4.0388e-03, -4.2538e-02, -4.4261e-02, -4.9980e-02,  7.7077e-02,\n",
            "        -2.0838e-02, -5.1230e-02, -7.0836e-02, -3.6304e-02, -5.1683e-02,\n",
            "         2.8876e-03,  2.3609e-02, -9.6147e-02,  1.0532e-03,  5.1717e-02,\n",
            "        -6.3840e-02, -9.0670e-02, -1.7982e-02,  9.2811e-02,  6.4697e-02,\n",
            "         8.2158e-02,  5.3620e-02, -4.2180e-02, -3.4543e-02,  6.7612e-02,\n",
            "         1.6848e-02, -6.0843e-02, -7.8263e-02,  6.4750e-02, -4.5545e-02,\n",
            "        -7.0528e-02,  2.9730e-02, -9.2292e-02,  7.8110e-02, -3.8230e-02,\n",
            "         1.0205e-02,  3.7642e-02,  9.6440e-02,  9.9055e-02, -7.7905e-02,\n",
            "         1.1004e-02,  3.2318e-02, -7.4734e-02, -6.5009e-02, -9.9366e-04,\n",
            "        -6.8848e-02, -9.1002e-02,  8.0607e-02, -7.3576e-02, -8.7332e-02,\n",
            "         1.5303e-02, -5.1316e-02,  8.2880e-02,  6.9627e-02, -6.4808e-02,\n",
            "        -2.5260e-03,  8.1255e-03, -4.4499e-02, -3.4505e-02,  8.0870e-02,\n",
            "        -5.4674e-02,  2.4473e-02,  3.8702e-02, -3.3744e-02,  1.6799e-02,\n",
            "         1.7918e-02, -7.6446e-03,  5.0099e-03, -7.6027e-02, -3.3635e-02,\n",
            "         4.6527e-02, -4.9633e-02, -3.1527e-04, -2.1719e-02,  5.7891e-02,\n",
            "         9.1721e-02, -6.6169e-02, -6.4596e-02,  3.9737e-02,  3.4477e-02,\n",
            "        -8.2554e-02,  9.5352e-02,  1.6904e-02, -9.9684e-02,  7.6463e-02,\n",
            "         9.7930e-02, -8.5749e-02, -2.2364e-02, -9.1696e-03,  4.9187e-02,\n",
            "        -6.8395e-03, -2.0227e-02,  4.6331e-03,  4.2820e-02,  1.5319e-02,\n",
            "        -2.4909e-02,  3.8325e-02,  7.9251e-02,  2.2222e-02,  1.2517e-02,\n",
            "         9.9971e-02,  4.3326e-02,  2.8989e-02,  7.4383e-02,  7.3959e-02,\n",
            "         2.1385e-02, -1.9393e-03,  2.1320e-02, -4.6601e-02, -9.0319e-02,\n",
            "        -6.7189e-02, -7.6396e-02, -7.7064e-02, -8.7136e-03,  9.1159e-02,\n",
            "        -4.8320e-02,  5.1812e-02,  3.3619e-02, -3.7528e-02, -1.7788e-02,\n",
            "         2.2275e-02, -5.6522e-02, -7.7059e-02,  3.9070e-02,  7.6004e-02,\n",
            "         6.8031e-03,  7.0225e-02,  5.3607e-02,  8.7104e-02,  4.6715e-02,\n",
            "        -5.7556e-02,  5.0299e-02, -3.3428e-02,  1.7096e-02,  5.2722e-02,\n",
            "        -3.4098e-02, -4.2138e-02,  3.7349e-02,  3.7661e-02, -1.5187e-02,\n",
            "         2.4975e-02,  1.1774e-02, -5.8735e-02, -8.0410e-02,  5.2804e-02,\n",
            "         1.9003e-02,  1.3482e-02,  4.7915e-02, -2.3741e-02,  3.7712e-02,\n",
            "        -4.7079e-02, -9.4390e-02, -4.7044e-02,  6.3386e-02,  5.1099e-02,\n",
            "        -7.9780e-02,  8.4024e-02, -8.1037e-02,  8.1791e-03,  2.3303e-02,\n",
            "         3.2095e-02,  2.0508e-03,  5.4462e-02, -5.9770e-02,  1.5565e-02,\n",
            "         7.8612e-02, -9.9597e-03,  3.5439e-02, -3.9507e-02,  7.8224e-02,\n",
            "         4.2502e-02,  9.2490e-02,  3.0355e-02,  7.5587e-02,  7.4855e-02,\n",
            "         4.9927e-02,  7.2983e-02, -2.7761e-02, -8.2702e-03, -4.8213e-02,\n",
            "         4.1317e-02,  8.0649e-02, -4.4795e-02, -4.6556e-02, -9.1224e-03,\n",
            "         9.8624e-02, -6.0030e-03, -2.9072e-03,  5.6734e-03,  9.3630e-02,\n",
            "         7.9684e-02, -9.7655e-02, -4.2244e-02,  5.3387e-02,  9.2831e-02,\n",
            "        -7.6261e-02,  9.2996e-02, -4.6297e-02, -9.6096e-02,  3.5327e-02,\n",
            "        -5.9393e-03, -5.1169e-02,  8.6452e-03, -7.5939e-02, -3.9764e-02,\n",
            "         3.0143e-03, -2.5788e-02, -3.5598e-02,  3.6497e-02, -1.7959e-02,\n",
            "        -3.4164e-02,  3.8403e-02,  9.5799e-02, -5.7060e-02,  4.1354e-02,\n",
            "         5.2301e-02,  3.9177e-02,  4.4248e-02, -8.8828e-02,  8.7596e-03,\n",
            "         8.1815e-02,  2.8498e-03, -1.8633e-02, -1.4299e-02,  7.7046e-02,\n",
            "        -5.9939e-02,  9.9213e-02, -8.6057e-02, -9.9237e-02, -4.4404e-02,\n",
            "        -3.7682e-03, -5.8399e-02, -2.2549e-02, -9.0714e-02,  6.5544e-02,\n",
            "        -6.5314e-02,  6.5778e-02,  4.9608e-02,  5.0454e-02,  8.8408e-02,\n",
            "         4.6532e-02,  2.4467e-02,  3.2699e-02, -4.0797e-02,  4.6680e-02,\n",
            "         9.2251e-02, -6.2863e-02,  2.4580e-02,  9.2701e-02,  1.8321e-02,\n",
            "        -6.3948e-02,  4.8689e-02,  5.9189e-02, -5.7508e-02,  5.4011e-02,\n",
            "        -3.8725e-02, -1.8202e-02, -3.7642e-02, -9.2511e-03,  9.2253e-02,\n",
            "         6.2221e-02,  4.9825e-02,  9.7058e-02,  3.9489e-02,  8.0919e-05,\n",
            "         4.7590e-02,  5.3796e-03,  4.5314e-02,  1.5232e-02,  3.4482e-02,\n",
            "        -5.9594e-02,  8.8565e-02,  2.0624e-02, -6.2302e-02, -3.4238e-02,\n",
            "         1.5351e-02,  3.4338e-03, -3.1439e-02,  5.6907e-02, -7.5044e-02,\n",
            "         7.6890e-02,  5.9884e-02,  9.6415e-03,  8.9269e-02,  1.7326e-02,\n",
            "         7.7916e-02,  2.3199e-02,  7.9147e-02,  9.2212e-02, -6.5961e-02,\n",
            "         6.5144e-02, -7.8613e-02, -9.7484e-02,  3.9097e-02,  2.8928e-02,\n",
            "        -6.6440e-02, -4.3555e-02, -5.2908e-02,  3.8404e-03,  5.4520e-04,\n",
            "         5.4424e-02,  4.6270e-02,  8.4304e-02,  2.4103e-02, -6.3387e-04,\n",
            "         5.6589e-02,  6.2962e-02, -6.8997e-02,  6.1166e-02,  6.1237e-02,\n",
            "         4.1419e-02,  3.2963e-02, -9.8488e-02, -5.5175e-02, -2.3578e-02,\n",
            "         4.9480e-02, -6.5142e-02,  2.5439e-02, -6.4149e-02,  5.8166e-02,\n",
            "        -2.0386e-02, -8.2823e-02, -2.9865e-02, -9.3635e-03, -8.9850e-02,\n",
            "        -6.1338e-02, -4.2155e-02,  9.8757e-02,  4.0503e-02,  3.6945e-02,\n",
            "        -9.4378e-02, -4.8890e-02, -1.9950e-02, -3.3418e-02,  6.9444e-02,\n",
            "        -4.4356e-02, -4.5733e-02, -3.2409e-02,  8.1990e-02, -7.5219e-02,\n",
            "         1.8374e-02,  6.7828e-02,  8.9855e-02, -7.1792e-03,  3.1545e-02,\n",
            "        -3.2137e-02,  1.2808e-02,  8.9083e-03, -7.6303e-02, -7.6591e-03,\n",
            "        -7.1545e-02, -7.1075e-03, -2.6595e-02, -8.1263e-02,  4.0733e-02,\n",
            "        -9.1982e-02,  8.0343e-02,  2.9143e-02, -2.5039e-02,  5.3068e-02,\n",
            "         7.8640e-04,  2.1523e-02, -7.8777e-02, -5.4636e-02, -1.2401e-02,\n",
            "        -2.5366e-02,  3.9816e-02,  1.9451e-02,  7.7155e-03, -6.4100e-02,\n",
            "         8.4853e-02, -2.5950e-02,  9.5991e-02, -5.9406e-03,  1.0847e-02,\n",
            "        -4.9849e-03,  3.2821e-02, -6.6451e-02,  1.0857e-02,  1.4380e-03,\n",
            "         5.0046e-02,  2.9582e-02,  3.7701e-02,  1.8619e-04, -8.9256e-02,\n",
            "         8.5457e-02,  5.2989e-02,  3.5363e-03, -6.2984e-02,  1.6195e-02,\n",
            "        -1.1625e-02, -3.8760e-02, -7.4323e-02, -6.2528e-02,  1.9475e-02,\n",
            "        -6.5435e-02, -4.3836e-02, -7.3245e-02,  9.1413e-02, -5.8734e-02,\n",
            "        -1.3615e-02, -9.8025e-02,  5.7314e-02, -2.2534e-03, -7.4255e-02,\n",
            "         3.5049e-02, -3.5431e-02,  5.9816e-02, -9.8792e-02, -4.1402e-02,\n",
            "        -3.5110e-02, -8.2801e-02, -4.5694e-02,  9.8326e-02, -9.1892e-02,\n",
            "        -1.8816e-02,  7.9241e-02, -3.1271e-02, -2.0408e-02, -8.0402e-02,\n",
            "         3.2002e-02,  3.1813e-02,  5.4311e-02,  6.9772e-02,  1.6071e-02,\n",
            "        -4.9479e-02,  9.2800e-03,  4.3345e-03, -5.8786e-02,  4.9806e-02,\n",
            "        -6.7688e-02, -1.1198e-02, -6.9988e-02,  1.6392e-02, -1.0893e-02,\n",
            "        -5.3397e-03,  5.5693e-02,  9.8342e-02,  2.6988e-02,  2.8061e-02,\n",
            "         3.4003e-02, -3.8754e-02,  3.6834e-02, -2.4795e-02,  9.1387e-02,\n",
            "        -4.7007e-02, -3.5226e-02,  9.5252e-02, -9.2291e-02,  5.0286e-02,\n",
            "        -1.8951e-02, -7.9895e-02, -2.6757e-02, -1.4946e-02,  8.3112e-02,\n",
            "        -3.0720e-02,  8.3749e-02, -5.5419e-02, -2.0901e-03, -4.7781e-02,\n",
            "         6.0537e-02, -9.9808e-02, -3.9536e-02, -4.7852e-02, -6.2469e-02,\n",
            "         5.7439e-02,  2.5073e-02,  6.5229e-02, -8.3615e-02, -1.9722e-02,\n",
            "         4.2805e-02,  2.1834e-02,  5.8148e-02,  2.8738e-02, -3.8472e-02,\n",
            "        -2.7776e-02, -2.7084e-02, -4.7959e-02, -3.2040e-02,  6.2218e-03,\n",
            "         8.0496e-02,  2.4718e-02, -6.3859e-02, -9.8312e-02, -7.1643e-03,\n",
            "        -1.9666e-02, -1.3262e-02, -9.6421e-02,  3.5679e-02, -2.6599e-03,\n",
            "         5.0837e-02, -5.7425e-02,  5.9527e-02,  6.2291e-02,  4.0057e-02,\n",
            "        -2.6803e-02,  2.8402e-03, -6.3633e-02, -8.3983e-03, -3.8464e-03,\n",
            "         7.7892e-02,  9.5852e-02,  4.0160e-02, -7.3915e-02,  8.7249e-02,\n",
            "        -7.9140e-02,  1.2570e-03,  1.6837e-02,  5.5932e-02, -3.3133e-02,\n",
            "         3.9650e-02,  6.8757e-02,  4.8707e-02,  1.9255e-02, -7.7098e-02,\n",
            "         3.4989e-02,  9.3536e-03,  9.0649e-02, -4.8114e-02, -4.2819e-02,\n",
            "        -7.9482e-02,  6.0409e-03,  2.3356e-02, -3.0328e-02,  9.0524e-02,\n",
            "         2.0886e-02, -6.4171e-02, -3.5816e-02,  1.6990e-02, -9.8523e-02,\n",
            "         1.6442e-02,  5.9696e-02,  9.2024e-02, -7.4689e-03, -7.3695e-02,\n",
            "        -3.7549e-02, -8.9539e-02, -9.3126e-02, -9.7188e-02, -4.5226e-02,\n",
            "         4.1388e-03,  7.4902e-03,  9.4237e-02,  9.8880e-02, -8.8775e-02,\n",
            "         3.3832e-03, -4.0889e-02,  4.2021e-02, -9.8706e-02,  3.8631e-02,\n",
            "         5.0380e-02,  2.6729e-02, -2.4447e-03, -2.6583e-02, -7.0560e-02,\n",
            "         4.8295e-02,  3.2214e-03, -3.7627e-02,  3.7523e-02,  2.6109e-02,\n",
            "         4.4051e-02, -5.7136e-02, -2.3450e-03,  4.8007e-02,  9.3573e-03,\n",
            "         6.8787e-02, -3.2331e-02,  4.6528e-02,  2.0199e-02,  8.2379e-02,\n",
            "         9.2851e-03, -9.6958e-02,  4.9453e-02,  1.1751e-02,  7.7764e-02,\n",
            "         2.9832e-02,  8.5556e-02,  8.8827e-02,  7.1144e-02,  5.1869e-02,\n",
            "         6.2469e-02, -7.2811e-02, -8.1247e-02, -7.4931e-02,  2.6978e-02,\n",
            "        -1.0434e-02, -4.7525e-02, -2.6121e-02,  5.7489e-02,  9.6859e-02,\n",
            "         4.0574e-04, -5.8336e-02,  9.3586e-02,  8.0797e-02,  6.0432e-02,\n",
            "         8.5307e-02,  6.1089e-02,  5.9099e-02,  5.8864e-02,  4.7671e-03,\n",
            "         7.3712e-02, -8.3832e-02, -1.8754e-02, -1.4054e-02, -2.9128e-02,\n",
            "         7.9428e-02, -9.4435e-02, -4.9245e-02, -9.7288e-02,  8.2295e-02,\n",
            "         7.7921e-02, -8.8667e-02,  3.6025e-02, -2.8668e-02, -2.7354e-02,\n",
            "         7.0314e-02,  5.4073e-02,  8.7713e-02,  6.2726e-02, -8.4357e-02,\n",
            "         7.6346e-02,  6.6252e-03, -1.1987e-02, -6.3480e-02, -8.5289e-02,\n",
            "        -4.2254e-02,  2.7442e-02,  6.6835e-02,  9.7251e-02,  9.3820e-02,\n",
            "        -9.1147e-02,  8.2576e-02, -3.0208e-02, -3.1694e-02,  3.9959e-02,\n",
            "         2.9414e-02, -6.6860e-02, -8.0309e-02, -7.0114e-02,  7.9718e-02,\n",
            "        -9.4213e-02, -1.4075e-02, -5.1648e-02,  6.9126e-02,  8.3675e-02,\n",
            "         9.5426e-02, -8.2866e-02, -1.8347e-02,  2.0723e-02, -8.3054e-02,\n",
            "        -9.8173e-02,  9.5605e-02, -4.7990e-02,  8.8301e-02,  5.4648e-02,\n",
            "        -2.4035e-02,  7.8302e-03, -2.7789e-03, -1.9263e-03,  3.8733e-02,\n",
            "         7.7854e-02,  5.1080e-02,  1.5447e-02,  7.3549e-03, -5.6120e-02,\n",
            "        -7.6645e-02,  6.5550e-02, -9.4337e-02, -7.5869e-02,  9.1304e-03,\n",
            "         5.7146e-02,  2.4838e-02,  7.8330e-02, -1.0664e-02, -7.2377e-02,\n",
            "         9.0372e-02,  8.9428e-02,  2.1735e-02, -7.6177e-02,  1.5621e-02,\n",
            "        -6.1051e-02, -5.5809e-02,  4.5501e-02,  4.5507e-02, -8.2623e-02,\n",
            "         8.3743e-02,  7.4096e-02, -8.9608e-02, -7.2112e-02, -9.0177e-02,\n",
            "         2.8429e-02, -7.1509e-02, -3.7023e-02, -1.4622e-02,  9.1824e-02,\n",
            "        -4.6461e-03, -5.9991e-03,  4.8750e-02,  8.6431e-02,  9.4260e-02,\n",
            "         1.6469e-02,  9.6119e-02, -8.7220e-02,  7.0976e-02, -9.7144e-02,\n",
            "        -7.5320e-02, -9.2177e-03,  2.1843e-02, -5.8043e-02,  5.0394e-02,\n",
            "         9.3445e-02, -6.7009e-02,  9.9696e-02,  6.0075e-02, -2.5494e-03,\n",
            "        -5.0716e-02, -2.5801e-02,  3.3013e-02, -1.5117e-03,  3.6476e-02,\n",
            "        -3.0262e-02, -7.2215e-02, -1.8835e-03, -6.4935e-02, -3.4906e-02,\n",
            "         5.0369e-02, -7.1459e-02,  8.7140e-02, -4.8093e-02,  3.5266e-02,\n",
            "         8.6528e-02, -8.9225e-02, -6.6813e-02,  9.2465e-02, -9.0227e-02,\n",
            "        -8.5462e-02, -4.8868e-02, -2.0818e-02, -4.6538e-02,  8.9120e-02,\n",
            "         5.8433e-02,  5.4835e-02, -9.1605e-02,  2.2121e-02,  5.8366e-02,\n",
            "        -9.8926e-02,  4.7692e-02, -1.0590e-02,  5.6208e-02, -9.8673e-02,\n",
            "         7.8548e-02, -4.6555e-02,  2.1299e-02, -5.2609e-02,  4.7309e-02,\n",
            "        -1.8017e-02, -8.6918e-02, -8.8571e-02,  1.4709e-02, -2.9034e-02,\n",
            "        -3.7761e-03, -8.2011e-02, -8.1582e-02, -6.4209e-02, -9.7457e-02,\n",
            "        -5.8206e-02,  5.5397e-02,  5.6547e-02,  8.3472e-02,  8.4275e-02,\n",
            "         4.7739e-02, -1.3450e-02,  9.2477e-02, -2.9909e-02,  3.3389e-02,\n",
            "         3.4313e-02, -2.0593e-02, -9.1892e-02,  2.6492e-02, -2.3292e-02,\n",
            "        -5.1995e-02, -9.3484e-02, -8.9308e-02,  1.9278e-02, -5.1638e-02,\n",
            "        -4.4676e-02,  8.8446e-02,  8.1653e-02,  4.9268e-02,  7.5828e-02],\n",
            "       requires_grad=True)\n",
            "Parameter containing:\n",
            "tensor([[ 0.0306,  0.0144, -0.0113,  ..., -0.0252, -0.0178,  0.0186],\n",
            "        [-0.0202,  0.0262,  0.0072,  ...,  0.0003, -0.0210, -0.0103],\n",
            "        [-0.0197, -0.0270,  0.0015,  ..., -0.0058,  0.0287, -0.0045],\n",
            "        ...,\n",
            "        [ 0.0002,  0.0240,  0.0112,  ..., -0.0039, -0.0191, -0.0116],\n",
            "        [-0.0008, -0.0210, -0.0175,  ...,  0.0209,  0.0303, -0.0039],\n",
            "        [ 0.0080,  0.0037, -0.0155,  ...,  0.0015, -0.0066, -0.0127]],\n",
            "       requires_grad=True)\n",
            "Parameter containing:\n",
            "tensor([ 0.0107,  0.0153,  0.0254,  0.0171, -0.0257,  0.0310,  0.0141,  0.0225,\n",
            "        -0.0070,  0.0236], requires_grad=True)\n"
          ]
        }
      ]
    },
    {
      "cell_type": "code",
      "metadata": {
        "id": "Uo8AGxaqiwHu",
        "colab": {
          "base_uri": "https://localhost:8080/"
        },
        "outputId": "e0f2c9e1-6808-4e28-ace6-3f4daadb2c64"
      },
      "source": [
        "for param in model.linear1.parameters():\n",
        "  print(param)"
      ],
      "execution_count": null,
      "outputs": [
        {
          "output_type": "stream",
          "name": "stdout",
          "text": [
            "Parameter containing:\n",
            "tensor([[-0.0815,  0.0615,  0.0646,  ...,  0.0222,  0.0194,  0.0032],\n",
            "        [ 0.0126,  0.0323, -0.0114,  ...,  0.0016,  0.0956, -0.0300],\n",
            "        [-0.0907,  0.0732, -0.0074,  ..., -0.0555,  0.0403, -0.0816],\n",
            "        ...,\n",
            "        [ 0.0669, -0.0596,  0.0222,  ..., -0.0236,  0.0687,  0.0611],\n",
            "        [-0.0533, -0.0475, -0.0621,  ...,  0.0366, -0.0086,  0.0843],\n",
            "        [-0.0226,  0.0020,  0.0798,  ..., -0.0105, -0.0931,  0.0431]],\n",
            "       requires_grad=True)\n",
            "Parameter containing:\n",
            "tensor([-8.0451e-02,  2.6209e-02, -3.9328e-02, -6.7743e-02,  1.6366e-02,\n",
            "        -9.0035e-02,  1.7493e-02,  6.1228e-02,  9.4750e-02, -3.8858e-02,\n",
            "         5.7701e-02, -4.0638e-02, -1.1974e-02,  2.3735e-02, -8.3661e-02,\n",
            "         3.9129e-02,  3.0327e-03, -4.7050e-02,  9.7114e-02, -2.1298e-03,\n",
            "        -3.1234e-02,  9.5966e-03, -4.8852e-02, -7.6519e-03, -2.2535e-02,\n",
            "         1.7180e-02,  5.4345e-02, -1.4042e-03,  7.9103e-02, -1.6878e-02,\n",
            "        -5.7365e-03, -9.6197e-02,  6.7781e-02, -7.3764e-02, -9.6236e-03,\n",
            "         3.5732e-02, -2.5420e-02,  4.2903e-02, -8.4395e-02,  8.7974e-02,\n",
            "         7.5431e-02,  2.2988e-02, -7.1161e-02, -4.8681e-02, -6.8183e-02,\n",
            "         1.6521e-02, -7.3575e-02,  5.3043e-03,  7.2626e-02,  4.2370e-02,\n",
            "         8.0797e-02, -3.9259e-02,  1.8049e-02, -6.3819e-02, -4.9936e-02,\n",
            "        -7.0403e-02, -6.2839e-02,  2.2921e-02,  1.0692e-03, -8.8535e-03,\n",
            "         9.4051e-02,  4.2617e-02, -3.6593e-02,  9.7972e-03, -6.3308e-03,\n",
            "         1.8686e-03, -3.4663e-02,  6.6850e-02,  7.6355e-02, -8.8384e-02,\n",
            "         7.6680e-02, -3.3733e-02,  6.5121e-02,  4.1697e-03, -2.8516e-02,\n",
            "        -4.6372e-02,  3.2665e-02,  5.9334e-02,  9.8825e-02, -8.6412e-02,\n",
            "         7.9452e-02, -2.2063e-02, -2.8985e-02, -8.5399e-03, -9.5845e-02,\n",
            "         7.1082e-02,  3.7732e-02,  2.7575e-02, -1.9025e-02,  5.5013e-02,\n",
            "         1.4467e-02, -8.2282e-02, -7.4105e-02, -3.2421e-02, -6.5708e-02,\n",
            "         3.8017e-02, -4.0045e-02, -2.1780e-02, -3.9709e-03,  8.9485e-02,\n",
            "         5.7496e-02, -1.0238e-02, -8.8894e-02,  3.9959e-02,  3.7141e-02,\n",
            "        -1.6583e-02,  7.0951e-03,  4.3971e-02,  5.4492e-03, -8.7342e-02,\n",
            "        -2.3679e-02,  5.0953e-02,  4.6550e-02, -2.5101e-02,  8.2214e-02,\n",
            "         5.2156e-02,  1.3816e-02,  2.2745e-02,  4.1023e-02, -5.8340e-02,\n",
            "        -6.1803e-02, -6.4722e-02, -2.1309e-02,  6.3623e-02, -9.6665e-02,\n",
            "         3.2689e-02, -9.4720e-02,  2.5035e-02, -4.1476e-02,  2.6342e-02,\n",
            "        -8.2468e-02, -7.0185e-02,  1.2026e-02, -8.8032e-02, -1.2137e-02,\n",
            "         7.0744e-02, -1.8413e-02, -8.4240e-02, -6.1557e-02,  7.2182e-02,\n",
            "        -2.6781e-03,  6.8053e-02,  5.9263e-02,  7.7849e-02, -9.3488e-02,\n",
            "        -2.0836e-02, -4.2219e-02, -9.0507e-03, -9.3378e-03, -3.9720e-02,\n",
            "        -4.0716e-02,  4.1821e-02,  4.8962e-02, -1.8954e-02, -5.2993e-02,\n",
            "        -8.2734e-02,  5.4621e-02, -3.8327e-02,  5.9446e-02,  9.2708e-02,\n",
            "        -3.2492e-03, -2.2192e-02, -4.4946e-02,  8.4956e-02, -6.1237e-02,\n",
            "        -1.7007e-03, -3.9553e-03,  6.8855e-02, -2.3129e-02, -8.0807e-02,\n",
            "        -2.6025e-02, -9.2609e-02,  9.2946e-02, -9.5327e-02, -4.1128e-02,\n",
            "        -9.7441e-02,  4.1230e-03, -2.2488e-02, -5.0918e-03,  7.7118e-02,\n",
            "        -4.4259e-02, -8.9875e-02, -7.9358e-02,  5.6879e-02,  2.9367e-02,\n",
            "        -8.8334e-02,  5.7607e-02,  2.3273e-02,  9.3691e-02,  4.5915e-02,\n",
            "        -3.8645e-02, -8.8651e-02, -6.6516e-02,  6.7626e-02,  8.4897e-02,\n",
            "         4.3591e-02, -6.8638e-02, -3.6902e-02,  3.3882e-02,  2.1178e-02,\n",
            "        -4.6869e-02,  2.9368e-02,  3.7665e-02, -3.0349e-02,  6.6059e-02,\n",
            "        -1.6063e-02,  5.2360e-02,  6.2389e-03, -3.1764e-02,  7.5095e-02,\n",
            "         4.0388e-03, -4.2538e-02, -4.4261e-02, -4.9980e-02,  7.7077e-02,\n",
            "        -2.0838e-02, -5.1230e-02, -7.0836e-02, -3.6304e-02, -5.1683e-02,\n",
            "         2.8876e-03,  2.3609e-02, -9.6147e-02,  1.0532e-03,  5.1717e-02,\n",
            "        -6.3840e-02, -9.0670e-02, -1.7982e-02,  9.2811e-02,  6.4697e-02,\n",
            "         8.2158e-02,  5.3620e-02, -4.2180e-02, -3.4543e-02,  6.7612e-02,\n",
            "         1.6848e-02, -6.0843e-02, -7.8263e-02,  6.4750e-02, -4.5545e-02,\n",
            "        -7.0528e-02,  2.9730e-02, -9.2292e-02,  7.8110e-02, -3.8230e-02,\n",
            "         1.0205e-02,  3.7642e-02,  9.6440e-02,  9.9055e-02, -7.7905e-02,\n",
            "         1.1004e-02,  3.2318e-02, -7.4734e-02, -6.5009e-02, -9.9366e-04,\n",
            "        -6.8848e-02, -9.1002e-02,  8.0607e-02, -7.3576e-02, -8.7332e-02,\n",
            "         1.5303e-02, -5.1316e-02,  8.2880e-02,  6.9627e-02, -6.4808e-02,\n",
            "        -2.5260e-03,  8.1255e-03, -4.4499e-02, -3.4505e-02,  8.0870e-02,\n",
            "        -5.4674e-02,  2.4473e-02,  3.8702e-02, -3.3744e-02,  1.6799e-02,\n",
            "         1.7918e-02, -7.6446e-03,  5.0099e-03, -7.6027e-02, -3.3635e-02,\n",
            "         4.6527e-02, -4.9633e-02, -3.1527e-04, -2.1719e-02,  5.7891e-02,\n",
            "         9.1721e-02, -6.6169e-02, -6.4596e-02,  3.9737e-02,  3.4477e-02,\n",
            "        -8.2554e-02,  9.5352e-02,  1.6904e-02, -9.9684e-02,  7.6463e-02,\n",
            "         9.7930e-02, -8.5749e-02, -2.2364e-02, -9.1696e-03,  4.9187e-02,\n",
            "        -6.8395e-03, -2.0227e-02,  4.6331e-03,  4.2820e-02,  1.5319e-02,\n",
            "        -2.4909e-02,  3.8325e-02,  7.9251e-02,  2.2222e-02,  1.2517e-02,\n",
            "         9.9971e-02,  4.3326e-02,  2.8989e-02,  7.4383e-02,  7.3959e-02,\n",
            "         2.1385e-02, -1.9393e-03,  2.1320e-02, -4.6601e-02, -9.0319e-02,\n",
            "        -6.7189e-02, -7.6396e-02, -7.7064e-02, -8.7136e-03,  9.1159e-02,\n",
            "        -4.8320e-02,  5.1812e-02,  3.3619e-02, -3.7528e-02, -1.7788e-02,\n",
            "         2.2275e-02, -5.6522e-02, -7.7059e-02,  3.9070e-02,  7.6004e-02,\n",
            "         6.8031e-03,  7.0225e-02,  5.3607e-02,  8.7104e-02,  4.6715e-02,\n",
            "        -5.7556e-02,  5.0299e-02, -3.3428e-02,  1.7096e-02,  5.2722e-02,\n",
            "        -3.4098e-02, -4.2138e-02,  3.7349e-02,  3.7661e-02, -1.5187e-02,\n",
            "         2.4975e-02,  1.1774e-02, -5.8735e-02, -8.0410e-02,  5.2804e-02,\n",
            "         1.9003e-02,  1.3482e-02,  4.7915e-02, -2.3741e-02,  3.7712e-02,\n",
            "        -4.7079e-02, -9.4390e-02, -4.7044e-02,  6.3386e-02,  5.1099e-02,\n",
            "        -7.9780e-02,  8.4024e-02, -8.1037e-02,  8.1791e-03,  2.3303e-02,\n",
            "         3.2095e-02,  2.0508e-03,  5.4462e-02, -5.9770e-02,  1.5565e-02,\n",
            "         7.8612e-02, -9.9597e-03,  3.5439e-02, -3.9507e-02,  7.8224e-02,\n",
            "         4.2502e-02,  9.2490e-02,  3.0355e-02,  7.5587e-02,  7.4855e-02,\n",
            "         4.9927e-02,  7.2983e-02, -2.7761e-02, -8.2702e-03, -4.8213e-02,\n",
            "         4.1317e-02,  8.0649e-02, -4.4795e-02, -4.6556e-02, -9.1224e-03,\n",
            "         9.8624e-02, -6.0030e-03, -2.9072e-03,  5.6734e-03,  9.3630e-02,\n",
            "         7.9684e-02, -9.7655e-02, -4.2244e-02,  5.3387e-02,  9.2831e-02,\n",
            "        -7.6261e-02,  9.2996e-02, -4.6297e-02, -9.6096e-02,  3.5327e-02,\n",
            "        -5.9393e-03, -5.1169e-02,  8.6452e-03, -7.5939e-02, -3.9764e-02,\n",
            "         3.0143e-03, -2.5788e-02, -3.5598e-02,  3.6497e-02, -1.7959e-02,\n",
            "        -3.4164e-02,  3.8403e-02,  9.5799e-02, -5.7060e-02,  4.1354e-02,\n",
            "         5.2301e-02,  3.9177e-02,  4.4248e-02, -8.8828e-02,  8.7596e-03,\n",
            "         8.1815e-02,  2.8498e-03, -1.8633e-02, -1.4299e-02,  7.7046e-02,\n",
            "        -5.9939e-02,  9.9213e-02, -8.6057e-02, -9.9237e-02, -4.4404e-02,\n",
            "        -3.7682e-03, -5.8399e-02, -2.2549e-02, -9.0714e-02,  6.5544e-02,\n",
            "        -6.5314e-02,  6.5778e-02,  4.9608e-02,  5.0454e-02,  8.8408e-02,\n",
            "         4.6532e-02,  2.4467e-02,  3.2699e-02, -4.0797e-02,  4.6680e-02,\n",
            "         9.2251e-02, -6.2863e-02,  2.4580e-02,  9.2701e-02,  1.8321e-02,\n",
            "        -6.3948e-02,  4.8689e-02,  5.9189e-02, -5.7508e-02,  5.4011e-02,\n",
            "        -3.8725e-02, -1.8202e-02, -3.7642e-02, -9.2511e-03,  9.2253e-02,\n",
            "         6.2221e-02,  4.9825e-02,  9.7058e-02,  3.9489e-02,  8.0919e-05,\n",
            "         4.7590e-02,  5.3796e-03,  4.5314e-02,  1.5232e-02,  3.4482e-02,\n",
            "        -5.9594e-02,  8.8565e-02,  2.0624e-02, -6.2302e-02, -3.4238e-02,\n",
            "         1.5351e-02,  3.4338e-03, -3.1439e-02,  5.6907e-02, -7.5044e-02,\n",
            "         7.6890e-02,  5.9884e-02,  9.6415e-03,  8.9269e-02,  1.7326e-02,\n",
            "         7.7916e-02,  2.3199e-02,  7.9147e-02,  9.2212e-02, -6.5961e-02,\n",
            "         6.5144e-02, -7.8613e-02, -9.7484e-02,  3.9097e-02,  2.8928e-02,\n",
            "        -6.6440e-02, -4.3555e-02, -5.2908e-02,  3.8404e-03,  5.4520e-04,\n",
            "         5.4424e-02,  4.6270e-02,  8.4304e-02,  2.4103e-02, -6.3387e-04,\n",
            "         5.6589e-02,  6.2962e-02, -6.8997e-02,  6.1166e-02,  6.1237e-02,\n",
            "         4.1419e-02,  3.2963e-02, -9.8488e-02, -5.5175e-02, -2.3578e-02,\n",
            "         4.9480e-02, -6.5142e-02,  2.5439e-02, -6.4149e-02,  5.8166e-02,\n",
            "        -2.0386e-02, -8.2823e-02, -2.9865e-02, -9.3635e-03, -8.9850e-02,\n",
            "        -6.1338e-02, -4.2155e-02,  9.8757e-02,  4.0503e-02,  3.6945e-02,\n",
            "        -9.4378e-02, -4.8890e-02, -1.9950e-02, -3.3418e-02,  6.9444e-02,\n",
            "        -4.4356e-02, -4.5733e-02, -3.2409e-02,  8.1990e-02, -7.5219e-02,\n",
            "         1.8374e-02,  6.7828e-02,  8.9855e-02, -7.1792e-03,  3.1545e-02,\n",
            "        -3.2137e-02,  1.2808e-02,  8.9083e-03, -7.6303e-02, -7.6591e-03,\n",
            "        -7.1545e-02, -7.1075e-03, -2.6595e-02, -8.1263e-02,  4.0733e-02,\n",
            "        -9.1982e-02,  8.0343e-02,  2.9143e-02, -2.5039e-02,  5.3068e-02,\n",
            "         7.8640e-04,  2.1523e-02, -7.8777e-02, -5.4636e-02, -1.2401e-02,\n",
            "        -2.5366e-02,  3.9816e-02,  1.9451e-02,  7.7155e-03, -6.4100e-02,\n",
            "         8.4853e-02, -2.5950e-02,  9.5991e-02, -5.9406e-03,  1.0847e-02,\n",
            "        -4.9849e-03,  3.2821e-02, -6.6451e-02,  1.0857e-02,  1.4380e-03,\n",
            "         5.0046e-02,  2.9582e-02,  3.7701e-02,  1.8619e-04, -8.9256e-02,\n",
            "         8.5457e-02,  5.2989e-02,  3.5363e-03, -6.2984e-02,  1.6195e-02,\n",
            "        -1.1625e-02, -3.8760e-02, -7.4323e-02, -6.2528e-02,  1.9475e-02,\n",
            "        -6.5435e-02, -4.3836e-02, -7.3245e-02,  9.1413e-02, -5.8734e-02,\n",
            "        -1.3615e-02, -9.8025e-02,  5.7314e-02, -2.2534e-03, -7.4255e-02,\n",
            "         3.5049e-02, -3.5431e-02,  5.9816e-02, -9.8792e-02, -4.1402e-02,\n",
            "        -3.5110e-02, -8.2801e-02, -4.5694e-02,  9.8326e-02, -9.1892e-02,\n",
            "        -1.8816e-02,  7.9241e-02, -3.1271e-02, -2.0408e-02, -8.0402e-02,\n",
            "         3.2002e-02,  3.1813e-02,  5.4311e-02,  6.9772e-02,  1.6071e-02,\n",
            "        -4.9479e-02,  9.2800e-03,  4.3345e-03, -5.8786e-02,  4.9806e-02,\n",
            "        -6.7688e-02, -1.1198e-02, -6.9988e-02,  1.6392e-02, -1.0893e-02,\n",
            "        -5.3397e-03,  5.5693e-02,  9.8342e-02,  2.6988e-02,  2.8061e-02,\n",
            "         3.4003e-02, -3.8754e-02,  3.6834e-02, -2.4795e-02,  9.1387e-02,\n",
            "        -4.7007e-02, -3.5226e-02,  9.5252e-02, -9.2291e-02,  5.0286e-02,\n",
            "        -1.8951e-02, -7.9895e-02, -2.6757e-02, -1.4946e-02,  8.3112e-02,\n",
            "        -3.0720e-02,  8.3749e-02, -5.5419e-02, -2.0901e-03, -4.7781e-02,\n",
            "         6.0537e-02, -9.9808e-02, -3.9536e-02, -4.7852e-02, -6.2469e-02,\n",
            "         5.7439e-02,  2.5073e-02,  6.5229e-02, -8.3615e-02, -1.9722e-02,\n",
            "         4.2805e-02,  2.1834e-02,  5.8148e-02,  2.8738e-02, -3.8472e-02,\n",
            "        -2.7776e-02, -2.7084e-02, -4.7959e-02, -3.2040e-02,  6.2218e-03,\n",
            "         8.0496e-02,  2.4718e-02, -6.3859e-02, -9.8312e-02, -7.1643e-03,\n",
            "        -1.9666e-02, -1.3262e-02, -9.6421e-02,  3.5679e-02, -2.6599e-03,\n",
            "         5.0837e-02, -5.7425e-02,  5.9527e-02,  6.2291e-02,  4.0057e-02,\n",
            "        -2.6803e-02,  2.8402e-03, -6.3633e-02, -8.3983e-03, -3.8464e-03,\n",
            "         7.7892e-02,  9.5852e-02,  4.0160e-02, -7.3915e-02,  8.7249e-02,\n",
            "        -7.9140e-02,  1.2570e-03,  1.6837e-02,  5.5932e-02, -3.3133e-02,\n",
            "         3.9650e-02,  6.8757e-02,  4.8707e-02,  1.9255e-02, -7.7098e-02,\n",
            "         3.4989e-02,  9.3536e-03,  9.0649e-02, -4.8114e-02, -4.2819e-02,\n",
            "        -7.9482e-02,  6.0409e-03,  2.3356e-02, -3.0328e-02,  9.0524e-02,\n",
            "         2.0886e-02, -6.4171e-02, -3.5816e-02,  1.6990e-02, -9.8523e-02,\n",
            "         1.6442e-02,  5.9696e-02,  9.2024e-02, -7.4689e-03, -7.3695e-02,\n",
            "        -3.7549e-02, -8.9539e-02, -9.3126e-02, -9.7188e-02, -4.5226e-02,\n",
            "         4.1388e-03,  7.4902e-03,  9.4237e-02,  9.8880e-02, -8.8775e-02,\n",
            "         3.3832e-03, -4.0889e-02,  4.2021e-02, -9.8706e-02,  3.8631e-02,\n",
            "         5.0380e-02,  2.6729e-02, -2.4447e-03, -2.6583e-02, -7.0560e-02,\n",
            "         4.8295e-02,  3.2214e-03, -3.7627e-02,  3.7523e-02,  2.6109e-02,\n",
            "         4.4051e-02, -5.7136e-02, -2.3450e-03,  4.8007e-02,  9.3573e-03,\n",
            "         6.8787e-02, -3.2331e-02,  4.6528e-02,  2.0199e-02,  8.2379e-02,\n",
            "         9.2851e-03, -9.6958e-02,  4.9453e-02,  1.1751e-02,  7.7764e-02,\n",
            "         2.9832e-02,  8.5556e-02,  8.8827e-02,  7.1144e-02,  5.1869e-02,\n",
            "         6.2469e-02, -7.2811e-02, -8.1247e-02, -7.4931e-02,  2.6978e-02,\n",
            "        -1.0434e-02, -4.7525e-02, -2.6121e-02,  5.7489e-02,  9.6859e-02,\n",
            "         4.0574e-04, -5.8336e-02,  9.3586e-02,  8.0797e-02,  6.0432e-02,\n",
            "         8.5307e-02,  6.1089e-02,  5.9099e-02,  5.8864e-02,  4.7671e-03,\n",
            "         7.3712e-02, -8.3832e-02, -1.8754e-02, -1.4054e-02, -2.9128e-02,\n",
            "         7.9428e-02, -9.4435e-02, -4.9245e-02, -9.7288e-02,  8.2295e-02,\n",
            "         7.7921e-02, -8.8667e-02,  3.6025e-02, -2.8668e-02, -2.7354e-02,\n",
            "         7.0314e-02,  5.4073e-02,  8.7713e-02,  6.2726e-02, -8.4357e-02,\n",
            "         7.6346e-02,  6.6252e-03, -1.1987e-02, -6.3480e-02, -8.5289e-02,\n",
            "        -4.2254e-02,  2.7442e-02,  6.6835e-02,  9.7251e-02,  9.3820e-02,\n",
            "        -9.1147e-02,  8.2576e-02, -3.0208e-02, -3.1694e-02,  3.9959e-02,\n",
            "         2.9414e-02, -6.6860e-02, -8.0309e-02, -7.0114e-02,  7.9718e-02,\n",
            "        -9.4213e-02, -1.4075e-02, -5.1648e-02,  6.9126e-02,  8.3675e-02,\n",
            "         9.5426e-02, -8.2866e-02, -1.8347e-02,  2.0723e-02, -8.3054e-02,\n",
            "        -9.8173e-02,  9.5605e-02, -4.7990e-02,  8.8301e-02,  5.4648e-02,\n",
            "        -2.4035e-02,  7.8302e-03, -2.7789e-03, -1.9263e-03,  3.8733e-02,\n",
            "         7.7854e-02,  5.1080e-02,  1.5447e-02,  7.3549e-03, -5.6120e-02,\n",
            "        -7.6645e-02,  6.5550e-02, -9.4337e-02, -7.5869e-02,  9.1304e-03,\n",
            "         5.7146e-02,  2.4838e-02,  7.8330e-02, -1.0664e-02, -7.2377e-02,\n",
            "         9.0372e-02,  8.9428e-02,  2.1735e-02, -7.6177e-02,  1.5621e-02,\n",
            "        -6.1051e-02, -5.5809e-02,  4.5501e-02,  4.5507e-02, -8.2623e-02,\n",
            "         8.3743e-02,  7.4096e-02, -8.9608e-02, -7.2112e-02, -9.0177e-02,\n",
            "         2.8429e-02, -7.1509e-02, -3.7023e-02, -1.4622e-02,  9.1824e-02,\n",
            "        -4.6461e-03, -5.9991e-03,  4.8750e-02,  8.6431e-02,  9.4260e-02,\n",
            "         1.6469e-02,  9.6119e-02, -8.7220e-02,  7.0976e-02, -9.7144e-02,\n",
            "        -7.5320e-02, -9.2177e-03,  2.1843e-02, -5.8043e-02,  5.0394e-02,\n",
            "         9.3445e-02, -6.7009e-02,  9.9696e-02,  6.0075e-02, -2.5494e-03,\n",
            "        -5.0716e-02, -2.5801e-02,  3.3013e-02, -1.5117e-03,  3.6476e-02,\n",
            "        -3.0262e-02, -7.2215e-02, -1.8835e-03, -6.4935e-02, -3.4906e-02,\n",
            "         5.0369e-02, -7.1459e-02,  8.7140e-02, -4.8093e-02,  3.5266e-02,\n",
            "         8.6528e-02, -8.9225e-02, -6.6813e-02,  9.2465e-02, -9.0227e-02,\n",
            "        -8.5462e-02, -4.8868e-02, -2.0818e-02, -4.6538e-02,  8.9120e-02,\n",
            "         5.8433e-02,  5.4835e-02, -9.1605e-02,  2.2121e-02,  5.8366e-02,\n",
            "        -9.8926e-02,  4.7692e-02, -1.0590e-02,  5.6208e-02, -9.8673e-02,\n",
            "         7.8548e-02, -4.6555e-02,  2.1299e-02, -5.2609e-02,  4.7309e-02,\n",
            "        -1.8017e-02, -8.6918e-02, -8.8571e-02,  1.4709e-02, -2.9034e-02,\n",
            "        -3.7761e-03, -8.2011e-02, -8.1582e-02, -6.4209e-02, -9.7457e-02,\n",
            "        -5.8206e-02,  5.5397e-02,  5.6547e-02,  8.3472e-02,  8.4275e-02,\n",
            "         4.7739e-02, -1.3450e-02,  9.2477e-02, -2.9909e-02,  3.3389e-02,\n",
            "         3.4313e-02, -2.0593e-02, -9.1892e-02,  2.6492e-02, -2.3292e-02,\n",
            "        -5.1995e-02, -9.3484e-02, -8.9308e-02,  1.9278e-02, -5.1638e-02,\n",
            "        -4.4676e-02,  8.8446e-02,  8.1653e-02,  4.9268e-02,  7.5828e-02],\n",
            "       requires_grad=True)\n"
          ]
        }
      ]
    },
    {
      "cell_type": "markdown",
      "metadata": {
        "id": "gkMf-xKDk7B3"
      },
      "source": [
        "# Other kinds of architectures\n",
        "* Transformers: https://pytorch.org/tutorials/beginner/transformer_tutorial.html\n",
        "* Convolutional Neural Networks\n",
        "* Recurrent Networks\n",
        "* Anything you can dream of"
      ]
    },
    {
      "cell_type": "markdown",
      "metadata": {
        "id": "NG59F00GluNi"
      },
      "source": [
        "## Activation functions"
      ]
    },
    {
      "cell_type": "code",
      "metadata": {
        "id": "5fpzLrvSi64a"
      },
      "source": [
        "gelu = torch.nn.GELU()\n",
        "swish = torch.nn.Hardswish()\n",
        "softmax = torch.nn.Softmax()\n",
        "input = torch.randn(4)"
      ],
      "execution_count": null,
      "outputs": []
    },
    {
      "cell_type": "code",
      "metadata": {
        "colab": {
          "base_uri": "https://localhost:8080/"
        },
        "id": "2w9iUs8AlVaG",
        "outputId": "6efa0825-cd19-4448-ea80-774df8f83e5e"
      },
      "source": [
        "output = gelu(input)\n",
        "print(output)"
      ],
      "execution_count": null,
      "outputs": [
        {
          "output_type": "stream",
          "name": "stdout",
          "text": [
            "tensor([-0.1693,  0.4294,  0.8428, -0.1299])\n"
          ]
        }
      ]
    },
    {
      "cell_type": "code",
      "metadata": {
        "colab": {
          "base_uri": "https://localhost:8080/"
        },
        "id": "yCiN_AMYl-h-",
        "outputId": "77530d34-e6a7-4fcd-9d0f-bc913ce3d2a6"
      },
      "source": [
        "output = swish(input)\n",
        "print(output)"
      ],
      "execution_count": null,
      "outputs": [
        {
          "output_type": "stream",
          "name": "stdout",
          "text": [
            "tensor([-0.2949,  0.3554,  0.6678, -0.1593])\n"
          ]
        }
      ]
    },
    {
      "cell_type": "code",
      "metadata": {
        "colab": {
          "base_uri": "https://localhost:8080/"
        },
        "id": "CotnTSl8l_q1",
        "outputId": "e91b8bb7-2084-4367-c06c-716d9e6d7cac"
      },
      "source": [
        "output = torch.nn.Softmax(input)\n",
        "print(output)"
      ],
      "execution_count": null,
      "outputs": [
        {
          "output_type": "stream",
          "name": "stdout",
          "text": [
            "Softmax(dim=tensor([ 0.6985, -1.0728,  1.0635, -0.1885]))\n"
          ]
        }
      ]
    },
    {
      "cell_type": "markdown",
      "metadata": {
        "id": "HNFz3nnjnE8w"
      },
      "source": [
        "## Torch tensors"
      ]
    },
    {
      "cell_type": "code",
      "metadata": {
        "id": "9igyU4JEmbG8"
      },
      "source": [
        "# for GPU change this to device=\"cuda\"\n",
        "# same for other devices\n",
        "a = torch.randn(5, device=\"cpu\")"
      ],
      "execution_count": null,
      "outputs": []
    },
    {
      "cell_type": "code",
      "metadata": {
        "colab": {
          "base_uri": "https://localhost:8080/",
          "height": 594
        },
        "id": "FYDyz-UBnJNH",
        "outputId": "0038d0a3-d9b9-439f-b94a-8443d7059fd1"
      },
      "source": [
        "# Pay special attention to device, dtype, shape\n",
        "inspect(a)"
      ],
      "execution_count": null,
      "outputs": [
        {
          "output_type": "display_data",
          "data": {
            "text/html": [
              "<pre style=\"white-space:pre;overflow-x:auto;line-height:normal;font-family:Menlo,'DejaVu Sans Mono',consolas,'Courier New',monospace\"><span style=\"color: #000080; text-decoration-color: #000080\">╭───────────────────────────────── </span><span style=\"color: #000080; text-decoration-color: #000080; font-weight: bold\">&lt;</span><span style=\"color: #ff00ff; text-decoration-color: #ff00ff; font-weight: bold\">class</span><span style=\"color: #000000; text-decoration-color: #000000\"> </span><span style=\"color: #008000; text-decoration-color: #008000\">'torch.Tensor'</span><span style=\"color: #000080; text-decoration-color: #000080; font-weight: bold\">&gt;</span><span style=\"color: #000080; text-decoration-color: #000080\"> ──────────────────────────────────╮</span>\n",
              "<span style=\"color: #000080; text-decoration-color: #000080\">│</span> <span style=\"color: #008000; text-decoration-color: #008000\">╭───────────────────────────────────────────────────────────────────────────────────────╮</span> <span style=\"color: #000080; text-decoration-color: #000080\">│</span>\n",
              "<span style=\"color: #000080; text-decoration-color: #000080\">│</span> <span style=\"color: #008000; text-decoration-color: #008000\">│</span> <span style=\"color: #800080; text-decoration-color: #800080; font-weight: bold\">tensor</span><span style=\"font-weight: bold\">([</span><span style=\"color: #008080; text-decoration-color: #008080; font-weight: bold\">-0.6743</span>,  <span style=\"color: #008080; text-decoration-color: #008080; font-weight: bold\">1.8197</span>, <span style=\"color: #008080; text-decoration-color: #008080; font-weight: bold\">-0.5843</span>,  <span style=\"color: #008080; text-decoration-color: #008080; font-weight: bold\">0.3353</span>,  <span style=\"color: #008080; text-decoration-color: #008080; font-weight: bold\">1.2181</span><span style=\"font-weight: bold\">])</span>                                 <span style=\"color: #008000; text-decoration-color: #008000\">│</span> <span style=\"color: #000080; text-decoration-color: #000080\">│</span>\n",
              "<span style=\"color: #000080; text-decoration-color: #000080\">│</span> <span style=\"color: #008000; text-decoration-color: #008000\">╰───────────────────────────────────────────────────────────────────────────────────────╯</span> <span style=\"color: #000080; text-decoration-color: #000080\">│</span>\n",
              "<span style=\"color: #000080; text-decoration-color: #000080\">│</span>                                                                                           <span style=\"color: #000080; text-decoration-color: #000080\">│</span>\n",
              "<span style=\"color: #000080; text-decoration-color: #000080\">│</span>          <span style=\"color: #808000; text-decoration-color: #808000; font-style: italic\">data</span> = <span style=\"color: #800080; text-decoration-color: #800080; font-weight: bold\">tensor</span><span style=\"font-weight: bold\">([</span><span style=\"color: #008080; text-decoration-color: #008080; font-weight: bold\">-0.6743</span>,  <span style=\"color: #008080; text-decoration-color: #008080; font-weight: bold\">1.8197</span>, <span style=\"color: #008080; text-decoration-color: #008080; font-weight: bold\">-0.5843</span>,  <span style=\"color: #008080; text-decoration-color: #008080; font-weight: bold\">0.3353</span>,  <span style=\"color: #008080; text-decoration-color: #008080; font-weight: bold\">1.2181</span><span style=\"font-weight: bold\">])</span>                     <span style=\"color: #000080; text-decoration-color: #000080\">│</span>\n",
              "<span style=\"color: #000080; text-decoration-color: #000080\">│</span>        <span style=\"color: #808000; text-decoration-color: #808000; font-style: italic\">device</span> = <span style=\"color: #800080; text-decoration-color: #800080; font-weight: bold\">device</span><span style=\"font-weight: bold\">(</span><span style=\"color: #808000; text-decoration-color: #808000\">type</span>=<span style=\"color: #008000; text-decoration-color: #008000\">'cpu'</span><span style=\"font-weight: bold\">)</span>                                                        <span style=\"color: #000080; text-decoration-color: #000080\">│</span>\n",
              "<span style=\"color: #000080; text-decoration-color: #000080\">│</span>         <span style=\"color: #808000; text-decoration-color: #808000; font-style: italic\">dtype</span> = torch.float32                                                             <span style=\"color: #000080; text-decoration-color: #000080\">│</span>\n",
              "<span style=\"color: #000080; text-decoration-color: #000080\">│</span>          <span style=\"color: #808000; text-decoration-color: #808000; font-style: italic\">grad</span> = <span style=\"color: #800080; text-decoration-color: #800080; font-style: italic\">None</span>                                                                      <span style=\"color: #000080; text-decoration-color: #000080\">│</span>\n",
              "<span style=\"color: #000080; text-decoration-color: #000080\">│</span>       <span style=\"color: #808000; text-decoration-color: #808000; font-style: italic\">grad_fn</span> = <span style=\"color: #800080; text-decoration-color: #800080; font-style: italic\">None</span>                                                                      <span style=\"color: #000080; text-decoration-color: #000080\">│</span>\n",
              "<span style=\"color: #000080; text-decoration-color: #000080\">│</span>          <span style=\"color: #800000; text-decoration-color: #800000; font-weight: bold; font-style: italic\">imag</span><span style=\"color: #800000; text-decoration-color: #800000; font-weight: bold\"> =</span> <span style=\"color: #800080; text-decoration-color: #800080; font-weight: bold\">RuntimeError</span><span style=\"font-weight: bold\">(</span><span style=\"color: #008000; text-decoration-color: #008000\">'imag is not implemented for tensors with non-complex </span>       <span style=\"color: #000080; text-decoration-color: #000080\">│</span>\n",
              "<span style=\"color: #000080; text-decoration-color: #000080\">│</span>                 <span style=\"color: #008000; text-decoration-color: #008000\">dtypes.'</span><span style=\"font-weight: bold\">)</span>                                                                 <span style=\"color: #000080; text-decoration-color: #000080\">│</span>\n",
              "<span style=\"color: #000080; text-decoration-color: #000080\">│</span>       <span style=\"color: #808000; text-decoration-color: #808000; font-style: italic\">is_cuda</span> = <span style=\"color: #ff0000; text-decoration-color: #ff0000; font-style: italic\">False</span>                                                                     <span style=\"color: #000080; text-decoration-color: #000080\">│</span>\n",
              "<span style=\"color: #000080; text-decoration-color: #000080\">│</span>       <span style=\"color: #808000; text-decoration-color: #808000; font-style: italic\">is_leaf</span> = <span style=\"color: #00ff00; text-decoration-color: #00ff00; font-style: italic\">True</span>                                                                      <span style=\"color: #000080; text-decoration-color: #000080\">│</span>\n",
              "<span style=\"color: #000080; text-decoration-color: #000080\">│</span>       <span style=\"color: #808000; text-decoration-color: #808000; font-style: italic\">is_meta</span> = <span style=\"color: #ff0000; text-decoration-color: #ff0000; font-style: italic\">False</span>                                                                     <span style=\"color: #000080; text-decoration-color: #000080\">│</span>\n",
              "<span style=\"color: #000080; text-decoration-color: #000080\">│</span>     <span style=\"color: #808000; text-decoration-color: #808000; font-style: italic\">is_mkldnn</span> = <span style=\"color: #ff0000; text-decoration-color: #ff0000; font-style: italic\">False</span>                                                                     <span style=\"color: #000080; text-decoration-color: #000080\">│</span>\n",
              "<span style=\"color: #000080; text-decoration-color: #000080\">│</span>        <span style=\"color: #808000; text-decoration-color: #808000; font-style: italic\">is_mlc</span> = <span style=\"color: #ff0000; text-decoration-color: #ff0000; font-style: italic\">False</span>                                                                     <span style=\"color: #000080; text-decoration-color: #000080\">│</span>\n",
              "<span style=\"color: #000080; text-decoration-color: #000080\">│</span>        <span style=\"color: #808000; text-decoration-color: #808000; font-style: italic\">is_ort</span> = <span style=\"color: #ff0000; text-decoration-color: #ff0000; font-style: italic\">False</span>                                                                     <span style=\"color: #000080; text-decoration-color: #000080\">│</span>\n",
              "<span style=\"color: #000080; text-decoration-color: #000080\">│</span>  <span style=\"color: #808000; text-decoration-color: #808000; font-style: italic\">is_quantized</span> = <span style=\"color: #ff0000; text-decoration-color: #ff0000; font-style: italic\">False</span>                                                                     <span style=\"color: #000080; text-decoration-color: #000080\">│</span>\n",
              "<span style=\"color: #000080; text-decoration-color: #000080\">│</span>     <span style=\"color: #808000; text-decoration-color: #808000; font-style: italic\">is_sparse</span> = <span style=\"color: #ff0000; text-decoration-color: #ff0000; font-style: italic\">False</span>                                                                     <span style=\"color: #000080; text-decoration-color: #000080\">│</span>\n",
              "<span style=\"color: #000080; text-decoration-color: #000080\">│</span> <span style=\"color: #808000; text-decoration-color: #808000; font-style: italic\">is_sparse_csr</span> = <span style=\"color: #ff0000; text-decoration-color: #ff0000; font-style: italic\">False</span>                                                                     <span style=\"color: #000080; text-decoration-color: #000080\">│</span>\n",
              "<span style=\"color: #000080; text-decoration-color: #000080\">│</span>     <span style=\"color: #808000; text-decoration-color: #808000; font-style: italic\">is_vulkan</span> = <span style=\"color: #ff0000; text-decoration-color: #ff0000; font-style: italic\">False</span>                                                                     <span style=\"color: #000080; text-decoration-color: #000080\">│</span>\n",
              "<span style=\"color: #000080; text-decoration-color: #000080\">│</span>        <span style=\"color: #808000; text-decoration-color: #808000; font-style: italic\">is_xpu</span> = <span style=\"color: #ff0000; text-decoration-color: #ff0000; font-style: italic\">False</span>                                                                     <span style=\"color: #000080; text-decoration-color: #000080\">│</span>\n",
              "<span style=\"color: #000080; text-decoration-color: #000080\">│</span>        <span style=\"color: #808000; text-decoration-color: #808000; font-style: italic\">layout</span> = torch.strided                                                             <span style=\"color: #000080; text-decoration-color: #000080\">│</span>\n",
              "<span style=\"color: #000080; text-decoration-color: #000080\">│</span>          <span style=\"color: #808000; text-decoration-color: #808000; font-style: italic\">name</span> = <span style=\"color: #800080; text-decoration-color: #800080; font-style: italic\">None</span>                                                                      <span style=\"color: #000080; text-decoration-color: #000080\">│</span>\n",
              "<span style=\"color: #000080; text-decoration-color: #000080\">│</span>         <span style=\"color: #808000; text-decoration-color: #808000; font-style: italic\">names</span> = <span style=\"font-weight: bold\">(</span><span style=\"color: #800080; text-decoration-color: #800080; font-style: italic\">None</span>,<span style=\"font-weight: bold\">)</span>                                                                   <span style=\"color: #000080; text-decoration-color: #000080\">│</span>\n",
              "<span style=\"color: #000080; text-decoration-color: #000080\">│</span>          <span style=\"color: #808000; text-decoration-color: #808000; font-style: italic\">ndim</span> = <span style=\"color: #008080; text-decoration-color: #008080; font-weight: bold\">1</span>                                                                         <span style=\"color: #000080; text-decoration-color: #000080\">│</span>\n",
              "<span style=\"color: #000080; text-decoration-color: #000080\">│</span>     <span style=\"color: #808000; text-decoration-color: #808000; font-style: italic\">output_nr</span> = <span style=\"color: #008080; text-decoration-color: #008080; font-weight: bold\">0</span>                                                                         <span style=\"color: #000080; text-decoration-color: #000080\">│</span>\n",
              "<span style=\"color: #000080; text-decoration-color: #000080\">│</span>          <span style=\"color: #800000; text-decoration-color: #800000; font-weight: bold; font-style: italic\">real</span><span style=\"color: #800000; text-decoration-color: #800000; font-weight: bold\"> =</span> <span style=\"color: #800080; text-decoration-color: #800080; font-weight: bold\">RuntimeError</span><span style=\"font-weight: bold\">(</span><span style=\"color: #008000; text-decoration-color: #008000\">'real is not implemented for tensors with non-complex </span>       <span style=\"color: #000080; text-decoration-color: #000080\">│</span>\n",
              "<span style=\"color: #000080; text-decoration-color: #000080\">│</span>                 <span style=\"color: #008000; text-decoration-color: #008000\">dtypes.'</span><span style=\"font-weight: bold\">)</span>                                                                 <span style=\"color: #000080; text-decoration-color: #000080\">│</span>\n",
              "<span style=\"color: #000080; text-decoration-color: #000080\">│</span> <span style=\"color: #808000; text-decoration-color: #808000; font-style: italic\">requires_grad</span> = <span style=\"color: #ff0000; text-decoration-color: #ff0000; font-style: italic\">False</span>                                                                     <span style=\"color: #000080; text-decoration-color: #000080\">│</span>\n",
              "<span style=\"color: #000080; text-decoration-color: #000080\">│</span>  <span style=\"color: #808000; text-decoration-color: #808000; font-style: italic\">retains_grad</span> = <span style=\"color: #ff0000; text-decoration-color: #ff0000; font-style: italic\">False</span>                                                                     <span style=\"color: #000080; text-decoration-color: #000080\">│</span>\n",
              "<span style=\"color: #000080; text-decoration-color: #000080\">│</span>         <span style=\"color: #808000; text-decoration-color: #808000; font-style: italic\">shape</span> = <span style=\"color: #800080; text-decoration-color: #800080; font-weight: bold\">torch.Size</span><span style=\"font-weight: bold\">([</span><span style=\"color: #008080; text-decoration-color: #008080; font-weight: bold\">5</span><span style=\"font-weight: bold\">])</span>                                                           <span style=\"color: #000080; text-decoration-color: #000080\">│</span>\n",
              "<span style=\"color: #000080; text-decoration-color: #000080\">│</span>             <span style=\"color: #808000; text-decoration-color: #808000; font-style: italic\">T</span> = <span style=\"color: #800080; text-decoration-color: #800080; font-weight: bold\">tensor</span><span style=\"font-weight: bold\">([</span><span style=\"color: #008080; text-decoration-color: #008080; font-weight: bold\">-0.6743</span>,  <span style=\"color: #008080; text-decoration-color: #008080; font-weight: bold\">1.8197</span>, <span style=\"color: #008080; text-decoration-color: #008080; font-weight: bold\">-0.5843</span>,  <span style=\"color: #008080; text-decoration-color: #008080; font-weight: bold\">0.3353</span>,  <span style=\"color: #008080; text-decoration-color: #008080; font-weight: bold\">1.2181</span><span style=\"font-weight: bold\">])</span>                     <span style=\"color: #000080; text-decoration-color: #000080\">│</span>\n",
              "<span style=\"color: #000080; text-decoration-color: #000080\">╰───────────────────────────────────────────────────────────────────────────────────────────╯</span>\n",
              "</pre>\n"
            ],
            "text/plain": [
              "\u001b[34m╭─\u001b[0m\u001b[34m──────────────────────────────── \u001b[0m\u001b[1;34m<\u001b[0m\u001b[1;95mclass\u001b[0m\u001b[39m \u001b[0m\u001b[32m'torch.Tensor'\u001b[0m\u001b[1;34m>\u001b[0m\u001b[34m ─────────────────────────────────\u001b[0m\u001b[34m─╮\u001b[0m\n",
              "\u001b[34m│\u001b[0m \u001b[32m╭───────────────────────────────────────────────────────────────────────────────────────╮\u001b[0m \u001b[34m│\u001b[0m\n",
              "\u001b[34m│\u001b[0m \u001b[32m│\u001b[0m \u001b[1;35mtensor\u001b[0m\u001b[1m(\u001b[0m\u001b[1m[\u001b[0m\u001b[1;36m-0.6743\u001b[0m,  \u001b[1;36m1.8197\u001b[0m, \u001b[1;36m-0.5843\u001b[0m,  \u001b[1;36m0.3353\u001b[0m,  \u001b[1;36m1.2181\u001b[0m\u001b[1m]\u001b[0m\u001b[1m)\u001b[0m                                 \u001b[32m│\u001b[0m \u001b[34m│\u001b[0m\n",
              "\u001b[34m│\u001b[0m \u001b[32m╰───────────────────────────────────────────────────────────────────────────────────────╯\u001b[0m \u001b[34m│\u001b[0m\n",
              "\u001b[34m│\u001b[0m                                                                                           \u001b[34m│\u001b[0m\n",
              "\u001b[34m│\u001b[0m          \u001b[3;33mdata\u001b[0m = \u001b[1;35mtensor\u001b[0m\u001b[1m(\u001b[0m\u001b[1m[\u001b[0m\u001b[1;36m-0.6743\u001b[0m,  \u001b[1;36m1.8197\u001b[0m, \u001b[1;36m-0.5843\u001b[0m,  \u001b[1;36m0.3353\u001b[0m,  \u001b[1;36m1.2181\u001b[0m\u001b[1m]\u001b[0m\u001b[1m)\u001b[0m                     \u001b[34m│\u001b[0m\n",
              "\u001b[34m│\u001b[0m        \u001b[3;33mdevice\u001b[0m = \u001b[1;35mdevice\u001b[0m\u001b[1m(\u001b[0m\u001b[33mtype\u001b[0m=\u001b[32m'cpu'\u001b[0m\u001b[1m)\u001b[0m                                                        \u001b[34m│\u001b[0m\n",
              "\u001b[34m│\u001b[0m         \u001b[3;33mdtype\u001b[0m = torch.float32                                                             \u001b[34m│\u001b[0m\n",
              "\u001b[34m│\u001b[0m          \u001b[3;33mgrad\u001b[0m = \u001b[3;35mNone\u001b[0m                                                                      \u001b[34m│\u001b[0m\n",
              "\u001b[34m│\u001b[0m       \u001b[3;33mgrad_fn\u001b[0m = \u001b[3;35mNone\u001b[0m                                                                      \u001b[34m│\u001b[0m\n",
              "\u001b[34m│\u001b[0m          \u001b[1;3;31mimag\u001b[0m\u001b[1;31m =\u001b[0m \u001b[1;35mRuntimeError\u001b[0m\u001b[1m(\u001b[0m\u001b[32m'imag is not implemented for tensors with non-complex \u001b[0m       \u001b[34m│\u001b[0m\n",
              "\u001b[34m│\u001b[0m                 \u001b[32mdtypes.'\u001b[0m\u001b[1m)\u001b[0m                                                                 \u001b[34m│\u001b[0m\n",
              "\u001b[34m│\u001b[0m       \u001b[3;33mis_cuda\u001b[0m = \u001b[3;91mFalse\u001b[0m                                                                     \u001b[34m│\u001b[0m\n",
              "\u001b[34m│\u001b[0m       \u001b[3;33mis_leaf\u001b[0m = \u001b[3;92mTrue\u001b[0m                                                                      \u001b[34m│\u001b[0m\n",
              "\u001b[34m│\u001b[0m       \u001b[3;33mis_meta\u001b[0m = \u001b[3;91mFalse\u001b[0m                                                                     \u001b[34m│\u001b[0m\n",
              "\u001b[34m│\u001b[0m     \u001b[3;33mis_mkldnn\u001b[0m = \u001b[3;91mFalse\u001b[0m                                                                     \u001b[34m│\u001b[0m\n",
              "\u001b[34m│\u001b[0m        \u001b[3;33mis_mlc\u001b[0m = \u001b[3;91mFalse\u001b[0m                                                                     \u001b[34m│\u001b[0m\n",
              "\u001b[34m│\u001b[0m        \u001b[3;33mis_ort\u001b[0m = \u001b[3;91mFalse\u001b[0m                                                                     \u001b[34m│\u001b[0m\n",
              "\u001b[34m│\u001b[0m  \u001b[3;33mis_quantized\u001b[0m = \u001b[3;91mFalse\u001b[0m                                                                     \u001b[34m│\u001b[0m\n",
              "\u001b[34m│\u001b[0m     \u001b[3;33mis_sparse\u001b[0m = \u001b[3;91mFalse\u001b[0m                                                                     \u001b[34m│\u001b[0m\n",
              "\u001b[34m│\u001b[0m \u001b[3;33mis_sparse_csr\u001b[0m = \u001b[3;91mFalse\u001b[0m                                                                     \u001b[34m│\u001b[0m\n",
              "\u001b[34m│\u001b[0m     \u001b[3;33mis_vulkan\u001b[0m = \u001b[3;91mFalse\u001b[0m                                                                     \u001b[34m│\u001b[0m\n",
              "\u001b[34m│\u001b[0m        \u001b[3;33mis_xpu\u001b[0m = \u001b[3;91mFalse\u001b[0m                                                                     \u001b[34m│\u001b[0m\n",
              "\u001b[34m│\u001b[0m        \u001b[3;33mlayout\u001b[0m = torch.strided                                                             \u001b[34m│\u001b[0m\n",
              "\u001b[34m│\u001b[0m          \u001b[3;33mname\u001b[0m = \u001b[3;35mNone\u001b[0m                                                                      \u001b[34m│\u001b[0m\n",
              "\u001b[34m│\u001b[0m         \u001b[3;33mnames\u001b[0m = \u001b[1m(\u001b[0m\u001b[3;35mNone\u001b[0m,\u001b[1m)\u001b[0m                                                                   \u001b[34m│\u001b[0m\n",
              "\u001b[34m│\u001b[0m          \u001b[3;33mndim\u001b[0m = \u001b[1;36m1\u001b[0m                                                                         \u001b[34m│\u001b[0m\n",
              "\u001b[34m│\u001b[0m     \u001b[3;33moutput_nr\u001b[0m = \u001b[1;36m0\u001b[0m                                                                         \u001b[34m│\u001b[0m\n",
              "\u001b[34m│\u001b[0m          \u001b[1;3;31mreal\u001b[0m\u001b[1;31m =\u001b[0m \u001b[1;35mRuntimeError\u001b[0m\u001b[1m(\u001b[0m\u001b[32m'real is not implemented for tensors with non-complex \u001b[0m       \u001b[34m│\u001b[0m\n",
              "\u001b[34m│\u001b[0m                 \u001b[32mdtypes.'\u001b[0m\u001b[1m)\u001b[0m                                                                 \u001b[34m│\u001b[0m\n",
              "\u001b[34m│\u001b[0m \u001b[3;33mrequires_grad\u001b[0m = \u001b[3;91mFalse\u001b[0m                                                                     \u001b[34m│\u001b[0m\n",
              "\u001b[34m│\u001b[0m  \u001b[3;33mretains_grad\u001b[0m = \u001b[3;91mFalse\u001b[0m                                                                     \u001b[34m│\u001b[0m\n",
              "\u001b[34m│\u001b[0m         \u001b[3;33mshape\u001b[0m = \u001b[1;35mtorch.Size\u001b[0m\u001b[1m(\u001b[0m\u001b[1m[\u001b[0m\u001b[1;36m5\u001b[0m\u001b[1m]\u001b[0m\u001b[1m)\u001b[0m                                                           \u001b[34m│\u001b[0m\n",
              "\u001b[34m│\u001b[0m             \u001b[3;33mT\u001b[0m = \u001b[1;35mtensor\u001b[0m\u001b[1m(\u001b[0m\u001b[1m[\u001b[0m\u001b[1;36m-0.6743\u001b[0m,  \u001b[1;36m1.8197\u001b[0m, \u001b[1;36m-0.5843\u001b[0m,  \u001b[1;36m0.3353\u001b[0m,  \u001b[1;36m1.2181\u001b[0m\u001b[1m]\u001b[0m\u001b[1m)\u001b[0m                     \u001b[34m│\u001b[0m\n",
              "\u001b[34m╰───────────────────────────────────────────────────────────────────────────────────────────╯\u001b[0m\n"
            ]
          },
          "metadata": {}
        }
      ]
    },
    {
      "cell_type": "code",
      "metadata": {
        "id": "EAqmPX1DnJjc"
      },
      "source": [],
      "execution_count": null,
      "outputs": []
    },
    {
      "cell_type": "markdown",
      "metadata": {
        "id": "ouo0_t0GuvoY"
      },
      "source": [
        "# How to make an inference with Pytorch"
      ]
    },
    {
      "cell_type": "code",
      "metadata": {
        "id": "NX0cZvP6oo9D"
      },
      "source": [
        "net = TinyModel()"
      ],
      "execution_count": null,
      "outputs": []
    },
    {
      "cell_type": "code",
      "metadata": {
        "colab": {
          "base_uri": "https://localhost:8080/"
        },
        "id": "hbEA4ZSwo9NL",
        "outputId": "ec993b0a-c539-4b6d-b4f4-eb6218c976ef"
      },
      "source": [
        "print(net)"
      ],
      "execution_count": null,
      "outputs": [
        {
          "output_type": "stream",
          "name": "stdout",
          "text": [
            "TinyModel(\n",
            "  (linear1): Linear(in_features=100, out_features=1000, bias=True)\n",
            "  (activation): ReLU()\n",
            "  (linear2): Linear(in_features=1000, out_features=10, bias=True)\n",
            "  (softmax): Softmax(dim=None)\n",
            ")\n"
          ]
        }
      ]
    },
    {
      "cell_type": "code",
      "metadata": {
        "id": "0_vKEJNWpLzK"
      },
      "source": [
        "input = torch.randn(100)"
      ],
      "execution_count": null,
      "outputs": []
    },
    {
      "cell_type": "code",
      "metadata": {
        "colab": {
          "base_uri": "https://localhost:8080/"
        },
        "id": "HiCVqJxDpojI",
        "outputId": "2a1596c5-9fbb-4f9b-e7cc-5184f9a94c3a"
      },
      "source": [
        "output = net(input)"
      ],
      "execution_count": null,
      "outputs": [
        {
          "output_type": "stream",
          "name": "stderr",
          "text": [
            "/usr/local/lib/python3.7/dist-packages/ipykernel_launcher.py:19: UserWarning: Implicit dimension choice for softmax has been deprecated. Change the call to include dim=X as an argument.\n"
          ]
        }
      ]
    },
    {
      "cell_type": "code",
      "metadata": {
        "colab": {
          "base_uri": "https://localhost:8080/"
        },
        "id": "L0HQkL6VpphZ",
        "outputId": "a9dc2da5-fc7d-4061-c94f-469ce4fd77ed"
      },
      "source": [
        "print(output)"
      ],
      "execution_count": null,
      "outputs": [
        {
          "output_type": "stream",
          "name": "stdout",
          "text": [
            "tensor([0.0841, 0.1325, 0.0935, 0.0916, 0.1114, 0.0928, 0.0922, 0.1043, 0.1086,\n",
            "        0.0889], grad_fn=<SoftmaxBackward0>)\n"
          ]
        }
      ]
    },
    {
      "cell_type": "code",
      "metadata": {
        "colab": {
          "base_uri": "https://localhost:8080/"
        },
        "id": "5tvIjLF5pvmn",
        "outputId": "34a3e3aa-ff27-43f4-a76a-aa678fa079fe"
      },
      "source": [
        "print(torch.max(output))\n",
        "print(torch.argmax(output))"
      ],
      "execution_count": null,
      "outputs": [
        {
          "output_type": "stream",
          "name": "stdout",
          "text": [
            "tensor(0.1325, grad_fn=<MaxBackward1>)\n",
            "tensor(1)\n"
          ]
        }
      ]
    },
    {
      "cell_type": "code",
      "metadata": {
        "colab": {
          "base_uri": "https://localhost:8080/"
        },
        "id": "S1nrXt5Rp5X6",
        "outputId": "531f9b66-553a-4db3-9b82-09ecbf2bc0ed"
      },
      "source": [
        "assert net(input)[0] == net.forward(input)[0]"
      ],
      "execution_count": null,
      "outputs": [
        {
          "output_type": "stream",
          "name": "stderr",
          "text": [
            "/usr/local/lib/python3.7/dist-packages/ipykernel_launcher.py:19: UserWarning: Implicit dimension choice for softmax has been deprecated. Change the call to include dim=X as an argument.\n"
          ]
        }
      ]
    },
    {
      "cell_type": "markdown",
      "metadata": {
        "id": "8E9j1xkZuzyz"
      },
      "source": [
        "## How to train a model with Pytorch\n",
        "1. Model: Layers, activation functions\n",
        "2. Loss: the goal\n",
        "3. Optimizer: how to reach the goal"
      ]
    },
    {
      "cell_type": "markdown",
      "metadata": {
        "id": "-UOPSfRtxBgq"
      },
      "source": [
        "Formula for Categorical Cross Entropy\n",
        "\n",
        "$Loss = - \\sum_{i}^{outputs} y_i \\cdot log \\hat{y_i} $\n",
        "\n",
        "where\n",
        "\n",
        "$y_i$ is the target value of the $i$'th output\n",
        "\n",
        "$\\hat{y_i}$ is the $i$'th value in the model output\n",
        "\n",
        "$outputs$ is the number scalar values in the model output"
      ]
    },
    {
      "cell_type": "code",
      "metadata": {
        "id": "dUlWzvTNuGHS"
      },
      "source": [
        "import torch.optim as optim\n",
        "\n",
        "criterion = torch.nn.CrossEntropyLoss()\n",
        "optimizer = optim.SGD(net.parameters(), lr=0.0001, momentum=0.9)"
      ],
      "execution_count": null,
      "outputs": []
    },
    {
      "cell_type": "markdown",
      "metadata": {
        "id": "8b4BvcJn1zBx"
      },
      "source": [
        "# Batch inference\n",
        "Turn for loops into tensors"
      ]
    },
    {
      "cell_type": "code",
      "metadata": {
        "colab": {
          "base_uri": "https://localhost:8080/"
        },
        "id": "n7knn2V1IhGb",
        "outputId": "dda4188a-5273-4dff-c446-7fd7fe3614b0"
      },
      "source": [
        "a = torch.rand(2)\n",
        "print(a)"
      ],
      "execution_count": null,
      "outputs": [
        {
          "output_type": "stream",
          "name": "stdout",
          "text": [
            "tensor([0.0116, 0.1588])\n"
          ]
        }
      ]
    },
    {
      "cell_type": "code",
      "metadata": {
        "colab": {
          "base_uri": "https://localhost:8080/"
        },
        "id": "lEEqueFwIkhs",
        "outputId": "46bee3fe-0fbd-46fb-e2e6-8861000e33d9"
      },
      "source": [
        "a_batch = torch.rand(3,2)\n",
        "print(a_batch)"
      ],
      "execution_count": null,
      "outputs": [
        {
          "output_type": "stream",
          "name": "stdout",
          "text": [
            "tensor([[0.7440, 0.0824],\n",
            "        [0.4168, 0.8206],\n",
            "        [0.0141, 0.6375]])\n"
          ]
        }
      ]
    },
    {
      "cell_type": "code",
      "metadata": {
        "id": "-xQy7PEQItmj",
        "colab": {
          "base_uri": "https://localhost:8080/"
        },
        "outputId": "1ad5a042-8b56-4234-a202-9a1cee87b8e1"
      },
      "source": [
        "b = [0] * 3\n",
        "for i in range(3):\n",
        "  b[i] = a * 2\n",
        "print(b)"
      ],
      "execution_count": null,
      "outputs": [
        {
          "output_type": "stream",
          "name": "stdout",
          "text": [
            "[tensor([0.0232, 0.3177]), tensor([0.0232, 0.3177]), tensor([0.0232, 0.3177])]\n"
          ]
        }
      ]
    },
    {
      "cell_type": "code",
      "metadata": {
        "id": "dINmVvZxJA29",
        "colab": {
          "base_uri": "https://localhost:8080/"
        },
        "outputId": "881dc996-1bf6-49f8-f5ad-3ccfbbe11a62"
      },
      "source": [
        "# Broadcast matrix to scalar matrix multiplication\n",
        "a_batch * 2"
      ],
      "execution_count": null,
      "outputs": [
        {
          "output_type": "execute_result",
          "data": {
            "text/plain": [
              "tensor([[1.4880, 0.1649],\n",
              "        [0.8337, 1.6413],\n",
              "        [0.0282, 1.2750]])"
            ]
          },
          "metadata": {},
          "execution_count": 40
        }
      ]
    },
    {
      "cell_type": "code",
      "metadata": {
        "id": "Mj7IkA0ZJkif",
        "colab": {
          "base_uri": "https://localhost:8080/"
        },
        "outputId": "6ce4037c-6255-4b0c-d623-dfbe38be83fe"
      },
      "source": [
        "# Single operation\n",
        "# [2x3] * [3*1]\n",
        "b_batch = torch.randn(3,1)\n",
        "a_batch * b_batch"
      ],
      "execution_count": null,
      "outputs": [
        {
          "output_type": "execute_result",
          "data": {
            "text/plain": [
              "tensor([[-0.2391, -0.0265],\n",
              "        [-0.1302, -0.2564],\n",
              "        [-0.0139, -0.6278]])"
            ]
          },
          "metadata": {},
          "execution_count": 41
        }
      ]
    },
    {
      "cell_type": "markdown",
      "metadata": {
        "id": "Rg9FLEs8JPdO"
      },
      "source": [
        "One reason why GPUs are so important for Machine Learning"
      ]
    },
    {
      "cell_type": "code",
      "metadata": {
        "id": "nMsyQU2j1Y4O"
      },
      "source": [
        "BATCH_SIZE = 5\n",
        "NUM_CLASSES = 10"
      ],
      "execution_count": null,
      "outputs": []
    },
    {
      "cell_type": "markdown",
      "metadata": {
        "id": "xfNhHo67IV6I"
      },
      "source": [
        "# Switch to GPU\n",
        "Edit -> Notebook Settings -> Hardware Accelerator -> GPU"
      ]
    },
    {
      "cell_type": "code",
      "metadata": {
        "id": "ROYcXmPrwseP"
      },
      "source": [
        "# Stack BATCH_SIZE number of vectors on top of each other\n",
        "inputs = torch.randn(BATCH_SIZE, 100, requires_grad=True, device=\"cuda\")\n",
        "targets = torch.empty(BATCH_SIZE, dtype=torch.long, device=\"cuda\").random_(NUM_CLASSES)\n",
        "output = criterion(inputs, targets)\n"
      ],
      "execution_count": null,
      "outputs": []
    },
    {
      "cell_type": "code",
      "metadata": {
        "id": "rU8TC94Jy0id",
        "colab": {
          "base_uri": "https://localhost:8080/"
        },
        "outputId": "d7a432a5-5d16-4870-b0d9-7a96490310a3"
      },
      "source": [
        "print(f\"target shape is {targets.shape}\")\n",
        "print(f\"input shape is {inputs.shape}\")\n",
        "print(f\"loss is is {output}\")"
      ],
      "execution_count": null,
      "outputs": [
        {
          "output_type": "stream",
          "name": "stdout",
          "text": [
            "target shape is torch.Size([5])\n",
            "input shape is torch.Size([5, 100])\n",
            "loss is is 5.584603309631348\n"
          ]
        }
      ]
    },
    {
      "cell_type": "code",
      "metadata": {
        "id": "5HA9jnHFzPbI"
      },
      "source": [
        "! pip install tqdm -q\n",
        "import tqdm"
      ],
      "execution_count": null,
      "outputs": []
    },
    {
      "cell_type": "code",
      "metadata": {
        "id": "qQZWUgGhvOTI",
        "colab": {
          "base_uri": "https://localhost:8080/"
        },
        "outputId": "d39c6960-522b-4f76-8b70-4d595a355a1f"
      },
      "source": [
        "# Setup model\n",
        "net = TinyModel()\n",
        "net.to(device=\"cuda\")\n",
        "\n",
        "# Loss function\n",
        "criterion = torch.nn.CrossEntropyLoss()\n",
        "\n",
        "# Setup optimizer with net parameters and learning rate\n",
        "optimizer = optim.SGD(net.parameters(), lr=0.0001)\n",
        "\n",
        "NUM_EPOCHS = 5000\n",
        "running_loss = 0\n",
        "\n",
        "# tqdm for progress bars and throughput estimates\n",
        "for epoch in range(NUM_EPOCHS):\n",
        "\n",
        "      # zero the parameter gradients or don't\n",
        "      optimizer.zero_grad()\n",
        "\n",
        "      # Calculate the loss or don't\n",
        "      outputs = net(inputs)\n",
        "      loss = criterion(outputs, targets)\n",
        "\n",
        "      # Calculate gradients or don't\n",
        "      loss.backward()\n",
        "\n",
        "      # Apply gradients or don't\n",
        "      optimizer.step()\n",
        "\n",
        "      # print statistics\n",
        "      running_loss += loss.item()\n",
        "\n",
        "      if epoch % 1000 == 0:\n",
        "        print(f\"epoch {epoch}: Running Loss {running_loss}\")\n",
        "      running_loss = 0"
      ],
      "execution_count": null,
      "outputs": [
        {
          "output_type": "stream",
          "name": "stderr",
          "text": [
            "/usr/local/lib/python3.7/dist-packages/ipykernel_launcher.py:19: UserWarning: Implicit dimension choice for softmax has been deprecated. Change the call to include dim=X as an argument.\n"
          ]
        },
        {
          "output_type": "stream",
          "name": "stdout",
          "text": [
            "epoch 0: Running Loss 2.320944309234619\n",
            "epoch 1000: Running Loss 2.290494441986084\n",
            "epoch 2000: Running Loss 2.2350926399230957\n",
            "epoch 3000: Running Loss 2.130263566970825\n",
            "epoch 4000: Running Loss 1.9768211841583252\n"
          ]
        }
      ]
    },
    {
      "cell_type": "markdown",
      "metadata": {
        "id": "R4tgb8YhDosV"
      },
      "source": [
        "# Gradients\n",
        "Elaborate on gradients\n",
        "* `optimizer.zero_grad()`\n",
        "* `loss.backward()`\n",
        "* `optimizer.step()` -> given some parameters - return new parameters"
      ]
    },
    {
      "cell_type": "code",
      "metadata": {
        "id": "tX_Zm22UMRHc"
      },
      "source": [
        "# No magic - pick any loss function you want\n",
        "loss = (inputs[0] - targets[0]).sum()\n",
        "loss.backward() # backward pass"
      ],
      "execution_count": null,
      "outputs": []
    },
    {
      "cell_type": "code",
      "metadata": {
        "colab": {
          "base_uri": "https://localhost:8080/"
        },
        "id": "RxQIcHqrDU0j",
        "outputId": "4a4d6bb8-6c55-4e62-b486-1764893a12cf"
      },
      "source": [
        "print(loss)"
      ],
      "execution_count": null,
      "outputs": [
        {
          "output_type": "stream",
          "name": "stdout",
          "text": [
            "tensor(-194.9108, device='cuda:0', grad_fn=<SumBackward0>)\n"
          ]
        }
      ]
    },
    {
      "cell_type": "code",
      "metadata": {
        "id": "VIb2Uub-F_Ii"
      },
      "source": [
        "def gradient_descent(gradient, start, learn_rate, epochs):\n",
        "    vector = start\n",
        "    for _ in range(epochs):\n",
        "        diff = -learn_rate * gradient(vector)\n",
        "        vector += diff\n",
        "    return vector"
      ],
      "execution_count": null,
      "outputs": []
    },
    {
      "cell_type": "markdown",
      "metadata": {
        "id": "cwV_5n-JKvaD"
      },
      "source": [
        "# Gradients\n",
        "Pytorch is a linear algebra library on GPU with autograd\n",
        "\n",
        "So what's autograd?"
      ]
    },
    {
      "cell_type": "code",
      "metadata": {
        "id": "Oqj_Fb80Gl7u",
        "colab": {
          "base_uri": "https://localhost:8080/"
        },
        "outputId": "92a704e9-c3ce-469d-b0cf-d1d8c29d9bc9"
      },
      "source": [
        "# https://pytorch.org/tutorials/beginner/blitz/autograd_tutorial.html\n",
        "import torch\n",
        "\n",
        "a = torch.tensor([2., 3.], requires_grad=True)\n",
        "b = torch.tensor([5., 6.], requires_grad=True)\n",
        "\n",
        "c = 3 * a + b * a\n",
        "c"
      ],
      "execution_count": null,
      "outputs": [
        {
          "output_type": "execute_result",
          "data": {
            "text/plain": [
              "tensor([16., 27.], grad_fn=<AddBackward0>)"
            ]
          },
          "metadata": {},
          "execution_count": 48
        }
      ]
    },
    {
      "cell_type": "markdown",
      "metadata": {
        "id": "Hmp2_6SSZURh"
      },
      "source": [
        "$\\frac{dc}{da} = 3 + b = 3 + [5,6] = [8, 9]$\n",
        "\n",
        "$\\frac{dc}{db} = 0 + a = [2,3]$"
      ]
    },
    {
      "cell_type": "code",
      "metadata": {
        "id": "QlUdJe9KY1cE",
        "colab": {
          "base_uri": "https://localhost:8080/",
          "height": 425
        },
        "outputId": "534ef473-1f44-46e2-8811-ab482a6bdc3d"
      },
      "source": [
        "# need to deposit tensors somewhere\n",
        "external_grad = torch.tensor([1., 1.])\n",
        "c.backward(gradient=external_grad)\n",
        "\n",
        "# And then optimizer.step and that's it!"
      ],
      "execution_count": null,
      "outputs": [
        {
          "output_type": "error",
          "ename": "RuntimeError",
          "evalue": "ignored",
          "traceback": [
            "\u001b[0;31m---------------------------------------------------------------------------\u001b[0m",
            "\u001b[0;31mRuntimeError\u001b[0m                              Traceback (most recent call last)",
            "\u001b[0;32m<ipython-input-50-d1824beade90>\u001b[0m in \u001b[0;36m<module>\u001b[0;34m()\u001b[0m\n\u001b[1;32m      1\u001b[0m \u001b[0;31m# need to deposit tensors somewhere\u001b[0m\u001b[0;34m\u001b[0m\u001b[0;34m\u001b[0m\u001b[0;34m\u001b[0m\u001b[0m\n\u001b[1;32m      2\u001b[0m \u001b[0mexternal_grad\u001b[0m \u001b[0;34m=\u001b[0m \u001b[0mtorch\u001b[0m\u001b[0;34m.\u001b[0m\u001b[0mtensor\u001b[0m\u001b[0;34m(\u001b[0m\u001b[0;34m[\u001b[0m\u001b[0;36m1.\u001b[0m\u001b[0;34m,\u001b[0m \u001b[0;36m1.\u001b[0m\u001b[0;34m]\u001b[0m\u001b[0;34m)\u001b[0m\u001b[0;34m\u001b[0m\u001b[0;34m\u001b[0m\u001b[0m\n\u001b[0;32m----> 3\u001b[0;31m \u001b[0mc\u001b[0m\u001b[0;34m.\u001b[0m\u001b[0mbackward\u001b[0m\u001b[0;34m(\u001b[0m\u001b[0mgradient\u001b[0m\u001b[0;34m=\u001b[0m\u001b[0mexternal_grad\u001b[0m\u001b[0;34m)\u001b[0m\u001b[0;34m\u001b[0m\u001b[0;34m\u001b[0m\u001b[0m\n\u001b[0m\u001b[1;32m      4\u001b[0m \u001b[0;34m\u001b[0m\u001b[0m\n\u001b[1;32m      5\u001b[0m \u001b[0;31m# And then optimizer.step and that's it!\u001b[0m\u001b[0;34m\u001b[0m\u001b[0;34m\u001b[0m\u001b[0;34m\u001b[0m\u001b[0m\n",
            "\u001b[0;32m/usr/local/lib/python3.7/dist-packages/torch/_tensor.py\u001b[0m in \u001b[0;36mbackward\u001b[0;34m(self, gradient, retain_graph, create_graph, inputs)\u001b[0m\n\u001b[1;32m    305\u001b[0m                 \u001b[0mcreate_graph\u001b[0m\u001b[0;34m=\u001b[0m\u001b[0mcreate_graph\u001b[0m\u001b[0;34m,\u001b[0m\u001b[0;34m\u001b[0m\u001b[0;34m\u001b[0m\u001b[0m\n\u001b[1;32m    306\u001b[0m                 inputs=inputs)\n\u001b[0;32m--> 307\u001b[0;31m         \u001b[0mtorch\u001b[0m\u001b[0;34m.\u001b[0m\u001b[0mautograd\u001b[0m\u001b[0;34m.\u001b[0m\u001b[0mbackward\u001b[0m\u001b[0;34m(\u001b[0m\u001b[0mself\u001b[0m\u001b[0;34m,\u001b[0m \u001b[0mgradient\u001b[0m\u001b[0;34m,\u001b[0m \u001b[0mretain_graph\u001b[0m\u001b[0;34m,\u001b[0m \u001b[0mcreate_graph\u001b[0m\u001b[0;34m,\u001b[0m \u001b[0minputs\u001b[0m\u001b[0;34m=\u001b[0m\u001b[0minputs\u001b[0m\u001b[0;34m)\u001b[0m\u001b[0;34m\u001b[0m\u001b[0;34m\u001b[0m\u001b[0m\n\u001b[0m\u001b[1;32m    308\u001b[0m \u001b[0;34m\u001b[0m\u001b[0m\n\u001b[1;32m    309\u001b[0m     \u001b[0;32mdef\u001b[0m \u001b[0mregister_hook\u001b[0m\u001b[0;34m(\u001b[0m\u001b[0mself\u001b[0m\u001b[0;34m,\u001b[0m \u001b[0mhook\u001b[0m\u001b[0;34m)\u001b[0m\u001b[0;34m:\u001b[0m\u001b[0;34m\u001b[0m\u001b[0;34m\u001b[0m\u001b[0m\n",
            "\u001b[0;32m/usr/local/lib/python3.7/dist-packages/torch/autograd/__init__.py\u001b[0m in \u001b[0;36mbackward\u001b[0;34m(tensors, grad_tensors, retain_graph, create_graph, grad_variables, inputs)\u001b[0m\n\u001b[1;32m    154\u001b[0m     Variable._execution_engine.run_backward(\n\u001b[1;32m    155\u001b[0m         \u001b[0mtensors\u001b[0m\u001b[0;34m,\u001b[0m \u001b[0mgrad_tensors_\u001b[0m\u001b[0;34m,\u001b[0m \u001b[0mretain_graph\u001b[0m\u001b[0;34m,\u001b[0m \u001b[0mcreate_graph\u001b[0m\u001b[0;34m,\u001b[0m \u001b[0minputs\u001b[0m\u001b[0;34m,\u001b[0m\u001b[0;34m\u001b[0m\u001b[0;34m\u001b[0m\u001b[0m\n\u001b[0;32m--> 156\u001b[0;31m         allow_unreachable=True, accumulate_grad=True)  # allow_unreachable flag\n\u001b[0m\u001b[1;32m    157\u001b[0m \u001b[0;34m\u001b[0m\u001b[0m\n\u001b[1;32m    158\u001b[0m \u001b[0;34m\u001b[0m\u001b[0m\n",
            "\u001b[0;31mRuntimeError\u001b[0m: Trying to backward through the graph a second time (or directly access saved tensors after they have already been freed). Saved intermediate values of the graph are freed when you call .backward() or autograd.grad(). Specify retain_graph=True if you need to backward through the graph a second time or if you need to access saved tensors after calling backward."
          ]
        }
      ]
    },
    {
      "cell_type": "code",
      "metadata": {
        "colab": {
          "base_uri": "https://localhost:8080/"
        },
        "id": "w6lnBikMZC5d",
        "outputId": "59e711f6-11bd-41c0-8d29-71cd95509e84"
      },
      "source": [
        "print(f\"a.grad {a.grad}\")\n",
        "print(f\"b.grad {b.grad}\")"
      ],
      "execution_count": null,
      "outputs": [
        {
          "output_type": "stream",
          "name": "stdout",
          "text": [
            "a.grad tensor([8., 9.])\n",
            "b.grad tensor([2., 3.])\n"
          ]
        }
      ]
    },
    {
      "cell_type": "markdown",
      "metadata": {
        "id": "rUEbWUAVBBg7"
      },
      "source": [
        "# Save model and load later"
      ]
    },
    {
      "cell_type": "code",
      "metadata": {
        "id": "DB0VFhUvAmNy"
      },
      "source": [
        "PATH = 'mynet.pth'\n",
        "torch.save(net.state_dict, PATH)"
      ],
      "execution_count": null,
      "outputs": []
    },
    {
      "cell_type": "code",
      "metadata": {
        "id": "hayocHZlAx1z"
      },
      "source": [
        "loaded_model = torch.load('/content/mynet.pth')"
      ],
      "execution_count": null,
      "outputs": []
    },
    {
      "cell_type": "code",
      "metadata": {
        "colab": {
          "base_uri": "https://localhost:8080/"
        },
        "id": "Oa89FM7EA2J3",
        "outputId": "4901d080-25f5-4552-96a4-569c9d691503"
      },
      "source": [
        "print(loaded_model)\n"
      ],
      "execution_count": null,
      "outputs": [
        {
          "output_type": "stream",
          "name": "stdout",
          "text": [
            "<bound method Module.state_dict of TinyModel(\n",
            "  (linear1): Linear(in_features=100, out_features=1000, bias=True)\n",
            "  (activation): ReLU()\n",
            "  (linear2): Linear(in_features=1000, out_features=10, bias=True)\n",
            "  (softmax): Softmax(dim=None)\n",
            ")>\n"
          ]
        }
      ]
    },
    {
      "cell_type": "markdown",
      "metadata": {
        "id": "TBywrqII9obb"
      },
      "source": [
        "Deploy in production -> HF inference, torchserve\n",
        "\n",
        "Share with friends -> S3, hf dataset, dropobox etc.."
      ]
    },
    {
      "cell_type": "markdown",
      "metadata": {
        "id": "INShGxDOz-ru"
      },
      "source": [
        "# Neural Network Compiler in Python torch.fx\n",
        "Pytorch is mostly written in C++ but you can lots of interesting stuff in Python land"
      ]
    },
    {
      "cell_type": "code",
      "metadata": {
        "id": "VeHxohdeEVmq"
      },
      "source": [
        "# https://pytorch.org/docs/stable/fx.html\n",
        "import torch.fx as fx\n",
        "\n",
        "\n",
        "def transform(m: torch.nn.Module,\n",
        "              tracer_class : type = fx.Tracer) -> torch.nn.Module:\n",
        "    graph : fx.Graph = tracer_class().trace(m)\n",
        "\n",
        "    for node in graph.nodes:\n",
        "      if node.target == \"linear1\":\n",
        "        # Skip the first linear layer and and non linearity\n",
        "        node.target = \"linear2\"\n",
        "\n",
        "    graph.lint()\n",
        "    return fx.GraphModule(m, graph)"
      ],
      "execution_count": null,
      "outputs": []
    },
    {
      "cell_type": "code",
      "metadata": {
        "colab": {
          "base_uri": "https://localhost:8080/"
        },
        "id": "Hjv6bLBQGjgL",
        "outputId": "0934f3ee-c780-486b-cf4b-04ec422b73fa"
      },
      "source": [
        "net = TinyModel()\n",
        "transform(net)"
      ],
      "execution_count": null,
      "outputs": [
        {
          "output_type": "execute_result",
          "data": {
            "text/plain": [
              "GraphModule(\n",
              "  (linear2): Linear(in_features=1000, out_features=10, bias=True)\n",
              "  (activation): ReLU()\n",
              "  (softmax): Softmax(dim=None)\n",
              ")"
            ]
          },
          "metadata": {},
          "execution_count": 62
        }
      ]
    },
    {
      "cell_type": "markdown",
      "metadata": {
        "id": "zV0KRvoCHwwg"
      },
      "source": [
        "# FX applications\n",
        "1. Export to runtime like TensorRT\n",
        "2. Quantization\n",
        "3. Feature extraction torchvision (intermediate feature representation)\n",
        "4. Operator fusion\n",
        "5. What else?\n"
      ]
    },
    {
      "cell_type": "markdown",
      "metadata": {
        "id": "NCH-dXma-xAy"
      },
      "source": [
        "# In the not so distant future\n",
        "`model.fit()` will be all you need.\n",
        "\n",
        "Knowledge of how to train networks from scratch will be lost\n",
        "\n",
        "There won't be any data without a data loader\n",
        "\n",
        "*But maybe this talk helps keep civilization alive*"
      ]
    },
    {
      "cell_type": "markdown",
      "metadata": {
        "id": "sBMkMuO1Lgt2"
      },
      "source": [
        "![apo](https://upload.wikimedia.org/wikipedia/commons/e/e1/Apocalypse_vasnetsov.jpg)\n",
        "\n",
        "Four Horsemen of the Apocalypse, an 1887 painting by Viktor Vasnetsov. From left to right are Death, Famine, War, and Conquest; the Lamb is at the top.\n"
      ]
    },
    {
      "cell_type": "markdown",
      "metadata": {
        "id": "GIHXXEj9LUGN"
      },
      "source": [
        "# How to learn Pytorch\n",
        "1. Read the docs!\n",
        "2. Read good code e.g: Phil Wang, Ross Wightman, HuggingFace, Matthias Fey, fast.ai"
      ]
    },
    {
      "cell_type": "markdown",
      "metadata": {
        "id": "sSsL5BCL6IFb"
      },
      "source": [
        "# How to become a Pytorch developer\n",
        "Get the attention of a Pytorch developer\n",
        "1. Solve issues on github.com/pytorch (start with beginner or bootcamp tasks)\n",
        "2. Create a cool project with Pytorch\n",
        "\n",
        "Most importantly\n",
        "> Follow the gradient of your interests"
      ]
    },
    {
      "cell_type": "code",
      "metadata": {
        "id": "z7rFrC_tvX2J"
      },
      "source": [],
      "execution_count": null,
      "outputs": []
    }
  ]
}